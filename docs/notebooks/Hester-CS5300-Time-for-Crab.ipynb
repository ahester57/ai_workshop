{
 "cells": [
  {
   "metadata": {},
   "cell_type": "markdown",
   "source": [
    "# Time for Crab\n",
    "\n",
    "Crabs are here, and they're mighty tasty.\n",
    "\n",
    "Knowing how old they are helps identify full-sized crabs that are ready for the pot.\n",
    " \n",
    "![Crab](https://storage.googleapis.com/kaggle-datasets-images/1734027/2834512/a0e345e63b3e426ddb489d07cc0090cd/dataset-cover.jpg?t=2021-11-21-06-55-37)\n",
    "\n",
    "Prediction (regression) of mud crab age based on physical features.\n",
    "\n"
   ],
   "id": "a54613a8fdeab682"
  },
  {
   "metadata": {},
   "cell_type": "markdown",
   "source": [
    "## Reasons for Choosing This Dataset\n",
    "\n",
    "A good dataset is the foundation of a good model.\n",
    "\n",
    "#### My reasons:\n",
    "\n",
    "- Highly-rated tabular data with a natural prediction target (Age).\n",
    "- Regression task since I like a challenge.\n",
    "- Features easy to conceptualize for feature engineering.\n",
    "- On the smaller side to quickly iterate on.\n",
    "- Crabs are cool.\n",
    "\n",
    "##### Reasons given by the [dataset on Kaggle](https://www.kaggle.com/datasets/sidhus/crab-age-prediction):\n",
    "\n",
    "> Its a great starting point for classical regression analysis and feature engineering and understand the impact of feature engineering in Data Science domain.\n",
    "> For a commercial crab farmer knowing the right age of the crab helps them decide if and when to harvest the crabs. Beyond a certain age, there is negligible growth in crab's physical characteristics and hence, it is important to time the harvesting to reduce cost and increase profit.\n"
   ],
   "id": "5f63a63ab02b425e"
  },
  {
   "metadata": {},
   "cell_type": "markdown",
   "source": [
    "## Dataset Columns\n",
    "\n",
    "The dataset contains the following columns:\n",
    "\n",
    "---\n",
    "\n",
    "| Column Name    | Description                                                                                         |\n",
    "|----------------|-----------------------------------------------------------------------------------------------------|\n",
    "| Sex            | Gender of the Crab - Male, Female and Indeterminate.                                                |\n",
    "| Length         | Length of the Crab (in Feet; 1 foot = 30.48 cms)                                                    |\n",
    "| Diameter       | Diameter of the Crab (in Feet; 1 foot = 30.48 cms)                                                  |\n",
    "| Height         | Height of the Crab (in Feet; 1 foot = 30.48 cms)                                                    |\n",
    "| Weight         | Weight of the Crab (in ounces; 1 Pound = 16 ounces)                                                 |\n",
    "| Shucked Weight | Weight without the shell (in ounces; 1 Pound = 16 ounces)                                           |\n",
    "| Viscera Weight | is weight that wraps around your abdominal organs deep inside body (in ounces; 1 Pound = 16 ounces) |\n",
    "| Shell Weight   | Weight of the Shell (in ounces; 1 Pound = 16 ounces)                                                |\n",
    "| Age            | Age of the Crab (in months)                                                                         |\n"
   ],
   "id": "e3c125271779e452"
  },
  {
   "metadata": {},
   "cell_type": "markdown",
   "source": [
    "## Import Libraries\n",
    "\n",
    "Let's get the dependencies out of the way."
   ],
   "id": "33f2c3a15496f708"
  },
  {
   "metadata": {
    "ExecuteTime": {
     "end_time": "2024-04-30T05:02:56.458451Z",
     "start_time": "2024-04-30T05:02:56.454438Z"
    }
   },
   "cell_type": "code",
   "source": [
    "import numpy as np\n",
    "import pandas as pd\n",
    "\n",
    "from sklearn.svm import SVC\n",
    "from sklearn.model_selection import cross_val_score, cross_val_predict, train_test_split\n",
    "from sklearn.metrics import accuracy_score, precision_score, recall_score, f1_score\n",
    "\n",
    "try:\n",
    "    # for visual mode. `pip install -e .[visual]`\n",
    "    import matplotlib.pyplot as plt\n",
    "    import matplotlib\n",
    "    %matplotlib inline\n",
    "    import seaborn as sns\n",
    "except ModuleNotFoundError:\n",
    "    plt = None\n",
    "    sns = None\n"
   ],
   "id": "4aa655c1d5efbbf0",
   "outputs": [],
   "execution_count": 14
  },
  {
   "metadata": {},
   "cell_type": "markdown",
   "source": [
    "## Define Constants\n",
    "\n",
    "The PREDICTION_TARGET constant defines the column from the dataset which we will predict."
   ],
   "id": "54623c34bb1f2440"
  },
  {
   "metadata": {
    "ExecuteTime": {
     "end_time": "2024-04-30T05:02:50.810205Z",
     "start_time": "2024-04-30T05:02:50.807534Z"
    }
   },
   "cell_type": "code",
   "source": [
    "PREDICTION_TARGET = 'Age'    # 'Age' is predicted\n",
    "DATASET_COLUMNS = ['Sex','Length','Diameter','Height','Weight','Shucked Weight','Viscera Weight','Shell Weight',PREDICTION_TARGET]\n",
    "REQUIRED_COLUMNS = [PREDICTION_TARGET]\n"
   ],
   "id": "398dea4b56212a12",
   "outputs": [],
   "execution_count": 12
  },
  {
   "metadata": {},
   "cell_type": "markdown",
   "source": [
    "## Define Helper Functions\n",
    "\n",
    "These functions will help us clean, augment, and normalize the data."
   ],
   "id": "38749c7417ebbb95"
  },
  {
   "metadata": {},
   "cell_type": "markdown",
   "source": [
    "### DataFrame Display Function\n",
    "\n",
    "This will be used throughout the notebook to display the DataFrame.\n"
   ],
   "id": "c918c4c4dbdea613"
  },
  {
   "metadata": {
    "ExecuteTime": {
     "end_time": "2024-04-30T05:02:46.519784Z",
     "start_time": "2024-04-30T05:02:46.516369Z"
    }
   },
   "cell_type": "code",
   "source": [
    "def display_df(df:pd.DataFrame, show_missing:bool=True, show_info:bool=False, show_distinct:bool=False) -> None:\n",
    "    \"\"\"Display the DataFrame.\n",
    "    \n",
    "    :param df: The data.\n",
    "    :type df: pd.DataFrame\n",
    "    :param show_missing: Whether to show missing data counts.\n",
    "    :type show_missing: bool\n",
    "    :param show_info: Whether to show info on the data.\n",
    "    :type show_info: bool\n",
    "    :param show_distinct: Whether to show distinct values.\n",
    "    :type show_distinct: bool\n",
    "    \"\"\"\n",
    "    print(f'DataFrame shape: {df.shape}')\n",
    "    print(f'First 5 rows:\\n{df.head()}') # preview the first 5 rows\n",
    "    if show_missing:\n",
    "        # find any non-numeric data\n",
    "        print(f'Missing values:\\n{df.isna().sum()}')\n",
    "    if show_info:\n",
    "        print(f'Info:\\n{df.info()}')\n",
    "    if show_distinct:\n",
    "        for col in df:\n",
    "            print(f'{col} distinct values:\\n{df[col].unique()}')\n"
   ],
   "id": "359715d92e2cf2a",
   "outputs": [],
   "execution_count": 11
  },
  {
   "metadata": {},
   "cell_type": "markdown",
   "source": [
    "### Dataset Cleanup\n",
    "\n",
    "Dirty data is no good for crabs. Let's clean it up.\n",
    "\n",
    "![How to clean a crab](https://www.recipetineats.com/wp-content/uploads/2021/07/Cleaning-and-preparing-crab-template-2.jpg)\n",
    "\n",
    "##### Crab Cleaning Steps\n",
    "\n",
    "- Drop rows missing required columns.\n",
    "- Drop rows missing too many values.\n",
    "- Convert natural booleans\n",
    "    - E.g., `Y/N` or `Positive/Negative` to `0/1`.\n",
    "- Fill nulls for typically-binary variables with the median.\n",
    "- Fill nulls for typically-continuous variables with the median.\n",
    "- Fill nulls for typically-categorical variables with default values.\n",
    "    - E.g., `Unknown`, but domain knowledge is required here.\n",
    "- Fill nulls for typically-text variables with empty strings.\n"
   ],
   "id": "9821d2d81957d41f"
  },
  {
   "metadata": {
    "ExecuteTime": {
     "end_time": "2024-04-30T05:19:53.664730Z",
     "start_time": "2024-04-30T05:19:53.660876Z"
    }
   },
   "cell_type": "code",
   "source": [
    "def data_cleanup(df:pd.DataFrame) -> pd.DataFrame:\n",
    "    \"\"\"Clean-up the DataFrame for crabs.\n",
    "\n",
    "    Update values:\n",
    "        - Drop rows missing required columns.\n",
    "        - Drop rows missing too many values.\n",
    "        - Convert natural booleans\n",
    "            - E.g., `Y/N` or `Positive/Negative` to `0/1`.\n",
    "        - Fill nulls for typically-binary variables with `0.5`.\n",
    "        - Fill nulls for typically-continuous variables with the median.\n",
    "        - Fill nulls for typically-categorical variables with default values.\n",
    "            - E.g., `Unknown`\n",
    "        - Fill nulls for typically-text variables with empty strings.\n",
    "\n",
    "    :param df: The data.\n",
    "    :type df: pd.DataFrame\n",
    "    :return: The data without disposals.\n",
    "    :rtype: pd.DataFrame\n",
    "    \"\"\"\n",
    "    # remove rows missing too many values\n",
    "    df = df.dropna(thresh=3)\n",
    "\n",
    "    # remove rows missing required columns\n",
    "    df = df.dropna(subset=REQUIRED_COLUMNS)\n",
    "\n",
    "    # convert natural booleans\n",
    "    df = df.replace(to_replace={\n",
    "        False: 0, True: 1,\n",
    "        'negative': 0, 'positive': 1,\n",
    "        'No': 0, 'Yes': 1,\n",
    "    })\n",
    "\n",
    "    # fill nulls for typically-binary variables with the median\n",
    "    # df['  '] = df['  '].fillna(df['  '].median())\n",
    "\n",
    "    # fill nulls for typically-continuous variables with the median\n",
    "    # df['  '] = df['  '].fillna(df['  '].median())\n",
    "\n",
    "    # fill nulls for typically-categorical variables with default values\n",
    "    # for example, fill nulls in '  ' with 'Unknown'\n",
    "    # df['  '] = df['  '].fillna('Unknown')\n",
    "\n",
    "    # fill nulls for typically-text variables with empty strings\n",
    "    # for example, fill nulls in '  ' with ''\n",
    "    # df['  '] = df['  '].fillna('')\n",
    "\n",
    "    # determine which features are most important\n",
    "    return df\n"
   ],
   "id": "c29a07714e2dfd7b",
   "outputs": [],
   "execution_count": 21
  },
  {
   "metadata": {},
   "cell_type": "markdown",
   "source": [
    "### Data Augmentation\n",
    "\n",
    "Crabs are complex creatures. Let's engineer some features to help our model find the best crabs for harvest.\n",
    "\n",
    "We'll need to use domain knowledge to extract features from raw data which can be useful in training our model.\n",
    "\n",
    "An example of this would be combining \n"
   ],
   "id": "8dcdc608ff49d099"
  },
  {
   "metadata": {
    "ExecuteTime": {
     "end_time": "2024-04-30T05:19:51.145847Z",
     "start_time": "2024-04-30T05:19:51.142521Z"
    }
   },
   "cell_type": "code",
   "source": [
    "def data_augmentation(df:pd.DataFrame) -> pd.DataFrame:\n",
    "    \"\"\"Add new features to the DataFrame.\n",
    "\n",
    "    Driven by domain knowledge.\n",
    "\n",
    "    :param df: The data.\n",
    "    :type df: pd.DataFrame\n",
    "    :return: The data with new features.\n",
    "    :rtype: pd.DataFrame\n",
    "    \"\"\"\n",
    "    # add new features by combining existing features\n",
    "    df['Edible Weight'] = df['Shucked Weight'] - df['Viscera Weight']\n",
    "    return df\n"
   ],
   "id": "d5c8effc72615374",
   "outputs": [],
   "execution_count": 20
  },
  {
   "metadata": {},
   "cell_type": "markdown",
   "source": [
    "## Data Normalization\n",
    "\n",
    "Crabs come in all shapes and sizes. Let's normalize the data to help our model.\n"
   ],
   "id": "c99e69e15a0166b5"
  },
  {
   "metadata": {
    "ExecuteTime": {
     "end_time": "2024-04-30T05:03:10.888169Z",
     "start_time": "2024-04-30T05:03:10.885041Z"
    }
   },
   "cell_type": "code",
   "source": [
    "def data_normalization(df:pd.DataFrame, a:float=-1., b:float=1.) -> pd.DataFrame:\n",
    "    \"\"\"Normalize the DataFrame from a to b.\n",
    "    \n",
    "    :param df: The data.\n",
    "    :type df: pd.DataFrame\n",
    "    :param a: The minimum value.\n",
    "    :type a: float\n",
    "    :param b: The maximum value.\n",
    "    :type b: float\n",
    "    :return: The normalized data.\n",
    "    :rtype: pd.DataFrame\n",
    "    \"\"\"\n",
    "    # scale the data to a range of [a, b]\n",
    "    df = a + ((df - df.min()) * (b - a)) / (df.max() - df.min())\n",
    "    return df\n"
   ],
   "id": "8757e65e60d77579",
   "outputs": [],
   "execution_count": 17
  },
  {
   "metadata": {},
   "cell_type": "code",
   "outputs": [],
   "execution_count": null,
   "source": "",
   "id": "988caf16992c9577"
  }
 ],
 "metadata": {
  "kernelspec": {
   "display_name": "Python 3",
   "language": "python",
   "name": "python3"
  },
  "language_info": {
   "codemirror_mode": {
    "name": "ipython",
    "version": 2
   },
   "file_extension": ".py",
   "mimetype": "text/x-python",
   "name": "python",
   "nbconvert_exporter": "python",
   "pygments_lexer": "ipython2",
   "version": "2.7.6"
  }
 },
 "nbformat": 4,
 "nbformat_minor": 5
}
