{
 "cells": [
  {
   "metadata": {},
   "cell_type": "markdown",
   "source": [
    "# Time for Crab\n",
    "\n",
    "Crabs are here, and they're mighty tasty.\n",
    "\n",
    "Knowing how old they are helps identify full-sized crabs that are ready for the pot.\n",
    " \n",
    "![Crab](https://storage.googleapis.com/kaggle-datasets-images/1734027/2834512/a0e345e63b3e426ddb489d07cc0090cd/dataset-cover.jpg?t=2021-11-21-06-55-37)\n",
    "\n",
    "Prediction (regression) of mud crab age based on physical features.\n",
    "\n"
   ],
   "id": "a54613a8fdeab682"
  },
  {
   "metadata": {},
   "cell_type": "markdown",
   "source": [
    "## Reasons for Choosing This Dataset\n",
    "\n",
    "A good dataset is the foundation of a good model.\n",
    "\n",
    "#### My reasons:\n",
    "\n",
    "- Highly-rated tabular data with a natural prediction target (Age).\n",
    "- Regression task since I like a challenge.\n",
    "- Features easy to conceptualize for feature engineering.\n",
    "- On the smaller side to quickly iterate on.\n",
    "- Crabs are cool.\n",
    "\n",
    "##### Reasons given by the [dataset on Kaggle](https://www.kaggle.com/datasets/sidhus/crab-age-prediction):\n",
    "\n",
    "> Its a great starting point for classical regression analysis and feature engineering and understand the impact of feature engineering in Data Science domain.\n",
    "> For a commercial crab farmer knowing the right age of the crab helps them decide if and when to harvest the crabs. Beyond a certain age, there is negligible growth in crab's physical characteristics and hence, it is important to time the harvesting to reduce cost and increase profit.\n"
   ],
   "id": "5f63a63ab02b425e"
  },
  {
   "metadata": {},
   "cell_type": "markdown",
   "source": [
    "## Dataset Columns\n",
    "\n",
    "The dataset contains the following columns:\n",
    "\n",
    "---\n",
    "\n",
    "| Column Name    | Description                                                                                         |\n",
    "|----------------|-----------------------------------------------------------------------------------------------------|\n",
    "| Sex            | Gender of the Crab - Male, Female and Indeterminate.                                                |\n",
    "| Length         | Length of the Crab (in Feet; 1 foot = 30.48 cms)                                                    |\n",
    "| Diameter       | Diameter of the Crab (in Feet; 1 foot = 30.48 cms)                                                  |\n",
    "| Height         | Height of the Crab (in Feet; 1 foot = 30.48 cms)                                                    |\n",
    "| Weight         | Weight of the Crab (in ounces; 1 Pound = 16 ounces)                                                 |\n",
    "| Shucked Weight | Weight without the shell (in ounces; 1 Pound = 16 ounces)                                           |\n",
    "| Viscera Weight | is weight that wraps around your abdominal organs deep inside body (in ounces; 1 Pound = 16 ounces) |\n",
    "| Shell Weight   | Weight of the Shell (in ounces; 1 Pound = 16 ounces)                                                |\n",
    "| Age            | Age of the Crab (in months)                                                                         |\n"
   ],
   "id": "e3c125271779e452"
  },
  {
   "metadata": {},
   "cell_type": "markdown",
   "source": [
    "## Import Libraries\n",
    "\n",
    "Let's get the dependencies out of the way."
   ],
   "id": "33f2c3a15496f708"
  },
  {
   "metadata": {
    "ExecuteTime": {
     "end_time": "2024-04-30T07:17:46.453122Z",
     "start_time": "2024-04-30T07:17:46.448776Z"
    }
   },
   "cell_type": "code",
   "source": [
    "import numpy as np\n",
    "import pandas as pd\n",
    "\n",
    "from sklearn.svm import SVC\n",
    "from sklearn.model_selection import cross_val_score, cross_val_predict, train_test_split\n",
    "from sklearn.metrics import accuracy_score, precision_score, recall_score, f1_score\n",
    "\n",
    "try:\n",
    "    # for visual mode. `pip install -e .[visual]`\n",
    "    import matplotlib.pyplot as plt\n",
    "    import matplotlib\n",
    "    %matplotlib inline\n",
    "    import seaborn as sns\n",
    "except ModuleNotFoundError:\n",
    "    plt = None\n",
    "    sns = None\n",
    "\n",
    "pd.set_option('mode.copy_on_write', True)\n",
    "pd.set_option('future.no_silent_downcasting', True)\n"
   ],
   "id": "4aa655c1d5efbbf0",
   "outputs": [],
   "execution_count": 36
  },
  {
   "metadata": {},
   "cell_type": "markdown",
   "source": [
    "## Define Constants\n",
    "\n",
    "The PREDICTION_TARGET constant defines the column from the dataset which we will predict."
   ],
   "id": "54623c34bb1f2440"
  },
  {
   "metadata": {
    "ExecuteTime": {
     "end_time": "2024-04-30T07:17:46.479896Z",
     "start_time": "2024-04-30T07:17:46.477679Z"
    }
   },
   "cell_type": "code",
   "source": [
    "DATASET_FILE = './data/CrabAgePrediction.csv' # 'https://www.kaggle.com/sidhus/crab-age-prediction/download' or './data/CrabAgePrediction.csv'\n",
    "PREDICTION_TARGET = 'Age'    # 'Age' is predicted\n",
    "DATASET_COLUMNS = ['Sex','Length','Diameter','Height','Weight','Shucked Weight','Viscera Weight','Shell Weight',PREDICTION_TARGET]\n",
    "REQUIRED_COLUMNS = [PREDICTION_TARGET]\n"
   ],
   "id": "398dea4b56212a12",
   "outputs": [],
   "execution_count": 37
  },
  {
   "metadata": {},
   "cell_type": "markdown",
   "source": [
    "## Define Helper Functions\n",
    "\n",
    "These functions will help us clean, augment, and normalize the data."
   ],
   "id": "38749c7417ebbb95"
  },
  {
   "metadata": {},
   "cell_type": "markdown",
   "source": [
    "### DataFrame Display Function\n",
    "\n",
    "This will be used throughout the notebook to display the DataFrame.\n",
    "\n",
    "![Mud crab intro](https://dfzljdn9uc3pi.cloudfront.net/2021/10936/1/fig-1-2x.jpg)\n",
    "\n"
   ],
   "id": "c918c4c4dbdea613"
  },
  {
   "metadata": {
    "ExecuteTime": {
     "end_time": "2024-04-30T07:17:46.490427Z",
     "start_time": "2024-04-30T07:17:46.479896Z"
    }
   },
   "cell_type": "code",
   "source": [
    "def display_df(df:pd.DataFrame, show_missing:bool=True, show_info:bool=False, show_distinct:bool=False) -> None:\n",
    "    \"\"\"Display the DataFrame.\n",
    "\n",
    "    :param df: The data.\n",
    "    :param show_missing: Whether to show missing data counts.\n",
    "    :param show_info: Whether to show info on the data.\n",
    "    :param show_distinct: Whether to show distinct values.\n",
    "    \"\"\"\n",
    "    print(f'DataFrame shape: {df.shape}')\n",
    "    print(f'First 5 rows:\\n{df.head()}') # preview the first 5 rows\n",
    "    if show_missing:\n",
    "        # find any non-numeric data\n",
    "        print(f'Missing values:\\n{df.isna().sum()}')\n",
    "    if show_info:\n",
    "        print(f'Info:\\n{df.info()}')\n",
    "    if show_distinct:\n",
    "        for col in df:\n",
    "            print(f'{col} distinct values:\\n{df[col].unique()}')\n"
   ],
   "id": "359715d92e2cf2a",
   "outputs": [],
   "execution_count": 38
  },
  {
   "metadata": {},
   "cell_type": "markdown",
   "source": [
    "### Dataset Cleanup\n",
    "\n",
    "Dirty data is no good for crabs. Let's clean it up.\n",
    "\n",
    "![How to clean a crab](https://www.recipetineats.com/wp-content/uploads/2021/07/Cleaning-and-preparing-crab-template-2.jpg)\n",
    "\n",
    "##### Crab Cleaning Steps\n",
    "\n",
    "- Drop rows missing required columns.\n",
    "- Drop rows missing too many values.\n",
    "- Convert natural booleans\n",
    "    - E.g., `Y/N` or `Positive/Negative` to `0/1`.\n",
    "- Fill nulls for typically-binary variables with the median.\n",
    "- Fill nulls for typically-continuous variables with the median.\n",
    "- Fill nulls for typically-categorical variables with default values.\n",
    "    - E.g., `Unknown`, but domain knowledge is required here.\n",
    "- Fill nulls for typically-text variables with empty strings.\n"
   ],
   "id": "9821d2d81957d41f"
  },
  {
   "metadata": {
    "ExecuteTime": {
     "end_time": "2024-04-30T07:17:46.497945Z",
     "start_time": "2024-04-30T07:17:46.491438Z"
    }
   },
   "cell_type": "code",
   "source": [
    "def data_cleanup(df:pd.DataFrame) -> pd.DataFrame:\n",
    "    \"\"\"Clean-up the DataFrame for crabs.\n",
    "\n",
    "    Update values:\n",
    "        - Drop rows missing required columns.\n",
    "        - Drop rows missing too many values.\n",
    "        - Convert natural booleans\n",
    "            - E.g., `Y/N` or `Positive/Negative` to `0/1`.\n",
    "        - Fill nulls for typically-binary variables with `0.5`.\n",
    "        - Fill nulls for typically-continuous variables with the median.\n",
    "        - Fill nulls for typically-categorical variables with default values.\n",
    "            - E.g., `Unknown`\n",
    "        - Fill nulls for typically-text variables with empty strings.\n",
    "\n",
    "    :param df: The data.\n",
    "    :return: The data without disposals.\n",
    "    \"\"\"\n",
    "    # remove rows missing too many values\n",
    "    df = df.dropna(thresh=3)\n",
    "\n",
    "    # remove rows missing required columns\n",
    "    df = df.dropna(subset=REQUIRED_COLUMNS)\n",
    "\n",
    "    # convert natural booleans\n",
    "    df = df.replace(to_replace={\n",
    "        False: 0, True: 1,\n",
    "        'negative': 0, 'positive': 1,\n",
    "        'No': 0, 'Yes': 1,\n",
    "    })\n",
    "\n",
    "    # fill nulls for typically-binary variables with the median\n",
    "    # df['  '] = df['  '].fillna(df['  '].median())\n",
    "\n",
    "    # fill nulls for typically-continuous variables with the median\n",
    "    # df['  '] = df['  '].fillna(df['  '].median())\n",
    "\n",
    "    # fill nulls for typically-categorical variables with default values\n",
    "    # for example, fill nulls in '  ' with 'Unknown'\n",
    "    # df['  '] = df['  '].fillna('Unknown')\n",
    "\n",
    "    # fill nulls for typically-text variables with empty strings\n",
    "    # for example, fill nulls in '  ' with ''\n",
    "    # df['  '] = df['  '].fillna('')\n",
    "\n",
    "    # determine which features are most important\n",
    "    return df\n"
   ],
   "id": "c29a07714e2dfd7b",
   "outputs": [],
   "execution_count": 39
  },
  {
   "metadata": {},
   "cell_type": "markdown",
   "source": [
    "### Data Augmentation\n",
    "\n",
    "Crabs are complex creatures. Let's engineer some features to help our model find the best crabs for harvest.\n",
    "\n",
    "We'll need to use domain knowledge to extract more features from our dataset's column.\n",
    "\n",
    "For example, we can find the edible weight of the crab by subtracting the viscera weight from the shucked weight.\n",
    "\n",
    "![This kills the crab.](https://i.kym-cdn.com/photos/images/newsfeed/000/112/843/killcrab.jpg)\n"
   ],
   "id": "8dcdc608ff49d099"
  },
  {
   "metadata": {
    "ExecuteTime": {
     "end_time": "2024-04-30T07:17:46.502154Z",
     "start_time": "2024-04-30T07:17:46.497945Z"
    }
   },
   "cell_type": "code",
   "source": [
    "def data_augmentation(df:pd.DataFrame) -> pd.DataFrame:\n",
    "    \"\"\"Add new features to the DataFrame.\n",
    "\n",
    "    Driven by domain knowledge.\n",
    "\n",
    "    :param df: The data.\n",
    "    :return: The data with new features.\n",
    "    \"\"\"\n",
    "    # add new features by combining existing features\n",
    "    df['Edible Weight'] = df['Shucked Weight'] - df['Viscera Weight']\n",
    "    return df\n"
   ],
   "id": "d5c8effc72615374",
   "outputs": [],
   "execution_count": 40
  },
  {
   "metadata": {},
   "cell_type": "markdown",
   "source": [
    "### Data Normalization\n",
    "\n",
    "Crabs come in all shapes and sizes. Let's normalize the data to help our model.\n",
    "\n",
    "![Tiny crab](https://www.popsci.com/uploads/2022/02/09/fiddler-crab.jpg?auto=webp&optimize=high&width=1440)\n",
    "\n",
    "The book *Designing Machine Learning Systems* (Huyen, 2022) suggests normalizing to a range of [-1, 1] helps in practice.\n"
   ],
   "id": "c99e69e15a0166b5"
  },
  {
   "metadata": {
    "ExecuteTime": {
     "end_time": "2024-04-30T07:17:46.507670Z",
     "start_time": "2024-04-30T07:17:46.504159Z"
    }
   },
   "cell_type": "code",
   "source": [
    "def data_normalization(df:pd.DataFrame, a:float=-1., b:float=1.) -> pd.DataFrame:\n",
    "    \"\"\"Normalize the DataFrame from a to b.\n",
    "    \n",
    "    :param df: The data.\n",
    "    :param a: The minimum value.\n",
    "    :param b: The maximum value.\n",
    "    :return: The normalized data.\n",
    "    \"\"\"\n",
    "    # scale the data to a range of [a, b]\n",
    "    df = a + ((df - df.min()) * (b - a)) / (df.max() - df.min())\n",
    "    return df\n"
   ],
   "id": "8757e65e60d77579",
   "outputs": [],
   "execution_count": 41
  },
  {
   "metadata": {},
   "cell_type": "markdown",
   "source": [
    "### Memory Reduction\n",
    "\n",
    "Crabs were never known for their memory. Let's minimize the memory of our DataFrame using the smallest data types to fit the data.\n"
   ],
   "id": "2ba2e360d20547f"
  },
  {
   "metadata": {
    "ExecuteTime": {
     "end_time": "2024-04-30T07:17:46.513279Z",
     "start_time": "2024-04-30T07:17:46.507670Z"
    }
   },
   "cell_type": "code",
   "source": [
    " def reduce_mem_usage(df:pd.DataFrame) -> pd.DataFrame:\n",
    "    \"\"\"Reduce the memory usage of the DataFrame.\n",
    "\n",
    "    :param df: The data.\n",
    "    :return: The data with reduced memory usage.\n",
    "    \"\"\"\n",
    "    numerics = ['int16', 'int32', 'int64', 'float16', 'float32', 'float64']\n",
    "    start_mem = df.memory_usage().sum() / 1024**2\n",
    "    print('Memory usage of dataframe is {:.4f} MB'.format(start_mem), '(before)')\n",
    "    \n",
    "    for col in df.columns:\n",
    "        col_type = df[col].dtype\n",
    "        if col_type in numerics:\n",
    "            c_min = df[col].min()\n",
    "            c_max = df[col].max()\n",
    "            if str(col_type)[:3] == 'int':\n",
    "                if c_min > np.iinfo(np.int8).min and c_max < np.iinfo(np.int8).max:\n",
    "                    df[col] = df[col].astype(np.int8)\n",
    "                elif c_min > np.iinfo(np.int16).min and c_max < np.iinfo(np.int16).max:\n",
    "                    df[col] = df[col].astype(np.int16)\n",
    "                elif c_min > np.iinfo(np.int32).min and c_max < np.iinfo(np.int32).max:\n",
    "                    df[col] = df[col].astype(np.int32)\n",
    "                elif c_min > np.iinfo(np.int64).min and c_max < np.iinfo(np.int64).max:\n",
    "                    df[col] = df[col].astype(np.int64)\n",
    "            else:\n",
    "                if c_min > np.finfo(np.float16).min and c_max < np.finfo(np.float16).max:\n",
    "                    df[col] = df[col].astype(np.float16)\n",
    "                elif c_min > np.finfo(np.float32).min and c_max < np.finfo(np.float32).max:\n",
    "                    df[col] = df[col].astype(np.float32)\n",
    "                else:\n",
    "                    df[col] = df[col].astype(np.float64)\n",
    "        else:\n",
    "            pass\n",
    "\n",
    "    end_mem = df.memory_usage().sum() / 1024**2\n",
    "    print('Memory usage of dataframe is {:.4f} MB'.format(end_mem), '(after)')\n",
    "    print('Reduced {:.1f}%'.format(100 * (start_mem - end_mem) / start_mem))\n",
    "    \n",
    "    return df\n"
   ],
   "id": "988caf16992c9577",
   "outputs": [],
   "execution_count": 42
  },
  {
   "metadata": {},
   "cell_type": "markdown",
   "source": [
    "## Load the Data\n",
    "\n",
    "Get that pot of water ready. It's crab cookin' time.\n",
    "\n",
    "![Crab pot](https://chefscornerstore.com/product_images/uploaded_images/steaming-crabs.jpg)\n"
   ],
   "id": "1ffecbcca9d913f5"
  },
  {
   "metadata": {
    "ExecuteTime": {
     "end_time": "2024-04-30T07:17:46.568227Z",
     "start_time": "2024-04-30T07:17:46.535314Z"
    }
   },
   "cell_type": "code",
   "source": [
    "\n",
    "df = pd.read_csv(DATASET_FILE)\n",
    "display_df(df)"
   ],
   "id": "76138636e779388e",
   "outputs": [
    {
     "name": "stdout",
     "output_type": "stream",
     "text": [
      "DataFrame shape: (3893, 9)\n",
      "First 5 rows:\n",
      "  Sex  Length  Diameter  Height     Weight  Shucked Weight  Viscera Weight  \\\n",
      "0   F  1.4375    1.1750  0.4125  24.635715       12.332033        5.584852   \n",
      "1   M  0.8875    0.6500  0.2125   5.400580        2.296310        1.374951   \n",
      "2   I  1.0375    0.7750  0.2500   7.952035        3.231843        1.601747   \n",
      "3   F  1.1750    0.8875  0.2500  13.480187        4.748541        2.282135   \n",
      "4   I  0.8875    0.6625  0.2125   6.903103        3.458639        1.488349   \n",
      "\n",
      "   Shell Weight  Age  \n",
      "0      6.747181    9  \n",
      "1      1.559222    6  \n",
      "2      2.764076    6  \n",
      "3      5.244657   10  \n",
      "4      1.700970    6  \n",
      "Missing values:\n",
      "Sex               0\n",
      "Length            0\n",
      "Diameter          0\n",
      "Height            0\n",
      "Weight            0\n",
      "Shucked Weight    0\n",
      "Viscera Weight    0\n",
      "Shell Weight      0\n",
      "Age               0\n",
      "dtype: int64\n"
     ]
    }
   ],
   "execution_count": 43
  }
 ],
 "metadata": {
  "kernelspec": {
   "display_name": "Python 3",
   "language": "python",
   "name": "python3"
  },
  "language_info": {
   "codemirror_mode": {
    "name": "ipython",
    "version": 2
   },
   "file_extension": ".py",
   "mimetype": "text/x-python",
   "name": "python",
   "nbconvert_exporter": "python",
   "pygments_lexer": "ipython2",
   "version": "2.7.6"
  }
 },
 "nbformat": 4,
 "nbformat_minor": 5
}
