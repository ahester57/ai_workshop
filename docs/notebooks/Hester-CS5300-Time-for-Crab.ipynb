{
 "cells": [
  {
   "metadata": {},
   "cell_type": "markdown",
   "source": [
    "# Time for Crab\n",
    "\n",
    "Crabs are here, and they're mighty tasty.\n",
    "\n",
    "Prediction (regression) of mud crab Age based on physical features.\n",
    "\n"
   ],
   "id": "a54613a8fdeab682"
  },
  {
   "metadata": {},
   "cell_type": "markdown",
   "source": [
    "### Reasons for Choosing This Dataset\n",
    "\n",
    "##### Reasons given by the [dataset on Kaggle](https://www.kaggle.com/datasets/sidhus/crab-age-prediction):\n",
    "\n",
    "> Its a great starting point for classical regression analysis and feature engineering and understand the impact of feature engineering in Data Science domain.\n",
    "> For a commercial crab farmer knowing the right age of the crab helps them decide if and when to harvest the crabs. Beyond a certain age, there is negligible growth in crab's physical characteristics and hence, it is important to time the harvesting to reduce cost and increase profit.\n",
    "\n",
    "##### My reasons:\n",
    "\n",
    "- Highly-rated tabular data with a natural prediction target (Age).\n",
    "- Regression task since I like a challenge.\n",
    "- Features easy to conceptualize for feature engineering."
   ],
   "id": "5f63a63ab02b425e"
  },
  {
   "metadata": {},
   "cell_type": "markdown",
   "source": [
    "## Dataset Columns\n",
    "\n",
    "| Column Name    | Description                                                                                         |\n",
    "|----------------|-----------------------------------------------------------------------------------------------------|\n",
    "| Sex            | Gender of the Crab - Male, Female and Indeterminate.                                                |\n",
    "| Length         | Length of the Crab (in Feet; 1 foot = 30.48 cms)                                                    |\n",
    "| Diameter       | Diameter of the Crab (in Feet; 1 foot = 30.48 cms)                                                  |\n",
    "| Height         | Height of the Crab (in Feet; 1 foot = 30.48 cms)                                                    |\n",
    "| Weight         | Weight of the Crab (in ounces; 1 Pound = 16 ounces)                                                 |\n",
    "| Shucked Weight | Weight without the shell (in ounces; 1 Pound = 16 ounces)                                           |\n",
    "| Viscera Weight | is weight that wraps around your abdominal organs deep inside body (in ounces; 1 Pound = 16 ounces) |\n",
    "| Shell Weight   | Weight of the Shell (in ounces; 1 Pound = 16 ounces)                                                |\n",
    "| Age            | Age of the Crab (in months)                                                                         |\n"
   ],
   "id": "e3c125271779e452"
  },
  {
   "metadata": {},
   "cell_type": "markdown",
   "source": "## Import Libraries",
   "id": "33f2c3a15496f708"
  },
  {
   "metadata": {
    "ExecuteTime": {
     "end_time": "2024-04-29T14:45:22.882230Z",
     "start_time": "2024-04-29T14:45:21.559120Z"
    }
   },
   "cell_type": "code",
   "source": [
    "import numpy as np\n",
    "import pandas as pd\n",
    "\n",
    "from sklearn.svm import SVC\n",
    "from sklearn.model_selection import cross_val_score, cross_val_predict, train_test_split\n",
    "from sklearn.metrics import accuracy_score, precision_score, recall_score, f1_score\n",
    "\n",
    "try:\n",
    "    # for visual mode. `pip install -e .[visual]`\n",
    "    import matplotlib.pyplot as plt\n",
    "    import matplotlib\n",
    "    %matplotlib inline\n",
    "    import seaborn as sns\n",
    "except ModuleNotFoundError:\n",
    "    plt = None\n",
    "    sns = None"
   ],
   "id": "4aa655c1d5efbbf0",
   "outputs": [],
   "execution_count": 3
  },
  {
   "metadata": {},
   "cell_type": "markdown",
   "source": [
    "## Define Constants\n",
    "\n",
    "The TARGET_LABEL defines which column from the dataset which we will be predicting."
   ],
   "id": "54623c34bb1f2440"
  },
  {
   "metadata": {
    "ExecuteTime": {
     "end_time": "2024-04-29T14:49:12.199775Z",
     "start_time": "2024-04-29T14:49:12.197216Z"
    }
   },
   "cell_type": "code",
   "source": [
    "#CONSTANT = 'value'\n",
    "TARGET_LABEL = 'Age'    # 'Age' is predicted"
   ],
   "id": "398dea4b56212a12",
   "outputs": [],
   "execution_count": 6
  },
  {
   "metadata": {},
   "cell_type": "markdown",
   "source": "## DataFrame Display Function\n",
   "id": "c918c4c4dbdea613"
  },
  {
   "metadata": {
    "ExecuteTime": {
     "end_time": "2024-04-29T14:49:17.810212Z",
     "start_time": "2024-04-29T14:49:17.807098Z"
    }
   },
   "cell_type": "code",
   "source": [
    "def display_df(df:pd.DataFrame, show_missing:bool=True, show_info:bool=False) -> None:\n",
    "    \"\"\"Display the DataFrame.\n",
    "    \n",
    "    :param df: The data.\n",
    "    :type df: pd.DataFrame\n",
    "    :param show_missing: Whether to show missing data counts.\n",
    "    :type show_missing: bool\n",
    "    :param show_info: Whether to show info on the data.\n",
    "    :type show_info: bool\n",
    "    \"\"\"\n",
    "    print(f'DataFrame shape: {df.shape}')\n",
    "    print(f'First 5 rows:\\n{df.head()}') # preview the first 5 rows\n",
    "    if show_missing:\n",
    "        # find any non-numeric data\n",
    "        print(f'Missing values:\\n{df.isna().sum()}')\n",
    "    if show_info:\n",
    "        print(f'Info:\\n{df.info()}')"
   ],
   "id": "359715d92e2cf2a",
   "outputs": [],
   "execution_count": 7
  },
  {
   "metadata": {},
   "cell_type": "markdown",
   "source": "## Dataset Cleanup\n",
   "id": "9821d2d81957d41f"
  },
  {
   "metadata": {
    "ExecuteTime": {
     "end_time": "2024-04-29T14:49:22.703844Z",
     "start_time": "2024-04-29T14:49:22.701084Z"
    }
   },
   "cell_type": "code",
   "source": [
    "def data_disposal(df:pd.DataFrame) -> pd.DataFrame:\n",
    "    \"\"\"Clean-up the DataFrame for crabs.\n",
    "    \n",
    "    :param df: The data.\n",
    "    :type df: pd.DataFrame\n",
    "    :return: The data without disposals.\n",
    "    :rtype: pd.DataFrame\n",
    "    \"\"\"\n",
    "    # remove rows missing too many values\n",
    "    required_fields=[TARGET_LABEL, 'Cough_symptoms', 'Fever', 'Sore_throat', 'Shortness_of_breath', 'Headache']\n",
    "    print(f'Dropping the rows missing required columns: {required_fields}')\n",
    "    df = df.dropna(subset=required_fields)\n",
    "    # weird find, get rid of rows where diagnosis is 'other'\n",
    "    df = df[df[TARGET_LABEL] != 'other']\n",
    "    return df"
   ],
   "id": "c29a07714e2dfd7b",
   "outputs": [],
   "execution_count": 8
  },
  {
   "metadata": {},
   "cell_type": "code",
   "outputs": [],
   "execution_count": null,
   "source": "",
   "id": "58f77393c0689513"
  }
 ],
 "metadata": {
  "kernelspec": {
   "display_name": "Python 3",
   "language": "python",
   "name": "python3"
  },
  "language_info": {
   "codemirror_mode": {
    "name": "ipython",
    "version": 2
   },
   "file_extension": ".py",
   "mimetype": "text/x-python",
   "name": "python",
   "nbconvert_exporter": "python",
   "pygments_lexer": "ipython2",
   "version": "2.7.6"
  }
 },
 "nbformat": 4,
 "nbformat_minor": 5
}
