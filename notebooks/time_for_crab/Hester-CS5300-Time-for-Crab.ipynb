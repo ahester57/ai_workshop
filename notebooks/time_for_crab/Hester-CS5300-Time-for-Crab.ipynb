{
 "cells": [
  {
   "metadata": {},
   "cell_type": "markdown",
   "source": [
    "# Time for Crab\n",
    "\n",
    "## Introduction\n",
    "\n",
    "Crabs are here, and they're mighty tasty.\n",
    "\n",
    "Knowing how old they are helps identify full-sized crabs that are ready for the pot.\n",
    " \n",
    "![Crab](https://storage.googleapis.com/kaggle-datasets-images/1734027/2834512/a0e345e63b3e426ddb489d07cc0090cd/dataset-cover.jpg?t=2021-11-21-06-55-37)\n",
    "\n",
    "Prediction (regression) of mud crab age based on physical features.\n",
    "\n"
   ],
   "id": "a54613a8fdeab682"
  },
  {
   "metadata": {},
   "cell_type": "markdown",
   "source": [
    "## Reasons for Choosing This Dataset\n",
    "\n",
    "A good dataset is the foundation of a good model.\n",
    "\n",
    "#### My reasons:\n",
    "\n",
    "- Highly-rated tabular data with a natural prediction target (Age).\n",
    "- Regression task since I like a challenge.\n",
    "- Features easy to conceptualize for feature engineering.\n",
    "- On the smaller side to quickly iterate on.\n",
    "- Crabs are cool.\n",
    "\n",
    "##### Reasons given by the [dataset on Kaggle](https://www.kaggle.com/datasets/sidhus/crab-age-prediction):\n",
    "\n",
    "> Its a great starting point for classical regression analysis and feature engineering and understand the impact of feature engineering in Data Science domain.\n",
    "> For a commercial crab farmer knowing the right age of the crab helps them decide if and when to harvest the crabs. Beyond a certain age, there is negligible growth in crab's physical characteristics and hence, it is important to time the harvesting to reduce cost and increase profit.\n"
   ],
   "id": "5f63a63ab02b425e"
  },
  {
   "metadata": {},
   "cell_type": "markdown",
   "source": [
    "## Dataset Columns\n",
    "\n",
    "The dataset contains the following columns:\n",
    "\n",
    "---\n",
    "\n",
    "| Column Name    | Description                                                                                         |\n",
    "|----------------|-----------------------------------------------------------------------------------------------------|\n",
    "| Sex            | Gender of the Crab - Male, Female and Indeterminate.                                                |\n",
    "| Length         | Length of the Crab (in Feet; 1 foot = 30.48 cms)                                                    |\n",
    "| Diameter       | Diameter of the Crab (in Feet; 1 foot = 30.48 cms)                                                  |\n",
    "| Height         | Height of the Crab (in Feet; 1 foot = 30.48 cms)                                                    |\n",
    "| Weight         | Weight of the Crab (in ounces; 1 Pound = 16 ounces)                                                 |\n",
    "| Shucked Weight | Weight without the shell (in ounces; 1 Pound = 16 ounces)                                           |\n",
    "| Viscera Weight | is weight that wraps around your abdominal organs deep inside body (in ounces; 1 Pound = 16 ounces) |\n",
    "| Shell Weight   | Weight of the Shell (in ounces; 1 Pound = 16 ounces)                                                |\n",
    "| Age            | Age of the Crab (in months)                                                                         |\n"
   ],
   "id": "e3c125271779e452"
  },
  {
   "metadata": {},
   "cell_type": "markdown",
   "source": [
    "## Import Libraries\n",
    "\n",
    "Let's get the dependencies out of the way."
   ],
   "id": "33f2c3a15496f708"
  },
  {
   "metadata": {
    "ExecuteTime": {
     "end_time": "2024-04-30T23:33:40.662542Z",
     "start_time": "2024-04-30T23:33:40.658886Z"
    }
   },
   "cell_type": "code",
   "source": [
    "import numpy as np\n",
    "import pandas as pd\n",
    "\n",
    "#from sklearn.svm import SVC\n",
    "#from sklearn.model_selection import cross_val_score, cross_val_predict, train_test_split\n",
    "#from sklearn.metrics import accuracy_score, precision_score, recall_score, f1_score\n",
    "\n",
    "try:\n",
    "    # for visual mode. `pip install -e .[visual]`\n",
    "    import matplotlib.pyplot as plt\n",
    "    import matplotlib\n",
    "    %matplotlib inline\n",
    "    import seaborn as sns\n",
    "except ModuleNotFoundError:\n",
    "    plt = None\n",
    "    sns = None\n",
    "\n",
    "pd.set_option('mode.copy_on_write', True)\n",
    "pd.set_option('future.no_silent_downcasting', True)\n"
   ],
   "id": "4aa655c1d5efbbf0",
   "outputs": [],
   "execution_count": 41
  },
  {
   "metadata": {},
   "cell_type": "markdown",
   "source": [
    "## Define Constants\n",
    "\n",
    "The PREDICTION_TARGET constant defines the column from the dataset which we will predict."
   ],
   "id": "54623c34bb1f2440"
  },
  {
   "metadata": {
    "ExecuteTime": {
     "end_time": "2024-04-30T23:33:40.687087Z",
     "start_time": "2024-04-30T23:33:40.683583Z"
    }
   },
   "cell_type": "code",
   "source": [
    "DATASET_FILE = './datasets/CrabAgePrediction.csv' # 'https://www.kaggle.com/sidhus/crab-age-prediction/download' or './data/CrabAgePrediction.csv'\n",
    "PREDICTION_TARGET = 'Age'    # 'Age' is predicted\n",
    "DATASET_COLUMNS = ['Sex','Length','Diameter','Height','Weight','Shucked Weight','Viscera Weight','Shell Weight',PREDICTION_TARGET]\n",
    "REQUIRED_COLUMNS = [PREDICTION_TARGET]\n"
   ],
   "id": "398dea4b56212a12",
   "outputs": [],
   "execution_count": 42
  },
  {
   "metadata": {},
   "cell_type": "markdown",
   "source": [
    "## Define Helper Functions\n",
    "\n",
    "These functions will help us clean, augment, and normalize the data."
   ],
   "id": "38749c7417ebbb95"
  },
  {
   "metadata": {},
   "cell_type": "markdown",
   "source": [
    "### DataFrame Display Function\n",
    "\n",
    "This will be used throughout the notebook to display the DataFrame.\n",
    "\n",
    "![Mud crab intro](https://dfzljdn9uc3pi.cloudfront.net/2021/10936/1/fig-1-2x.jpg)\n",
    "\n"
   ],
   "id": "c918c4c4dbdea613"
  },
  {
   "metadata": {
    "ExecuteTime": {
     "end_time": "2024-04-30T23:33:40.691058Z",
     "start_time": "2024-04-30T23:33:40.688094Z"
    }
   },
   "cell_type": "code",
   "source": [
    "def display_df(df:pd.DataFrame, show_info:bool=True, show_missing:bool=False, show_distinct:bool=False) -> None:\n",
    "    \"\"\"Display the DataFrame.\n",
    "\n",
    "    :param df: The data.\n",
    "    :param show_info: Whether to show info on the data.\n",
    "    :param show_missing: Whether to show missing data counts.\n",
    "    :param show_distinct: Whether to show distinct values.\n",
    "    \"\"\"\n",
    "    print(f'DataFrame shape: {df.shape}')\n",
    "    print(f'First 5 rows:\\n{df.head()}') # preview the first 5 rows\n",
    "    if show_info:\n",
    "        print(f'Info:\\n{df.info()}')\n",
    "    if show_missing:\n",
    "        print(f'Missing values:\\n{df.isna().sum()}')\n",
    "    if show_distinct:\n",
    "        for col in df:\n",
    "            print(f'{col} distinct values:\\n{df[col].unique()[0:10]}')\n"
   ],
   "id": "359715d92e2cf2a",
   "outputs": [],
   "execution_count": 43
  },
  {
   "metadata": {},
   "cell_type": "markdown",
   "source": [
    "### Dataset Cleanup\n",
    "\n",
    "Dirty data is no good for crabs. Let's clean it up.\n",
    "\n",
    "![How to clean a crab](https://www.recipetineats.com/wp-content/uploads/2021/07/Cleaning-and-preparing-crab-template-2.jpg)\n",
    "\n",
    "#### Crab Cleaning Steps\n",
    "\n",
    "- Drop rows missing required columns.\n",
    "- Drop rows missing too many values.\n",
    "- Convert natural booleans\n",
    "    - E.g., `Y/N` or `Positive/Negative` to `0/1`.\n",
    "- Fill nulls for typically-binary variables with the median.\n",
    "- Fill nulls for typically-continuous variables with the median.\n",
    "- Fill nulls for typically-categorical variables with default values.\n",
    "    - E.g., `Unknown`, but domain knowledge is required here.\n",
    "- Fill nulls for typically-text variables with empty strings.\n",
    "- One-hot encode categorical variables.\n"
   ],
   "id": "9821d2d81957d41f"
  },
  {
   "metadata": {
    "ExecuteTime": {
     "end_time": "2024-04-30T23:33:40.701778Z",
     "start_time": "2024-04-30T23:33:40.698118Z"
    }
   },
   "cell_type": "code",
   "source": [
    "def data_cleanup(df:pd.DataFrame) -> pd.DataFrame:\n",
    "    \"\"\"Clean-up the DataFrame for crabs.\n",
    "\n",
    "    Update values:\n",
    "        - Drop rows missing required columns.\n",
    "        - Drop rows missing too many values.\n",
    "        - Convert natural booleans\n",
    "            - E.g., `Y/N` or `Positive/Negative` to `0/1`.\n",
    "        - Fill nulls for typically-binary variables with `0.5`.\n",
    "        - Fill nulls for typically-continuous variables with the median.\n",
    "        - Fill nulls for typically-categorical variables with default values.\n",
    "            - E.g., `Unknown`\n",
    "        - Fill nulls for typically-text variables with empty strings.\n",
    "        - One-hot encode categorical variables.\n",
    "\n",
    "    :param df: The data.\n",
    "    :return: The data without disposals.\n",
    "    \"\"\"\n",
    "    # remove rows missing too many values\n",
    "    df = df.dropna(thresh=3)\n",
    "\n",
    "    # remove rows missing required columns\n",
    "    df = df.dropna(subset=REQUIRED_COLUMNS)\n",
    "\n",
    "    # convert natural booleans\n",
    "    df = df.replace(to_replace={\n",
    "        False: 0, True: 1,\n",
    "        'negative': 0, 'positive': 1,\n",
    "        'No': 0, 'Yes': 1,\n",
    "    })\n",
    "\n",
    "    # fill nulls for typically-binary variables with the median\n",
    "    # df['  '] = df['  '].fillna(df['  '].median())\n",
    "\n",
    "    # fill nulls for typically-continuous variables with the median\n",
    "    # df['  '] = df['  '].fillna(df['  '].median())\n",
    "\n",
    "    # fill nulls for typically-categorical variables with default values\n",
    "    # df['  '] = df['  '].fillna('Unknown')\n",
    "\n",
    "    # fill nulls for typically-text variables with empty strings\n",
    "    # df['  '] = df['  '].fillna('')\n",
    "\n",
    "    # one-hot encode categorical variables\n",
    "    df = pd.get_dummies(df, columns=['Sex'])\n",
    "\n",
    "    # determine which features are most important\n",
    "    return df\n"
   ],
   "id": "c29a07714e2dfd7b",
   "outputs": [],
   "execution_count": 44
  },
  {
   "metadata": {},
   "cell_type": "markdown",
   "source": [
    "### Data Augmentation\n",
    "\n",
    "Crabs are complex creatures. Let's engineer some features to help our model find the best crabs for harvest.\n",
    "\n",
    "We'll need to use domain knowledge to extract more features from our dataset's column.\n",
    "\n",
    "![This kills the crab.](https://i.kym-cdn.com/photos/images/newsfeed/000/112/843/killcrab.jpg)\n",
    "\n",
    "For example, we can find the edible weight of the crab by subtracting the viscera weight from the shucked weight.\n"
   ],
   "id": "8dcdc608ff49d099"
  },
  {
   "metadata": {
    "ExecuteTime": {
     "end_time": "2024-04-30T23:33:40.706210Z",
     "start_time": "2024-04-30T23:33:40.701778Z"
    }
   },
   "cell_type": "code",
   "source": [
    "def data_augmentation(df:pd.DataFrame) -> pd.DataFrame:\n",
    "    \"\"\"Add new features to the DataFrame.\n",
    "\n",
    "    Driven by domain knowledge.\n",
    "\n",
    "    :param df: The data.\n",
    "    :return: The data with new features.\n",
    "    \"\"\"\n",
    "    # add new features by combining existing features\n",
    "    df['Edible Weight'] = df['Shucked Weight'] - df['Viscera Weight']\n",
    "    return df\n"
   ],
   "id": "d5c8effc72615374",
   "outputs": [],
   "execution_count": 45
  },
  {
   "metadata": {},
   "cell_type": "markdown",
   "source": [
    "### Data Normalization\n",
    "\n",
    "Crabs come in all shapes and sizes. Let's normalize the data to help our model.\n",
    "\n",
    "![Tiny crab](https://www.popsci.com/uploads/2022/02/09/fiddler-crab.jpg?auto=webp&optimize=high&width=1440)\n",
    "\n",
    "The book *Designing Machine Learning Systems* (Huyen, 2022) suggests normalizing to a range of [-1, 1] helps in practice.\n"
   ],
   "id": "c99e69e15a0166b5"
  },
  {
   "metadata": {
    "ExecuteTime": {
     "end_time": "2024-04-30T23:33:40.710658Z",
     "start_time": "2024-04-30T23:33:40.706210Z"
    }
   },
   "cell_type": "code",
   "source": [
    "def data_normalization(df:pd.DataFrame, a:float=-1., b:float=1.) -> pd.DataFrame:\n",
    "    \"\"\"Normalize the DataFrame from a to b.\n",
    "    \n",
    "    :param df: The data.\n",
    "    :param a: The minimum value.\n",
    "    :param b: The maximum value.\n",
    "    :return: The normalized data.\n",
    "    \"\"\"\n",
    "    # scale the data to a range of [a, b]\n",
    "    df = a + ((df - df.min()) * (b - a)) / (df.max() - df.min())\n",
    "    return df\n"
   ],
   "id": "8757e65e60d77579",
   "outputs": [],
   "execution_count": 46
  },
  {
   "metadata": {},
   "cell_type": "markdown",
   "source": [
    "## Exploratory Data Analysis\n",
    "\n",
    "Get that pot of water ready. It's crab cookin' time.\n",
    "\n",
    "![Crab pot](https://chefscornerstore.com/product_images/uploaded_images/steaming-crabs.jpg)\n",
    "\n",
    "#### Open the file and display using our helper function\n",
    "\n",
    "Analyzing the output here will help us revise our data cleanup and augmentation functions.\n"
   ],
   "id": "1ffecbcca9d913f5"
  },
  {
   "metadata": {
    "ExecuteTime": {
     "end_time": "2024-04-30T23:33:40.726179Z",
     "start_time": "2024-04-30T23:33:40.710658Z"
    }
   },
   "cell_type": "code",
   "source": [
    "crabs = pd.read_csv(DATASET_FILE)  # load the data\n",
    "display_df(crabs, show_info=True, show_missing=True, show_distinct=True)\n"
   ],
   "id": "76138636e779388e",
   "outputs": [
    {
     "name": "stdout",
     "output_type": "stream",
     "text": [
      "DataFrame shape: (3893, 9)\n",
      "First 5 rows:\n",
      "  Sex  Length  Diameter  Height     Weight  Shucked Weight  Viscera Weight  \\\n",
      "0   F  1.4375    1.1750  0.4125  24.635715       12.332033        5.584852   \n",
      "1   M  0.8875    0.6500  0.2125   5.400580        2.296310        1.374951   \n",
      "2   I  1.0375    0.7750  0.2500   7.952035        3.231843        1.601747   \n",
      "3   F  1.1750    0.8875  0.2500  13.480187        4.748541        2.282135   \n",
      "4   I  0.8875    0.6625  0.2125   6.903103        3.458639        1.488349   \n",
      "\n",
      "   Shell Weight  Age  \n",
      "0      6.747181    9  \n",
      "1      1.559222    6  \n",
      "2      2.764076    6  \n",
      "3      5.244657   10  \n",
      "4      1.700970    6  \n",
      "<class 'pandas.core.frame.DataFrame'>\n",
      "RangeIndex: 3893 entries, 0 to 3892\n",
      "Data columns (total 9 columns):\n",
      " #   Column          Non-Null Count  Dtype  \n",
      "---  ------          --------------  -----  \n",
      " 0   Sex             3893 non-null   object \n",
      " 1   Length          3893 non-null   float64\n",
      " 2   Diameter        3893 non-null   float64\n",
      " 3   Height          3893 non-null   float64\n",
      " 4   Weight          3893 non-null   float64\n",
      " 5   Shucked Weight  3893 non-null   float64\n",
      " 6   Viscera Weight  3893 non-null   float64\n",
      " 7   Shell Weight    3893 non-null   float64\n",
      " 8   Age             3893 non-null   int64  \n",
      "dtypes: float64(7), int64(1), object(1)\n",
      "memory usage: 273.9+ KB\n",
      "Info:\n",
      "None\n",
      "Missing values:\n",
      "Sex               0\n",
      "Length            0\n",
      "Diameter          0\n",
      "Height            0\n",
      "Weight            0\n",
      "Shucked Weight    0\n",
      "Viscera Weight    0\n",
      "Shell Weight      0\n",
      "Age               0\n",
      "dtype: int64\n",
      "Sex distinct values:\n",
      "['F' 'M' 'I']\n",
      "Length distinct values:\n",
      "[1.4375 0.8875 1.0375 1.175  1.55   1.3    1.325  1.5875 0.9125 0.825 ]\n",
      "Diameter distinct values:\n",
      "[1.175  0.65   0.775  0.8875 0.6625 1.1625 1.     1.0125 1.25   0.6875]\n",
      "Height distinct values:\n",
      "[0.4125 0.2125 0.25   0.35   0.325  0.375  0.3375 0.1875 0.4375 0.225 ]\n",
      "Weight distinct values:\n",
      "[24.6357155   5.40057975  7.95203475 13.48018725  6.90310325 28.6613445\n",
      " 17.70426275 23.57260925 42.2124055   6.80388   ]\n",
      "Shucked Weight distinct values:\n",
      "[12.3320325   2.2963095   3.231843    4.74854125  3.458639   13.5794105\n",
      "  6.0951425   9.979024   20.2698925   3.061746  ]\n",
      "Viscera Weight distinct values:\n",
      "[5.5848515  1.37495075 1.60174675 2.28213475 1.48834875 6.76135575\n",
      " 5.85417175 5.3013565  9.76640275 1.26155275]\n",
      "Shell Weight distinct values:\n",
      "[ 6.747181    1.5592225   2.76407625  5.2446575   1.70097     7.2291225\n",
      "  4.819415    7.15824875 10.24834425  2.08368825]\n",
      "Age distinct values:\n",
      "[ 9  6 10  8 15 13  7 11 12  5]\n"
     ]
    }
   ],
   "execution_count": 47
  },
  {
   "metadata": {},
   "cell_type": "markdown",
   "source": [
    "### Cleanup the Data\n",
    "\n",
    "Let's clean up the data and display it again.\n",
    "\n",
    "#### Missing Values\n",
    "\n",
    "No missing values! We're off to a good start with this dataset. Will crab be on the menu tonight?\n",
    "\n",
    "#### Non-numeric Data\n",
    "\n",
    "It looks like 'Sex' is a categorical variable. We'll need to convert this to a numeric value. Let's use **one-hot encoding**.\n"
   ],
   "id": "db33039da235214b"
  },
  {
   "metadata": {
    "ExecuteTime": {
     "end_time": "2024-04-30T23:33:40.738228Z",
     "start_time": "2024-04-30T23:33:40.726179Z"
    }
   },
   "cell_type": "code",
   "source": [
    "crabs = data_cleanup(crabs)\n",
    "display_df(crabs, show_info=True, show_missing=False, show_distinct=True)\n"
   ],
   "id": "80c1be61989dd00",
   "outputs": [
    {
     "name": "stdout",
     "output_type": "stream",
     "text": [
      "DataFrame shape: (3893, 11)\n",
      "First 5 rows:\n",
      "   Length  Diameter  Height     Weight  Shucked Weight  Viscera Weight  \\\n",
      "0  1.4375    1.1750  0.4125  24.635715       12.332033        5.584852   \n",
      "1  0.8875    0.6500  0.2125   5.400580        2.296310        1.374951   \n",
      "2  1.0375    0.7750  0.2500   7.952035        3.231843        1.601747   \n",
      "3  1.1750    0.8875  0.2500  13.480187        4.748541        2.282135   \n",
      "4  0.8875    0.6625  0.2125   6.903103        3.458639        1.488349   \n",
      "\n",
      "   Shell Weight  Age  Sex_F  Sex_I  Sex_M  \n",
      "0      6.747181    9   True  False  False  \n",
      "1      1.559222    6  False  False   True  \n",
      "2      2.764076    6  False   True  False  \n",
      "3      5.244657   10   True  False  False  \n",
      "4      1.700970    6  False   True  False  \n",
      "<class 'pandas.core.frame.DataFrame'>\n",
      "RangeIndex: 3893 entries, 0 to 3892\n",
      "Data columns (total 11 columns):\n",
      " #   Column          Non-Null Count  Dtype  \n",
      "---  ------          --------------  -----  \n",
      " 0   Length          3893 non-null   float64\n",
      " 1   Diameter        3893 non-null   float64\n",
      " 2   Height          3893 non-null   float64\n",
      " 3   Weight          3893 non-null   float64\n",
      " 4   Shucked Weight  3893 non-null   float64\n",
      " 5   Viscera Weight  3893 non-null   float64\n",
      " 6   Shell Weight    3893 non-null   float64\n",
      " 7   Age             3893 non-null   int64  \n",
      " 8   Sex_F           3893 non-null   bool   \n",
      " 9   Sex_I           3893 non-null   bool   \n",
      " 10  Sex_M           3893 non-null   bool   \n",
      "dtypes: bool(3), float64(7), int64(1)\n",
      "memory usage: 254.8 KB\n",
      "Info:\n",
      "None\n",
      "Length distinct values:\n",
      "[1.4375 0.8875 1.0375 1.175  1.55   1.3    1.325  1.5875 0.9125 0.825 ]\n",
      "Diameter distinct values:\n",
      "[1.175  0.65   0.775  0.8875 0.6625 1.1625 1.     1.0125 1.25   0.6875]\n",
      "Height distinct values:\n",
      "[0.4125 0.2125 0.25   0.35   0.325  0.375  0.3375 0.1875 0.4375 0.225 ]\n",
      "Weight distinct values:\n",
      "[24.6357155   5.40057975  7.95203475 13.48018725  6.90310325 28.6613445\n",
      " 17.70426275 23.57260925 42.2124055   6.80388   ]\n",
      "Shucked Weight distinct values:\n",
      "[12.3320325   2.2963095   3.231843    4.74854125  3.458639   13.5794105\n",
      "  6.0951425   9.979024   20.2698925   3.061746  ]\n",
      "Viscera Weight distinct values:\n",
      "[5.5848515  1.37495075 1.60174675 2.28213475 1.48834875 6.76135575\n",
      " 5.85417175 5.3013565  9.76640275 1.26155275]\n",
      "Shell Weight distinct values:\n",
      "[ 6.747181    1.5592225   2.76407625  5.2446575   1.70097     7.2291225\n",
      "  4.819415    7.15824875 10.24834425  2.08368825]\n",
      "Age distinct values:\n",
      "[ 9  6 10  8 15 13  7 11 12  5]\n",
      "Sex_F distinct values:\n",
      "[ True False]\n",
      "Sex_I distinct values:\n",
      "[False  True]\n",
      "Sex_M distinct values:\n",
      "[False  True]\n"
     ]
    }
   ],
   "execution_count": 48
  },
  {
   "metadata": {},
   "cell_type": "markdown",
   "source": [
    "### Save the Data\n",
    "\n",
    "So we can pick this back up on the next step.\n"
   ],
   "id": "5f4950a36b23e9bb"
  },
  {
   "metadata": {
    "ExecuteTime": {
     "end_time": "2024-04-30T23:33:40.754546Z",
     "start_time": "2024-04-30T23:33:40.747236Z"
    }
   },
   "cell_type": "code",
   "source": "crabs.to_json('./cache/crabs.json')",
   "id": "c4b8be34cf0c0ac0",
   "outputs": [],
   "execution_count": 49
  }
 ],
 "metadata": {
  "kernelspec": {
   "display_name": "Python 3",
   "language": "python",
   "name": "python3"
  },
  "language_info": {
   "codemirror_mode": {
    "name": "ipython",
    "version": 2
   },
   "file_extension": ".py",
   "mimetype": "text/x-python",
   "name": "python",
   "nbconvert_exporter": "python",
   "pygments_lexer": "ipython2",
   "version": "2.7.6"
  }
 },
 "nbformat": 4,
 "nbformat_minor": 5
}
