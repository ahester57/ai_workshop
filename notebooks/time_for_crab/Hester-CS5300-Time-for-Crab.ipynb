{
 "cells": [
  {
   "metadata": {},
   "cell_type": "markdown",
   "source": [
    "# Time for Crab\n",
    "\n",
    "## Introduction\n",
    "\n",
    "Crabs are here, and they're mighty tasty.\n",
    "\n",
    "Knowing how old they are helps identify full-sized crabs that are ready for the pot.\n",
    " \n",
    "![Crab](https://upload.wikimedia.org/wikipedia/commons/b/b1/Mud_crab%2C_Scylla_serrate.jpg?20220920192756)\n",
    "\n",
    "Prediction (regression) of mud crab age based on physical features.\n",
    "\n"
   ],
   "id": "a54613a8fdeab682"
  },
  {
   "metadata": {},
   "cell_type": "markdown",
   "source": [
    "## Reasons for Choosing This Dataset\n",
    "\n",
    "A good dataset is the foundation of a good model.\n",
    "\n",
    "#### My reasons:\n",
    "\n",
    "- Highly-rated tabular data with a natural prediction target (Age).\n",
    "- Regression task since I like a challenge.\n",
    "- Features easy to conceptualize for feature engineering.\n",
    "- On the smaller side to quickly iterate on.\n",
    "- Crabs are cool.\n",
    "\n",
    "##### Reasons given by the [dataset on Kaggle](https://www.kaggle.com/datasets/sidhus/crab-age-prediction):\n",
    "\n",
    "> Its a great starting point for classical regression analysis and feature engineering and understand the impact of feature engineering in Data Science domain.\n",
    "> For a commercial crab farmer knowing the right age of the crab helps them decide if and when to harvest the crabs. Beyond a certain age, there is negligible growth in crab's physical characteristics and hence, it is important to time the harvesting to reduce cost and increase profit.\n"
   ],
   "id": "5f63a63ab02b425e"
  },
  {
   "metadata": {},
   "cell_type": "markdown",
   "source": [
    "## Dataset Columns\n",
    "\n",
    "The dataset contains the following columns:\n",
    "\n",
    "---\n",
    "\n",
    "| Column Name    | Description                                                                                         |\n",
    "|----------------|-----------------------------------------------------------------------------------------------------|\n",
    "| Sex            | Gender of the Crab - Male, Female and Indeterminate.                                                |\n",
    "| Length         | Length of the Crab (in Feet; 1 foot = 30.48 cms)                                                    |\n",
    "| Diameter       | Diameter of the Crab (in Feet; 1 foot = 30.48 cms)                                                  |\n",
    "| Height         | Height of the Crab (in Feet; 1 foot = 30.48 cms)                                                    |\n",
    "| Weight         | Weight of the Crab (in ounces; 1 Pound = 16 ounces)                                                 |\n",
    "| Shucked Weight | Weight without the shell (in ounces; 1 Pound = 16 ounces)                                           |\n",
    "| Viscera Weight | is weight that wraps around your abdominal organs deep inside body (in ounces; 1 Pound = 16 ounces) |\n",
    "| Shell Weight   | Weight of the Shell (in ounces; 1 Pound = 16 ounces)                                                |\n",
    "| Age            | Age of the Crab (in months)                                                                         |\n"
   ],
   "id": "e3c125271779e452"
  },
  {
   "metadata": {},
   "cell_type": "markdown",
   "source": [
    "## Import Libraries\n",
    "\n",
    "Let's get the dependencies out of the way."
   ],
   "id": "33f2c3a15496f708"
  },
  {
   "metadata": {
    "ExecuteTime": {
     "end_time": "2024-05-01T02:43:57.953305Z",
     "start_time": "2024-05-01T02:43:56.922625Z"
    }
   },
   "cell_type": "code",
   "source": [
    "import numpy as np\n",
    "import pandas as pd\n",
    "\n",
    "#from sklearn.svm import SVC\n",
    "#from sklearn.model_selection import cross_val_score, cross_val_predict, train_test_split\n",
    "#from sklearn.metrics import accuracy_score, precision_score, recall_score, f1_score\n",
    "\n",
    "try:\n",
    "    # for visual mode. `pip install -e .[visual]`\n",
    "    import matplotlib.pyplot as plt\n",
    "    import matplotlib\n",
    "    %matplotlib inline\n",
    "    import seaborn as sns\n",
    "except ModuleNotFoundError:\n",
    "    plt = None\n",
    "    sns = None\n",
    "\n",
    "pd.set_option('mode.copy_on_write', True)\n",
    "pd.set_option('future.no_silent_downcasting', True)\n"
   ],
   "id": "4aa655c1d5efbbf0",
   "outputs": [],
   "execution_count": 1
  },
  {
   "metadata": {},
   "cell_type": "markdown",
   "source": [
    "## Define Constants\n",
    "\n",
    "The PREDICTION_TARGET constant defines the column from the dataset which we will predict."
   ],
   "id": "54623c34bb1f2440"
  },
  {
   "metadata": {
    "ExecuteTime": {
     "end_time": "2024-05-01T02:43:57.956818Z",
     "start_time": "2024-05-01T02:43:57.954311Z"
    }
   },
   "cell_type": "code",
   "source": [
    "DATASET_FILE = './datasets/CrabAgePrediction.csv' # 'https://www.kaggle.com/sidhus/crab-age-prediction/download' or './data/CrabAgePrediction.csv'\n",
    "PREDICTION_TARGET = 'Age'    # 'Age' is predicted\n",
    "DATASET_COLUMNS = ['Sex','Length','Diameter','Height','Weight','Shucked Weight','Viscera Weight','Shell Weight',PREDICTION_TARGET]\n",
    "REQUIRED_COLUMNS = [PREDICTION_TARGET]\n"
   ],
   "id": "398dea4b56212a12",
   "outputs": [],
   "execution_count": 2
  },
  {
   "metadata": {},
   "cell_type": "markdown",
   "source": [
    "\n",
    "\n"
   ],
   "id": "c918c4c4dbdea613"
  },
  {
   "metadata": {},
   "cell_type": "markdown",
   "source": [
    "## Exploratory Data Analysis\n",
    "\n",
    "Get that pot of water ready. It's crab cookin' time.\n",
    "\n",
    "![Crab pot](https://chefscornerstore.com/product_images/uploaded_images/steaming-crabs.jpg)\n",
    "\n",
    "#### Open the file and display using our helper function\n",
    "\n",
    "Analyzing the output here will help us revise our data cleanup and augmentation functions.\n"
   ],
   "id": "82b2142a4df5eb87"
  },
  {
   "metadata": {},
   "cell_type": "markdown",
   "source": [
    "### Dataset Cleanup\n",
    "\n",
    "Dirty data is no good for crabs. Let's clean it up.\n",
    "\n",
    "![How to clean a crab](https://www.recipetineats.com/wp-content/uploads/2021/07/Cleaning-and-preparing-crab-template-2.jpg)\n",
    "\n",
    "#### Crab Cleaning Steps\n",
    "\n",
    "- Drop rows missing required columns.\n",
    "- Drop rows missing too many values.\n",
    "- Convert natural booleans\n",
    "    - E.g., `Y/N` or `Positive/Negative` to `0/1`.\n",
    "- Fill nulls for typically-binary variables with the median.\n",
    "- Fill nulls for typically-continuous variables with the median.\n",
    "- Fill nulls for typically-categorical variables with default values.\n",
    "    - E.g., `Unknown`, but domain knowledge is required here.\n",
    "- Fill nulls for typically-text variables with empty strings.\n",
    "- One-hot encode categorical variables.\n"
   ],
   "id": "9821d2d81957d41f"
  },
  {
   "metadata": {},
   "cell_type": "markdown",
   "source": [
    "### Data Augmentation\n",
    "\n",
    "Crabs are complex creatures. Let's engineer some features to help our model find the best crabs for harvest.\n",
    "\n",
    "We'll need to use domain knowledge to extract more features from our dataset's column.\n",
    "\n",
    "![This kills the crab.](https://i.kym-cdn.com/photos/images/newsfeed/000/112/843/killcrab.jpg)\n",
    "\n",
    "For example, we can find the edible weight of the crab by subtracting the viscera weight from the shucked weight.\n"
   ],
   "id": "8dcdc608ff49d099"
  },
  {
   "metadata": {},
   "cell_type": "markdown",
   "source": [
    "### Data Normalization\n",
    "\n",
    "Crabs come in all shapes and sizes. Let's normalize the data to help our model.\n",
    "\n",
    "![Tiny crab](https://www.popsci.com/uploads/2022/02/09/fiddler-crab.jpg?auto=webp&optimize=high&width=1440)\n",
    "\n",
    "The book *Designing Machine Learning Systems* (Huyen, 2022) suggests normalizing to a range of [-1, 1] helps in practice.\n"
   ],
   "id": "c99e69e15a0166b5"
  },
  {
   "metadata": {
    "ExecuteTime": {
     "end_time": "2024-05-01T02:43:57.958963Z",
     "start_time": "2024-05-01T02:43:57.956818Z"
    }
   },
   "cell_type": "code",
   "source": "",
   "id": "e2d8545c1214079a",
   "outputs": [],
   "execution_count": 2
  }
 ],
 "metadata": {
  "kernelspec": {
   "display_name": "Python 3",
   "language": "python",
   "name": "python3"
  },
  "language_info": {
   "codemirror_mode": {
    "name": "ipython",
    "version": 2
   },
   "file_extension": ".py",
   "mimetype": "text/x-python",
   "name": "python",
   "nbconvert_exporter": "python",
   "pygments_lexer": "ipython2",
   "version": "2.7.6"
  }
 },
 "nbformat": 4,
 "nbformat_minor": 5
}
