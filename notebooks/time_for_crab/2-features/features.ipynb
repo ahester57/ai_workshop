{
 "cells": [
  {
   "metadata": {},
   "cell_type": "markdown",
   "source": [
    "# Feature Engineering\n",
    "\n",
    "*In which we boost, combine, split, or otherwise manipulate the features of crabs.*\n"
   ],
   "id": "c2111d61903fcaad"
  },
  {
   "metadata": {},
   "cell_type": "markdown",
   "source": "### Define Constants\n",
   "id": "c860bdc4e9eee354"
  },
  {
   "metadata": {
    "ExecuteTime": {
     "end_time": "2024-05-02T01:04:22.810948Z",
     "start_time": "2024-05-02T01:04:22.807801Z"
    }
   },
   "cell_type": "code",
   "source": [
    "CACHE_FILE = '../cache/normlcrabs.feather'\n",
    "NEXT_CACHE_FILE = '../cache/designrcrabs.feather'\n",
    "NEXT_NOTEBOOK = '../3-evaluation/evaluation.ipynb'\n",
    "\n",
    "PREDICTION_TARGET = 'Age'    # 'Age' is predicted\n",
    "DATASET_COLUMNS = ['Sex','Length','Diameter','Height','Weight','Shucked Weight','Viscera Weight','Shell Weight',PREDICTION_TARGET]\n",
    "REQUIRED_COLUMNS = [PREDICTION_TARGET]\n"
   ],
   "id": "5021183815e9a43e",
   "outputs": [],
   "execution_count": 15
  },
  {
   "metadata": {},
   "cell_type": "markdown",
   "source": "### Importing Libraries\n",
   "id": "eeecc3ca24250eae"
  },
  {
   "metadata": {
    "ExecuteTime": {
     "end_time": "2024-05-02T01:04:45.135614Z",
     "start_time": "2024-05-02T01:04:45.131872Z"
    }
   },
   "cell_type": "code",
   "source": [
    "from notebooks.time_for_crab.mlutils import display_df\n",
    "\n",
    "import numpy as np\n",
    "import pandas as pd\n",
    "\n",
    "import matplotlib.pyplot as plt\n",
    "%matplotlib inline\n",
    "import seaborn as sns\n",
    "\n",
    "pd.set_option('mode.copy_on_write', True)\n"
   ],
   "id": "dba77942b7bee327",
   "outputs": [],
   "execution_count": 21
  },
  {
   "metadata": {},
   "cell_type": "markdown",
   "source": [
    "### Load Data from Cache\n",
    "\n",
    "In the [previous section](../1-models/models.ipynb), we saved the normalized training data to the cache.\n"
   ],
   "id": "c86d97ad3c86fe76"
  },
  {
   "metadata": {
    "ExecuteTime": {
     "end_time": "2024-05-02T01:04:22.828138Z",
     "start_time": "2024-05-02T01:04:22.815837Z"
    }
   },
   "cell_type": "code",
   "source": [
    "crabs = pd.read_feather(CACHE_FILE)\n",
    "\n",
    "display_df(crabs, show_distinct=True)\n",
    "# split features from target\n",
    "X = crabs.drop([PREDICTION_TARGET], axis=1)\n",
    "y = crabs[PREDICTION_TARGET]\n"
   ],
   "id": "ab6c14f58f5744d6",
   "outputs": [
    {
     "name": "stdout",
     "output_type": "stream",
     "text": [
      "DataFrame shape: (3114, 10)\n",
      "First 5 rows:\n",
      "        Length  Diameter    Height    Weight  Shucked Weight  Viscera Weight  \\\n",
      "1698  0.500977  0.394531 -0.725586 -0.199707       -0.126953       -0.445801   \n",
      "1361  0.743164  0.713867 -0.645996  0.489258        0.507812       -0.045898   \n",
      "1972  0.013672 -0.025391 -0.787598 -0.706543       -0.755859       -0.750977   \n",
      "960   0.163086  0.126953 -0.813965 -0.537109       -0.616211       -0.527344   \n",
      "2639  0.716797  0.748047 -0.690430  0.099609       -0.041504       -0.026367   \n",
      "\n",
      "      Shell Weight  Sex_F  Sex_I  Sex_M  \n",
      "1698     -0.362305  False  False   True  \n",
      "1361      0.100586  False  False   True  \n",
      "1972     -0.701660   True  False  False  \n",
      "960      -0.579102  False  False   True  \n",
      "2639      0.159180   True  False  False  \n",
      "<class 'pandas.core.frame.DataFrame'>\n",
      "Index: 3114 entries, 1698 to 645\n",
      "Data columns (total 10 columns):\n",
      " #   Column          Non-Null Count  Dtype  \n",
      "---  ------          --------------  -----  \n",
      " 0   Length          3114 non-null   float16\n",
      " 1   Diameter        3114 non-null   float16\n",
      " 2   Height          3114 non-null   float16\n",
      " 3   Weight          3114 non-null   float16\n",
      " 4   Shucked Weight  3114 non-null   float16\n",
      " 5   Viscera Weight  3114 non-null   float16\n",
      " 6   Shell Weight    3114 non-null   float16\n",
      " 7   Sex_F           3114 non-null   bool   \n",
      " 8   Sex_I           3114 non-null   bool   \n",
      " 9   Sex_M           3114 non-null   bool   \n",
      "dtypes: bool(3), float16(7)\n",
      "memory usage: 76.0 KB\n",
      "Info:\n",
      "None\n",
      "Length distinct values:\n",
      "[ 0.501    0.743    0.01367  0.1631   0.717    0.662    0.3516  -0.1079\n",
      "  0.02734  0.0674 ]\n",
      "Diameter distinct values:\n",
      "[ 0.3945   0.714   -0.02539  0.127    0.748    0.6807   0.3447  -0.0928\n",
      "  0.0586  -0.0083 ]\n",
      "Height distinct values:\n",
      "[-0.7256 -0.646  -0.7876 -0.814  -0.6904 -0.6367 -0.673  -0.805  -0.779\n",
      " -0.761 ]\n",
      "Weight distinct values:\n",
      "[-0.1997  0.4893 -0.7065 -0.537   0.0996  0.2852 -0.1826 -0.748  -0.695\n",
      " -0.5996]\n",
      "Shucked Weight distinct values:\n",
      "[-0.127   0.508  -0.756  -0.616  -0.0415  0.1543 -0.1812 -0.786  -0.703\n",
      " -0.6577]\n",
      "Viscera Weight distinct values:\n",
      "[-0.4458  -0.0459  -0.751   -0.5273  -0.02637  0.1562  -0.3613  -0.8105\n",
      " -0.668   -0.6157 ]\n",
      "Shell Weight distinct values:\n",
      "[-0.3623  0.1006 -0.7017 -0.579   0.1592  0.1475 -0.3442 -0.758  -0.6797\n",
      " -0.6626]\n",
      "Sex_F distinct values:\n",
      "[False  True]\n",
      "Sex_I distinct values:\n",
      "[False  True]\n",
      "Sex_M distinct values:\n",
      "[ True False]\n"
     ]
    }
   ],
   "execution_count": 17
  },
  {
   "metadata": {},
   "cell_type": "markdown",
   "source": [
    "### Feature Significance\n",
    "\n",
    "Remove features with low variance. These features are likely to be less important for the model.\n"
   ],
   "id": "7e18c8148b24a6a0"
  },
  {
   "metadata": {
    "ExecuteTime": {
     "end_time": "2024-05-02T01:04:22.830929Z",
     "start_time": "2024-05-02T01:04:22.829147Z"
    }
   },
   "cell_type": "code",
   "source": "from sklearn.feature_selection import VarianceThreshold\n",
   "id": "1a9a71f78794ea6d",
   "outputs": [],
   "execution_count": 18
  },
  {
   "metadata": {},
   "cell_type": "markdown",
   "source": [
    "### Data Augmentation\n",
    "\n",
    "Crabs are complex creatures. Let's engineer some features to help our model find the best crabs for harvest.\n",
    "\n",
    "We'll need to use domain knowledge to extract more features from our dataset's column.\n",
    "\n",
    "![This kills the crab.](https://i.kym-cdn.com/photos/images/newsfeed/000/112/843/killcrab.jpg)\n",
    "\n",
    "For example, we can find the edible weight of the crab by subtracting the viscera weight from the shucked weight.  \n",
    "However, we need to be careful not to overfit the model by adding coliinear features.\n"
   ],
   "id": "98c5a214af6673ad"
  },
  {
   "metadata": {
    "ExecuteTime": {
     "end_time": "2024-05-02T01:04:22.835813Z",
     "start_time": "2024-05-02T01:04:22.830929Z"
    }
   },
   "cell_type": "code",
   "source": [
    "def data_augmentation(df:pd.DataFrame) -> pd.DataFrame:\n",
    "    \"\"\"Add new features to the DataFrame.\n",
    "\n",
    "    Driven by domain knowledge.\n",
    "\n",
    "    :param df: The data.\n",
    "    :return: The data with new features.\n",
    "    \"\"\"\n",
    "    # add new features by combining existing features\n",
    "    df['Edible Weight'] = df['Shucked Weight'] - df['Viscera Weight']\n",
    "    return df\n"
   ],
   "id": "c8bc78d349277507",
   "outputs": [],
   "execution_count": 19
  },
  {
   "metadata": {},
   "cell_type": "markdown",
   "source": [
    "### Save the Data\n",
    "\n",
    "So we can pick this back up on the [next step](../3-evaluation/evaluation.ipynb).\n"
   ],
   "id": "ef8837fb5d673878"
  },
  {
   "metadata": {
    "ExecuteTime": {
     "end_time": "2024-05-02T01:04:22.843128Z",
     "start_time": "2024-05-02T01:04:22.835813Z"
    }
   },
   "cell_type": "code",
   "source": "crabs.to_feather(NEXT_CACHE_FILE)\n",
   "id": "f609322a3d48bd0e",
   "outputs": [],
   "execution_count": 20
  },
  {
   "metadata": {},
   "cell_type": "markdown",
   "source": [
    "### Onwards to Final Evaluation\n",
    "\n",
    "See the [next section](../3-evaluation/evaluation.ipynb) for the final evaluation.\n"
   ],
   "id": "648ceaacdabbb9e"
  }
 ],
 "metadata": {
  "kernelspec": {
   "display_name": "Python 3",
   "language": "python",
   "name": "python3"
  },
  "language_info": {
   "codemirror_mode": {
    "name": "ipython",
    "version": 2
   },
   "file_extension": ".py",
   "mimetype": "text/x-python",
   "name": "python",
   "nbconvert_exporter": "python",
   "pygments_lexer": "ipython2",
   "version": "2.7.6"
  }
 },
 "nbformat": 4,
 "nbformat_minor": 5
}
