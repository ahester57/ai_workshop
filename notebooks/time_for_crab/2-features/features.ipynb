{
 "cells": [
  {
   "metadata": {},
   "cell_type": "markdown",
   "source": [
    "# Feature Engineering\n",
    "\n",
    "*In which we boost, combine, split, or otherwise manipulate the features of crabs.*\n"
   ],
   "id": "c2111d61903fcaad"
  },
  {
   "metadata": {},
   "cell_type": "markdown",
   "source": "### Define Constants\n",
   "id": "c860bdc4e9eee354"
  },
  {
   "metadata": {
    "ExecuteTime": {
     "end_time": "2024-05-01T00:01:51.517840Z",
     "start_time": "2024-05-01T00:01:51.515240Z"
    }
   },
   "cell_type": "code",
   "source": [
    "DATASET_FILE = '../datasets/CrabAgePrediction.csv' # 'https://www.kaggle.com/sidhus/crab-age-prediction/download' or './data/CrabAgePrediction.csv'\n",
    "CACHE_FILE = '../cache/crabs.json'\n",
    "PREDICTION_TARGET = 'Age'    # 'Age' is predicted\n",
    "DATASET_COLUMNS = ['Sex','Length','Diameter','Height','Weight','Shucked Weight','Viscera Weight','Shell Weight',PREDICTION_TARGET]\n",
    "REQUIRED_COLUMNS = [PREDICTION_TARGET]\n"
   ],
   "id": "5021183815e9a43e",
   "outputs": [],
   "execution_count": 7
  },
  {
   "metadata": {},
   "cell_type": "markdown",
   "source": "### Importing Libraries\n",
   "id": "eeecc3ca24250eae"
  },
  {
   "metadata": {
    "ExecuteTime": {
     "end_time": "2024-04-30T23:41:53.220416Z",
     "start_time": "2024-04-30T23:41:53.216443Z"
    }
   },
   "cell_type": "code",
   "source": [
    "import numpy as np\n",
    "import pandas as pd\n",
    "\n",
    "#from sklearn.svm import SVC\n",
    "#from sklearn.model_selection import cross_val_score, cross_val_predict, train_test_split\n",
    "#from sklearn.metrics import accuracy_score, precision_score, recall_score, f1_score\n",
    "\n",
    "try:\n",
    "    # for visual mode. `pip install -e .[visual]`\n",
    "    import matplotlib.pyplot as plt\n",
    "    import matplotlib\n",
    "    %matplotlib inline\n",
    "    import seaborn as sns\n",
    "except ModuleNotFoundError:\n",
    "    plt = None\n",
    "    sns = None\n",
    "\n",
    "pd.set_option('mode.copy_on_write', True)\n",
    "pd.set_option('future.no_silent_downcasting', True)\n"
   ],
   "id": "dba77942b7bee327",
   "outputs": [],
   "execution_count": 3
  },
  {
   "metadata": {},
   "cell_type": "markdown",
   "source": [
    "### Feature Significance\n",
    "\n",
    "Remove features with low variance. These features are likely to be less important for the model.\n"
   ],
   "id": "7e18c8148b24a6a0"
  },
  {
   "metadata": {
    "ExecuteTime": {
     "end_time": "2024-04-30T23:41:53.463919Z",
     "start_time": "2024-04-30T23:41:53.221422Z"
    }
   },
   "cell_type": "code",
   "source": "from sklearn.feature_selection import VarianceThreshold\n",
   "id": "1a9a71f78794ea6d",
   "outputs": [],
   "execution_count": 4
  },
  {
   "metadata": {},
   "cell_type": "markdown",
   "source": [
    "### Data Augmentation\n",
    "\n",
    "Crabs are complex creatures. Let's engineer some features to help our model find the best crabs for harvest.\n",
    "\n",
    "We'll need to use domain knowledge to extract more features from our dataset's column.\n",
    "\n",
    "![This kills the crab.](https://i.kym-cdn.com/photos/images/newsfeed/000/112/843/killcrab.jpg)\n",
    "\n",
    "For example, we can find the edible weight of the crab by subtracting the viscera weight from the shucked weight.\n"
   ],
   "id": "98c5a214af6673ad"
  },
  {
   "metadata": {
    "ExecuteTime": {
     "end_time": "2024-04-30T23:41:53.467282Z",
     "start_time": "2024-04-30T23:41:53.463919Z"
    }
   },
   "cell_type": "code",
   "source": [
    "def data_augmentation(df:pd.DataFrame) -> pd.DataFrame:\n",
    "    \"\"\"Add new features to the DataFrame.\n",
    "\n",
    "    Driven by domain knowledge.\n",
    "\n",
    "    :param df: The data.\n",
    "    :return: The data with new features.\n",
    "    \"\"\"\n",
    "    # add new features by combining existing features\n",
    "    df['Edible Weight'] = df['Shucked Weight'] - df['Viscera Weight']\n",
    "    return df\n"
   ],
   "id": "c8bc78d349277507",
   "outputs": [],
   "execution_count": 5
  },
  {
   "metadata": {},
   "cell_type": "markdown",
   "source": [
    "### Memory Reduction\n",
    "\n",
    "Crabs were never known for their memory. Let's minimize the memory of our DataFrame using the smallest data types to fit the data.\n",
    "\n",
    "The reason for this is to save computational resources and time. The smaller the data, the faster the processing.\n"
   ],
   "id": "ef8837fb5d673878"
  },
  {
   "metadata": {
    "ExecuteTime": {
     "end_time": "2024-04-30T23:47:00.720899Z",
     "start_time": "2024-04-30T23:47:00.715392Z"
    }
   },
   "cell_type": "code",
   "source": [
    "def data_downcasting(df:pd.DataFrame) -> pd.DataFrame:\n",
    "    \"\"\"Reduce the memory usage of the DataFrame by downcasting numeric types.\n",
    "    \n",
    "    :param df: DataFrame to be reduced.\n",
    "    :return: DataFrame with reduced memory usage.\n",
    "    \"\"\"\n",
    "    start_mem = df.memory_usage().sum() / 1024**2\n",
    "    print(f'Memory usage of dataframe is {start_mem:.4f} MB (before)')\n",
    "\n",
    "    # Define mapping of types to numpy types\n",
    "    type_ranges = {\n",
    "        'int': [(np.iinfo(np.int8).min, np.iinfo(np.int8).max, np.int8),\n",
    "                (np.iinfo(np.int16).min, np.iinfo(np.int16).max, np.int16),\n",
    "                (np.iinfo(np.int32).min, np.iinfo(np.int32).max, np.int32),\n",
    "                (np.iinfo(np.int64).min, np.iinfo(np.int64).max, np.int64)],\n",
    "        'float': [(np.finfo(np.float16).min, np.finfo(np.float16).max, np.float16),\n",
    "                  (np.finfo(np.float32).min, np.finfo(np.float32).max, np.float32),\n",
    "                  (np.finfo(np.float64).min, np.finfo(np.float64).max, np.float64)]\n",
    "    }\n",
    "\n",
    "    for col in df.columns:\n",
    "        col_type = df[col].dtype\n",
    "        c_min, c_max = df[col].min(), df[col].max()\n",
    "\n",
    "        if col_type in ['int16', 'int32', 'int64']:\n",
    "            for min_val, max_val, new_type in type_ranges['int']:\n",
    "                if c_min > min_val and c_max < max_val:\n",
    "                    df[col] = df[col].astype(new_type)\n",
    "                    break\n",
    "\n",
    "        elif col_type in ['float16', 'float32', 'float64']:\n",
    "            for min_val, max_val, new_type in type_ranges['float']:\n",
    "                if c_min > min_val and c_max < max_val:\n",
    "                    df[col] = df[col].astype(new_type)\n",
    "                    break\n",
    "\n",
    "    end_mem = df.memory_usage().sum() / 1024**2\n",
    "    print(f'Memory usage of dataframe is {end_mem:.4f} MB (after)')\n",
    "    print(f'Reduced {100 * (start_mem - end_mem) / start_mem:.1f}%')\n",
    "\n",
    "    return df\n"
   ],
   "id": "f609322a3d48bd0e",
   "outputs": [],
   "execution_count": 6
  },
  {
   "metadata": {},
   "cell_type": "code",
   "outputs": [],
   "execution_count": null,
   "source": "",
   "id": "2cfc7c655ddca055"
  },
  {
   "metadata": {},
   "cell_type": "markdown",
   "source": [
    "### Onwards to Final Evaluation\n",
    "\n",
    "See the [next section](../3-evaluation/evaluation.ipynb) for the final evaluation.\n"
   ],
   "id": "648ceaacdabbb9e"
  },
  {
   "metadata": {},
   "cell_type": "code",
   "outputs": [],
   "execution_count": null,
   "source": "",
   "id": "123e99330c842c19"
  }
 ],
 "metadata": {
  "kernelspec": {
   "display_name": "Python 3",
   "language": "python",
   "name": "python3"
  },
  "language_info": {
   "codemirror_mode": {
    "name": "ipython",
    "version": 2
   },
   "file_extension": ".py",
   "mimetype": "text/x-python",
   "name": "python",
   "nbconvert_exporter": "python",
   "pygments_lexer": "ipython2",
   "version": "2.7.6"
  }
 },
 "nbformat": 4,
 "nbformat_minor": 5
}
