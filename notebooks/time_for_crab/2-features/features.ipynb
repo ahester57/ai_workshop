{
 "cells": [
  {
   "metadata": {},
   "cell_type": "markdown",
   "source": [
    "# Feature Engineering\n",
    "\n",
    "*In which we boost, combine, split, or otherwise manipulate the features of crabs.*\n"
   ],
   "id": "c2111d61903fcaad"
  },
  {
   "metadata": {},
   "cell_type": "markdown",
   "source": "### Define Constants\n",
   "id": "c860bdc4e9eee354"
  },
  {
   "metadata": {
    "ExecuteTime": {
     "end_time": "2024-05-01T02:04:07.912206Z",
     "start_time": "2024-05-01T02:04:07.909318Z"
    }
   },
   "cell_type": "code",
   "source": [
    "CACHE_FILE = '../cache/normlcrabs.json'\n",
    "NEXT_CACHE_FILE = '../cache/designrcrabs.json'\n",
    "NEXT_NOTEBOOK = '../3-evaluation/evaluation.ipynb'\n",
    "\n",
    "PREDICTION_TARGET = 'Age'    # 'Age' is predicted\n",
    "DATASET_COLUMNS = ['Sex','Length','Diameter','Height','Weight','Shucked Weight','Viscera Weight','Shell Weight',PREDICTION_TARGET]\n",
    "REQUIRED_COLUMNS = [PREDICTION_TARGET]\n"
   ],
   "id": "5021183815e9a43e",
   "outputs": [],
   "execution_count": 16
  },
  {
   "metadata": {},
   "cell_type": "markdown",
   "source": "### Importing Libraries\n",
   "id": "eeecc3ca24250eae"
  },
  {
   "metadata": {
    "ExecuteTime": {
     "end_time": "2024-05-01T02:04:07.936208Z",
     "start_time": "2024-05-01T02:04:07.929778Z"
    }
   },
   "cell_type": "code",
   "source": [
    "from notebooks.time_for_crab.mlutils import *\n",
    "\n",
    "import numpy as np\n",
    "import pandas as pd\n",
    "\n",
    "#from sklearn.svm import SVC\n",
    "#from sklearn.model_selection import cross_val_score, cross_val_predict, train_test_split\n",
    "#from sklearn.metrics import accuracy_score, precision_score, recall_score, f1_score\n",
    "\n",
    "try:\n",
    "    # for visual mode. `pip install -e .[visual]`\n",
    "    import matplotlib.pyplot as plt\n",
    "    import matplotlib\n",
    "    %matplotlib inline\n",
    "    import seaborn as sns\n",
    "except ModuleNotFoundError:\n",
    "    plt = None\n",
    "    sns = None\n",
    "\n",
    "pd.set_option('mode.copy_on_write', True)\n"
   ],
   "id": "dba77942b7bee327",
   "outputs": [],
   "execution_count": 17
  },
  {
   "metadata": {},
   "cell_type": "markdown",
   "source": [
    "### Load Data from Cache\n",
    "\n",
    "In the [previous section](../1-models/models.ipynb), we saved the normalized data to the cache.\n"
   ],
   "id": "c86d97ad3c86fe76"
  },
  {
   "metadata": {
    "ExecuteTime": {
     "end_time": "2024-05-01T02:04:07.953544Z",
     "start_time": "2024-05-01T02:04:07.937214Z"
    }
   },
   "cell_type": "code",
   "source": [
    "crabs = pd.read_json(CACHE_FILE)\n",
    "crabs.info()\n"
   ],
   "id": "ab6c14f58f5744d6",
   "outputs": [
    {
     "name": "stdout",
     "output_type": "stream",
     "text": [
      "<class 'pandas.core.frame.DataFrame'>\n",
      "Index: 3893 entries, 0 to 3892\n",
      "Data columns (total 11 columns):\n",
      " #   Column          Non-Null Count  Dtype  \n",
      "---  ------          --------------  -----  \n",
      " 0   Length          3893 non-null   float64\n",
      " 1   Diameter        3893 non-null   float64\n",
      " 2   Height          3893 non-null   float64\n",
      " 3   Weight          3893 non-null   float64\n",
      " 4   Shucked Weight  3893 non-null   float64\n",
      " 5   Viscera Weight  3893 non-null   float64\n",
      " 6   Shell Weight    3893 non-null   float64\n",
      " 7   Age             3893 non-null   int64  \n",
      " 8   Sex_F           3893 non-null   bool   \n",
      " 9   Sex_I           3893 non-null   bool   \n",
      " 10  Sex_M           3893 non-null   bool   \n",
      "dtypes: bool(3), float64(7), int64(1)\n",
      "memory usage: 285.1 KB\n"
     ]
    }
   ],
   "execution_count": 18
  },
  {
   "metadata": {},
   "cell_type": "markdown",
   "source": [
    "### Memory Reduction\n",
    "\n",
    "Crabs were never known for their memory. Let's minimize the memory of our DataFrame using the smallest data types to fit the data.\n",
    "\n",
    "The reason for this is to save computational resources and time. The smaller the data, the faster the processing.\n"
   ],
   "id": "2e908dd9684313a4"
  },
  {
   "metadata": {
    "ExecuteTime": {
     "end_time": "2024-05-01T02:04:07.961495Z",
     "start_time": "2024-05-01T02:04:07.953544Z"
    }
   },
   "cell_type": "code",
   "source": [
    "crabs = data_downcasting(crabs)\n",
    "crabs.info()\n"
   ],
   "id": "41a381d827e5b653",
   "outputs": [
    {
     "name": "stdout",
     "output_type": "stream",
     "text": [
      "Memory usage of dataframe is 0.2784 MB (before)\n",
      "Memory usage of dataframe is 0.0965 MB (after)\n",
      "Reduced 65.3%\n",
      "<class 'pandas.core.frame.DataFrame'>\n",
      "Index: 3893 entries, 0 to 3892\n",
      "Data columns (total 11 columns):\n",
      " #   Column          Non-Null Count  Dtype  \n",
      "---  ------          --------------  -----  \n",
      " 0   Length          3893 non-null   float16\n",
      " 1   Diameter        3893 non-null   float16\n",
      " 2   Height          3893 non-null   float16\n",
      " 3   Weight          3893 non-null   float16\n",
      " 4   Shucked Weight  3893 non-null   float16\n",
      " 5   Viscera Weight  3893 non-null   float16\n",
      " 6   Shell Weight    3893 non-null   float16\n",
      " 7   Age             3893 non-null   int8   \n",
      " 8   Sex_F           3893 non-null   bool   \n",
      " 9   Sex_I           3893 non-null   bool   \n",
      " 10  Sex_M           3893 non-null   bool   \n",
      "dtypes: bool(3), float16(7), int8(1)\n",
      "memory usage: 98.8 KB\n"
     ]
    }
   ],
   "execution_count": 19
  },
  {
   "metadata": {},
   "cell_type": "markdown",
   "source": [
    "### Feature Significance\n",
    "\n",
    "Remove features with low variance. These features are likely to be less important for the model.\n"
   ],
   "id": "7e18c8148b24a6a0"
  },
  {
   "metadata": {
    "ExecuteTime": {
     "end_time": "2024-05-01T02:04:07.964559Z",
     "start_time": "2024-05-01T02:04:07.962504Z"
    }
   },
   "cell_type": "code",
   "source": "from sklearn.feature_selection import VarianceThreshold\n",
   "id": "1a9a71f78794ea6d",
   "outputs": [],
   "execution_count": 20
  },
  {
   "metadata": {},
   "cell_type": "markdown",
   "source": [
    "### Data Augmentation\n",
    "\n",
    "Crabs are complex creatures. Let's engineer some features to help our model find the best crabs for harvest.\n",
    "\n",
    "We'll need to use domain knowledge to extract more features from our dataset's column.\n",
    "\n",
    "![This kills the crab.](https://i.kym-cdn.com/photos/images/newsfeed/000/112/843/killcrab.jpg)\n",
    "\n",
    "For example, we can find the edible weight of the crab by subtracting the viscera weight from the shucked weight.\n"
   ],
   "id": "98c5a214af6673ad"
  },
  {
   "metadata": {
    "ExecuteTime": {
     "end_time": "2024-05-01T02:04:07.969282Z",
     "start_time": "2024-05-01T02:04:07.964559Z"
    }
   },
   "cell_type": "code",
   "source": [
    "def data_augmentation(df:pd.DataFrame) -> pd.DataFrame:\n",
    "    \"\"\"Add new features to the DataFrame.\n",
    "\n",
    "    Driven by domain knowledge.\n",
    "\n",
    "    :param df: The data.\n",
    "    :return: The data with new features.\n",
    "    \"\"\"\n",
    "    # add new features by combining existing features\n",
    "    df['Edible Weight'] = df['Shucked Weight'] - df['Viscera Weight']\n",
    "    return df\n"
   ],
   "id": "c8bc78d349277507",
   "outputs": [],
   "execution_count": 21
  },
  {
   "metadata": {},
   "cell_type": "markdown",
   "source": [
    "### Save the Data\n",
    "\n",
    "So we can pick this back up on the [next step](../3-evaluation/evaluation.ipynb).\n"
   ],
   "id": "ef8837fb5d673878"
  },
  {
   "metadata": {
    "ExecuteTime": {
     "end_time": "2024-05-01T02:06:14.000763Z",
     "start_time": "2024-05-01T02:06:13.991863Z"
    }
   },
   "cell_type": "code",
   "source": "crabs.to_json(NEXT_CACHE_FILE)\n",
   "id": "f609322a3d48bd0e",
   "outputs": [],
   "execution_count": 22
  },
  {
   "metadata": {},
   "cell_type": "markdown",
   "source": [
    "### Onwards to Final Evaluation\n",
    "\n",
    "See the [next section](../3-evaluation/evaluation.ipynb) for the final evaluation.\n"
   ],
   "id": "648ceaacdabbb9e"
  }
 ],
 "metadata": {
  "kernelspec": {
   "display_name": "Python 3",
   "language": "python",
   "name": "python3"
  },
  "language_info": {
   "codemirror_mode": {
    "name": "ipython",
    "version": 2
   },
   "file_extension": ".py",
   "mimetype": "text/x-python",
   "name": "python",
   "nbconvert_exporter": "python",
   "pygments_lexer": "ipython2",
   "version": "2.7.6"
  }
 },
 "nbformat": 4,
 "nbformat_minor": 5
}
