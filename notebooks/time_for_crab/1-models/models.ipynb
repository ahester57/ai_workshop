{
 "cells": [
  {
   "metadata": {},
   "cell_type": "markdown",
   "source": [
    "# Model Selection\n",
    "\n",
    "*In which we choose the best model to predict the age of a crab.*\n"
   ],
   "id": "e3e55c8c8889d63e"
  },
  {
   "metadata": {},
   "cell_type": "markdown",
   "source": "### Define Constants\n",
   "id": "87b7ac36dfccc35b"
  },
  {
   "metadata": {
    "ExecuteTime": {
     "end_time": "2024-05-01T00:01:32.530243Z",
     "start_time": "2024-05-01T00:01:32.527504Z"
    }
   },
   "cell_type": "code",
   "source": [
    "DATASET_FILE = '../datasets/CrabAgePrediction.csv' # 'https://www.kaggle.com/sidhus/crab-age-prediction/download' or './data/CrabAgePrediction.csv'\n",
    "CACHE_FILE = '../cache/crabs.json'\n",
    "PREDICTION_TARGET = 'Age'    # 'Age' is predicted\n",
    "DATASET_COLUMNS = ['Sex','Length','Diameter','Height','Weight','Shucked Weight','Viscera Weight','Shell Weight',PREDICTION_TARGET]\n",
    "REQUIRED_COLUMNS = [PREDICTION_TARGET]\n"
   ],
   "id": "2771193bbaa184bd",
   "outputs": [],
   "execution_count": 13
  },
  {
   "metadata": {},
   "cell_type": "markdown",
   "source": "### Importing Libraries\n",
   "id": "9c8db9bbea966be5"
  },
  {
   "metadata": {
    "ExecuteTime": {
     "end_time": "2024-04-30T23:24:06.740755Z",
     "start_time": "2024-04-30T23:24:06.737492Z"
    }
   },
   "cell_type": "code",
   "source": [
    "import numpy as np\n",
    "import pandas as pd\n",
    "\n",
    "#from sklearn.svm import SVC\n",
    "#from sklearn.model_selection import cross_val_score, cross_val_predict, train_test_split\n",
    "#from sklearn.metrics import accuracy_score, precision_score, recall_score, f1_score\n",
    "\n",
    "try:\n",
    "    # for visual mode. `pip install -e .[visual]`\n",
    "    import matplotlib.pyplot as plt\n",
    "    import matplotlib\n",
    "    %matplotlib inline\n",
    "    import seaborn as sns\n",
    "except ModuleNotFoundError:\n",
    "    plt = None\n",
    "    sns = None\n",
    "\n",
    "pd.set_option('mode.copy_on_write', True)\n",
    "pd.set_option('future.no_silent_downcasting', True)\n"
   ],
   "id": "fb9a82e6844babe5",
   "outputs": [],
   "execution_count": 3
  },
  {
   "metadata": {},
   "cell_type": "markdown",
   "source": [
    "### Load Data from Cache\n",
    "\n",
    "In the [previous section](../0-eda/eda.ipynb), we saved the cleaned data to a cache file. Let's load it back.\n"
   ],
   "id": "3076c85708a8dff8"
  },
  {
   "metadata": {
    "ExecuteTime": {
     "end_time": "2024-05-01T00:02:02.310175Z",
     "start_time": "2024-05-01T00:02:02.292409Z"
    }
   },
   "cell_type": "code",
   "source": [
    "crabs = pd.read_json(CACHE_FILE)\n",
    "crabs.info()\n"
   ],
   "id": "8b8ce507d07d6927",
   "outputs": [
    {
     "name": "stdout",
     "output_type": "stream",
     "text": [
      "<class 'pandas.core.frame.DataFrame'>\n",
      "Index: 3893 entries, 0 to 3892\n",
      "Data columns (total 11 columns):\n",
      " #   Column          Non-Null Count  Dtype  \n",
      "---  ------          --------------  -----  \n",
      " 0   Length          3893 non-null   float64\n",
      " 1   Diameter        3893 non-null   float64\n",
      " 2   Height          3893 non-null   float64\n",
      " 3   Weight          3893 non-null   float64\n",
      " 4   Shucked Weight  3893 non-null   float64\n",
      " 5   Viscera Weight  3893 non-null   float64\n",
      " 6   Shell Weight    3893 non-null   float64\n",
      " 7   Age             3893 non-null   int64  \n",
      " 8   Sex_F           3893 non-null   bool   \n",
      " 9   Sex_I           3893 non-null   bool   \n",
      " 10  Sex_M           3893 non-null   bool   \n",
      "dtypes: bool(3), float64(7), int64(1)\n",
      "memory usage: 285.1 KB\n"
     ]
    }
   ],
   "execution_count": 14
  },
  {
   "metadata": {},
   "cell_type": "markdown",
   "source": [
    "### Memory Reduction\n",
    "\n",
    "Crabs were never known for their memory. Let's minimize the memory of our DataFrame using the smallest data types to fit the data.\n",
    "\n",
    "The reason for this is to save computational resources and time. The smaller the data, the faster the processing.\n"
   ],
   "id": "4776ada45bc8637c"
  },
  {
   "metadata": {
    "ExecuteTime": {
     "end_time": "2024-04-30T23:24:11.152007Z",
     "start_time": "2024-04-30T23:24:11.147007Z"
    }
   },
   "cell_type": "code",
   "source": [
    "def data_downcasting(df:pd.DataFrame) -> pd.DataFrame:\n",
    "    \"\"\"Reduce the memory usage of the DataFrame by downcasting numeric types.\n",
    "    \n",
    "    :param df: DataFrame to be reduced.\n",
    "    :return: DataFrame with reduced memory usage.\n",
    "    \"\"\"\n",
    "    start_mem = df.memory_usage().sum() / 1024**2\n",
    "    print(f'Memory usage of dataframe is {start_mem:.4f} MB (before)')\n",
    "\n",
    "    # Define mapping of types to numpy types\n",
    "    type_ranges = {\n",
    "        'int': [(np.iinfo(np.int8).min, np.iinfo(np.int8).max, np.int8),\n",
    "                (np.iinfo(np.int16).min, np.iinfo(np.int16).max, np.int16),\n",
    "                (np.iinfo(np.int32).min, np.iinfo(np.int32).max, np.int32),\n",
    "                (np.iinfo(np.int64).min, np.iinfo(np.int64).max, np.int64)],\n",
    "        'float': [(np.finfo(np.float16).min, np.finfo(np.float16).max, np.float16),\n",
    "                  (np.finfo(np.float32).min, np.finfo(np.float32).max, np.float32),\n",
    "                  (np.finfo(np.float64).min, np.finfo(np.float64).max, np.float64)]\n",
    "    }\n",
    "\n",
    "    for col in df.columns:\n",
    "        col_type = df[col].dtype\n",
    "        c_min, c_max = df[col].min(), df[col].max()\n",
    "\n",
    "        if col_type in ['int16', 'int32', 'int64']:\n",
    "            for min_val, max_val, new_type in type_ranges['int']:\n",
    "                if c_min > min_val and c_max < max_val:\n",
    "                    df[col] = df[col].astype(new_type)\n",
    "                    break\n",
    "\n",
    "        elif col_type in ['float16', 'float32', 'float64']:\n",
    "            for min_val, max_val, new_type in type_ranges['float']:\n",
    "                if c_min > min_val and c_max < max_val:\n",
    "                    df[col] = df[col].astype(new_type)\n",
    "                    break\n",
    "\n",
    "    end_mem = df.memory_usage().sum() / 1024**2\n",
    "    print(f'Memory usage of dataframe is {end_mem:.4f} MB (after)')\n",
    "    print(f'Reduced {100 * (start_mem - end_mem) / start_mem:.1f}%')\n",
    "\n",
    "    return df\n"
   ],
   "id": "8560d4906e7c46a5",
   "outputs": [],
   "execution_count": 4
  },
  {
   "metadata": {
    "ExecuteTime": {
     "end_time": "2024-04-30T23:28:24.938373Z",
     "start_time": "2024-04-30T23:28:24.931526Z"
    }
   },
   "cell_type": "code",
   "source": "crabs = data_downcasting(crabs)\n",
   "id": "ffe62da5e4144779",
   "outputs": [
    {
     "name": "stdout",
     "output_type": "stream",
     "text": [
      "Memory usage of dataframe is 0.2784 MB (before)\n",
      "Memory usage of dataframe is 0.0965 MB (after)\n",
      "Reduced 65.3%\n"
     ]
    }
   ],
   "execution_count": 10
  },
  {
   "metadata": {},
   "cell_type": "code",
   "outputs": [],
   "execution_count": null,
   "source": "",
   "id": "a5168321b445fede"
  },
  {
   "metadata": {},
   "cell_type": "markdown",
   "source": [
    "### Split the Data\n",
    "\n",
    "Let's split the data into training and testing sets.\n",
    "\n",
    "It is important to split the data before any data augmentation or normalization to avoid data leakage.  \n",
    "Data leakage lets the model learn from the testing data, which can lead to overfitting.\n",
    "\n",
    "In more general terms, *data leakage* is the phenomenon when the form of a label \"leaks\" into the training feature set.\n",
    "An example this of occurred in 2021 for diagnosing Covid patients. Patients lying down on a bed were more likely to be \"diagnosed\" with Covid.\n",
    "This is because patients confirmed to have Covid were more inclined to bed rest (Huyen, 2022). \n"
   ],
   "id": "c2205787efb62a9d"
  },
  {
   "metadata": {
    "ExecuteTime": {
     "end_time": "2024-04-30T23:33:53.655723Z",
     "start_time": "2024-04-30T23:33:53.652716Z"
    }
   },
   "cell_type": "code",
   "source": "# split the data into training and testing sets\n",
   "id": "1bfd70f7fded0074",
   "outputs": [],
   "execution_count": 11
  },
  {
   "metadata": {},
   "cell_type": "markdown",
   "source": [
    "### Data Normalization\n",
    "\n",
    "Crabs come in all shapes and sizes. Let's normalize the data to help our model.\n",
    "\n",
    "![Tiny crab](https://www.popsci.com/uploads/2022/02/09/fiddler-crab.jpg?auto=webp&optimize=high&width=1440)\n",
    "\n",
    "The book *Designing Machine Learning Systems* (Huyen, 2022) suggests normalizing to a range of [-1, 1] helps in practice.\n"
   ],
   "id": "a4ce4e4176d22c4f"
  },
  {
   "metadata": {
    "ExecuteTime": {
     "end_time": "2024-04-30T23:42:32.238560Z",
     "start_time": "2024-04-30T23:42:32.235549Z"
    }
   },
   "cell_type": "code",
   "source": [
    "def data_normalization(df:pd.DataFrame, a:float=-1., b:float=1.) -> pd.DataFrame:\n",
    "    \"\"\"Normalize the DataFrame from a to b.\n",
    "    \n",
    "    :param df: The data.\n",
    "    :param a: The minimum value.\n",
    "    :param b: The maximum value.\n",
    "    :return: The normalized data.\n",
    "    \"\"\"\n",
    "    # scale the data to a range of [a, b]\n",
    "    df = a + ((df - df.min()) * (b - a)) / (df.max() - df.min())\n",
    "    return df\n"
   ],
   "id": "5b31bc31de877aa7",
   "outputs": [],
   "execution_count": 12
  },
  {
   "metadata": {},
   "cell_type": "code",
   "outputs": [],
   "execution_count": null,
   "source": "",
   "id": "1701b288ad7db851"
  },
  {
   "metadata": {},
   "cell_type": "markdown",
   "source": [
    "### Onwards to Feature Engineering\n",
    "\n",
    "See the [next section](../2-features/features.ipynb) for feature engineering.\n"
   ],
   "id": "d1bb52a48f355b13"
  },
  {
   "metadata": {},
   "cell_type": "code",
   "outputs": [],
   "execution_count": null,
   "source": "",
   "id": "81ec02deec33393c"
  }
 ],
 "metadata": {
  "kernelspec": {
   "display_name": "Python 3",
   "language": "python",
   "name": "python3"
  },
  "language_info": {
   "codemirror_mode": {
    "name": "ipython",
    "version": 2
   },
   "file_extension": ".py",
   "mimetype": "text/x-python",
   "name": "python",
   "nbconvert_exporter": "python",
   "pygments_lexer": "ipython2",
   "version": "2.7.6"
  }
 },
 "nbformat": 4,
 "nbformat_minor": 5
}
