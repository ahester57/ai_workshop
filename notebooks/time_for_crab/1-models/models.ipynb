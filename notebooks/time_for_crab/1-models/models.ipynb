{
 "cells": [
  {
   "metadata": {},
   "cell_type": "markdown",
   "source": [
    "# Model Selection\n",
    "\n",
    "*In which we choose the best model to predict the age of a crab.*\n"
   ],
   "id": "e3e55c8c8889d63e"
  },
  {
   "metadata": {},
   "cell_type": "markdown",
   "source": "### Define Constants\n",
   "id": "87b7ac36dfccc35b"
  },
  {
   "metadata": {
    "ExecuteTime": {
     "end_time": "2024-05-02T17:36:34.055178Z",
     "start_time": "2024-05-02T17:36:34.050882Z"
    }
   },
   "cell_type": "code",
   "source": [
    "CACHE_FILE = '../cache/crabs.feather'\n",
    "NEXT_CACHE_FILE = '../cache/splitcrabs.feather'\n",
    "NEXT_NOTEBOOK = '../2-features/features.ipynb'\n",
    "\n",
    "PREDICTION_TARGET = 'Age'    # 'Age' is predicted\n",
    "DATASET_COLUMNS = ['Sex_F','Sex_M','Sex_I','Length','Diameter','Height','Weight','Shucked Weight','Viscera Weight','Shell Weight',PREDICTION_TARGET]\n",
    "REQUIRED_COLUMNS = [PREDICTION_TARGET]\n"
   ],
   "id": "2771193bbaa184bd",
   "outputs": [],
   "execution_count": 47
  },
  {
   "metadata": {},
   "cell_type": "markdown",
   "source": "### Importing Libraries\n",
   "id": "9c8db9bbea966be5"
  },
  {
   "metadata": {
    "ExecuteTime": {
     "end_time": "2024-05-02T17:36:34.060184Z",
     "start_time": "2024-05-02T17:36:34.056185Z"
    }
   },
   "cell_type": "code",
   "source": [
    "from notebooks.time_for_crab.mlutils import data_downcasting, display_df\n",
    "\n",
    "import numpy as np\n",
    "import pandas as pd\n",
    "\n",
    "#from sklearn.svm import SVC\n",
    "#from sklearn.model_selection import cross_val_score, cross_val_predict, train_test_split\n",
    "#from sklearn.metrics import accuracy_score, precision_score, recall_score, f1_score\n",
    "\n",
    "import matplotlib.pyplot as plt\n",
    "%matplotlib inline\n",
    "import seaborn as sns\n",
    "\n",
    "pd.set_option('mode.copy_on_write', True)\n"
   ],
   "id": "fb9a82e6844babe5",
   "outputs": [],
   "execution_count": 48
  },
  {
   "metadata": {},
   "cell_type": "markdown",
   "source": [
    "### Load Data from Cache\n",
    "\n",
    "In the [previous section](../0-eda/overfit.ipynb), we saved the cleaned data to a cache file. Let's load it back.\n"
   ],
   "id": "3076c85708a8dff8"
  },
  {
   "metadata": {
    "ExecuteTime": {
     "end_time": "2024-05-02T17:36:34.072595Z",
     "start_time": "2024-05-02T17:36:34.060689Z"
    }
   },
   "cell_type": "code",
   "source": [
    "crabs = pd.read_feather(CACHE_FILE)\n",
    "display_df(crabs, show_distinct=True)\n"
   ],
   "id": "8b8ce507d07d6927",
   "outputs": [
    {
     "name": "stdout",
     "output_type": "stream",
     "text": [
      "DataFrame shape: (3893, 11)\n",
      "First 5 rows:\n",
      "     Length  Diameter    Height     Weight  Shucked Weight  Viscera Weight  \\\n",
      "0  1.437500  1.174805  0.412598  24.640625       12.335938        5.585938   \n",
      "1  0.887695  0.649902  0.212524   5.402344        2.296875        1.375000   \n",
      "2  1.037109  0.774902  0.250000   7.953125        3.232422        1.601562   \n",
      "3  1.174805  0.887695  0.250000  13.476562        4.750000        2.281250   \n",
      "4  0.887695  0.662598  0.212524   6.902344        3.458984        1.488281   \n",
      "\n",
      "   Shell Weight  Age  Sex_F  Sex_I  Sex_M  \n",
      "0      6.746094    9   True  False  False  \n",
      "1      1.559570    6  False  False   True  \n",
      "2      2.763672    6  False   True  False  \n",
      "3      5.246094   10   True  False  False  \n",
      "4      1.701172    6  False   True  False  \n",
      "<class 'pandas.core.frame.DataFrame'>\n",
      "RangeIndex: 3893 entries, 0 to 3892\n",
      "Data columns (total 11 columns):\n",
      " #   Column          Non-Null Count  Dtype  \n",
      "---  ------          --------------  -----  \n",
      " 0   Length          3893 non-null   float16\n",
      " 1   Diameter        3893 non-null   float16\n",
      " 2   Height          3893 non-null   float16\n",
      " 3   Weight          3893 non-null   float16\n",
      " 4   Shucked Weight  3893 non-null   float16\n",
      " 5   Viscera Weight  3893 non-null   float16\n",
      " 6   Shell Weight    3893 non-null   float16\n",
      " 7   Age             3893 non-null   int8   \n",
      " 8   Sex_F           3893 non-null   bool   \n",
      " 9   Sex_I           3893 non-null   bool   \n",
      " 10  Sex_M           3893 non-null   bool   \n",
      "dtypes: bool(3), float16(7), int8(1)\n",
      "memory usage: 68.6 KB\n",
      "Info:\n",
      "None\n",
      "Length distinct values:\n",
      "[1.4375 0.8877 1.037  1.175  1.55   1.3    1.325  1.588  0.9126 0.825 ]\n",
      "Diameter distinct values:\n",
      "[1.175  0.65   0.775  0.8877 0.6626 1.162  1.     1.013  1.25   0.6875]\n",
      "Height distinct values:\n",
      "[0.4126 0.2125 0.25   0.35   0.325  0.375  0.3374 0.1875 0.4375 0.225 ]\n",
      "Weight distinct values:\n",
      "[24.64   5.402  7.953 13.48   6.902 28.66  17.7   23.58  42.22   6.805]\n",
      "Shucked Weight distinct values:\n",
      "[12.336  2.297  3.232  4.75   3.459 13.58   6.094  9.98  20.27   3.062]\n",
      "Viscera Weight distinct values:\n",
      "[5.586 1.375 1.602 2.281 1.488 6.76  5.855 5.3   9.766 1.262]\n",
      "Shell Weight distinct values:\n",
      "[ 6.746  1.56   2.764  5.246  1.701  7.23   4.82   7.16  10.25   2.084]\n",
      "Age distinct values:\n",
      "[ 9  6 10  8 15 13  7 11 12  5]\n",
      "Sex_F distinct values:\n",
      "[ True False]\n",
      "Sex_I distinct values:\n",
      "[False  True]\n",
      "Sex_M distinct values:\n",
      "[False  True]\n"
     ]
    }
   ],
   "execution_count": 49
  },
  {
   "metadata": {},
   "cell_type": "markdown",
   "source": [
    "### Split the Data\n",
    "\n",
    "Let's split the data into training and testing sets.\n",
    "\n",
    "It is important to split the data before any data augmentation or normalization to avoid data leakage.  \n",
    "Data leakage lets the model learn from the testing data, which can lead to overfitting.\n",
    "\n",
    "In more general terms, *data leakage* is the phenomenon when the form of a label \"leaks\" into the training feature set.\n",
    "An example this of occurred in 2021 for diagnosing Covid patients. Patients lying down on a bed were more likely to be \"diagnosed\" with Covid.\n",
    "This is because patients confirmed to have Covid were more inclined to bed rest (Huyen, 2022). \n"
   ],
   "id": "c2205787efb62a9d"
  },
  {
   "metadata": {
    "ExecuteTime": {
     "end_time": "2024-05-02T17:36:34.077808Z",
     "start_time": "2024-05-02T17:36:34.072595Z"
    }
   },
   "cell_type": "code",
   "source": [
    "# split features from target\n",
    "X = crabs.drop([PREDICTION_TARGET], axis=1)\n",
    "y = crabs[PREDICTION_TARGET]\n",
    "# 80% training, 20% testing\n",
    "train_size = int(0.8 * len(crabs))\n",
    "# shuffle the data\n",
    "random_indices = np.random.default_rng(42).permutation(crabs.index)\n",
    "# split into train/test sets\n",
    "X_train = X.iloc[random_indices[0:train_size]]\n",
    "X_test = X.drop(X_train.index)\n",
    "y_train = y.iloc[random_indices[0:train_size]]\n",
    "y_test = y.drop(y_train.index)\n",
    "print(f'X_train: {X_train.shape}')\n",
    "print(f'X_test: {X_test.shape}')\n"
   ],
   "id": "1bfd70f7fded0074",
   "outputs": [
    {
     "name": "stdout",
     "output_type": "stream",
     "text": [
      "X_train: (3114, 10)\n",
      "X_test: (779, 10)\n"
     ]
    }
   ],
   "execution_count": 50
  },
  {
   "metadata": {},
   "cell_type": "markdown",
   "source": [
    "### Model Accuray Baseline\n",
    "\n",
    "| Model | Acc. on Training Set | Acc. on Validation Set |\n",
    "| --- | --- | --- |\n",
    "| Random baseline classifier | 0% | 0% |\n",
    "| Logistic regression model | 0% | 0% |\n",
    "| Neural network model (64-32-16-8-1) | 0% | 0% |\n",
    "| Neural network model (32-16-8-1) | 0% | 0% |\n",
    "| Neural network model (16-8-1) | 0% | 0% |\n",
    "| Neural network model (8-1) | 0% | 0% |\n",
    "| Neural network model (4-1) | 0% | 0% |\n",
    "| Neural network model (2-1) | 0% | 0% |\n"
   ],
   "id": "ca9aba97af93d34e"
  },
  {
   "metadata": {},
   "cell_type": "markdown",
   "source": [
    "### Save the Data\n",
    "\n",
    "So we can pick this back up on the [next step](../2-features/features.ipynb).\n"
   ],
   "id": "65ebc4ddaa5840b5"
  },
  {
   "metadata": {
    "ExecuteTime": {
     "end_time": "2024-05-02T17:36:34.086360Z",
     "start_time": "2024-05-02T17:36:34.078815Z"
    }
   },
   "cell_type": "code",
   "source": [
    "# save the training and test data separately\n",
    "pd.concat([X_train, y_train], axis=1, join='outer').to_feather(NEXT_CACHE_FILE)\n",
    "pd.concat([X_test, y_test], axis=1, join='outer').to_feather(NEXT_CACHE_FILE.replace('.feather', '_test.feather'))\n"
   ],
   "id": "ac5efd3053fb1d4e",
   "outputs": [],
   "execution_count": 51
  },
  {
   "metadata": {},
   "cell_type": "markdown",
   "source": [
    "### Onwards to Feature Engineering\n",
    "\n",
    "See the [next section](../2-features/features.ipynb) for feature engineering.\n"
   ],
   "id": "d1bb52a48f355b13"
  }
 ],
 "metadata": {
  "kernelspec": {
   "display_name": "Python 3",
   "language": "python",
   "name": "python3"
  },
  "language_info": {
   "codemirror_mode": {
    "name": "ipython",
    "version": 2
   },
   "file_extension": ".py",
   "mimetype": "text/x-python",
   "name": "python",
   "nbconvert_exporter": "python",
   "pygments_lexer": "ipython2",
   "version": "2.7.6"
  }
 },
 "nbformat": 4,
 "nbformat_minor": 5
}
