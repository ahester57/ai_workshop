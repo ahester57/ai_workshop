{
 "cells": [
  {
   "metadata": {},
   "cell_type": "markdown",
   "source": [
    "# Model Evaluation\n",
    "\n",
    "##### *In which we hope all the work we put into our model pays off.*\n",
    "\n",
    "###### [GitHub Repository](https://github.com/ahester57/ai_workshop/tree/master/notebooks/time_for_crab/3-evaluation)\n",
    "\n",
    "###### [Notebook Viewer](https://nbviewer.jupyter.org/github/ahester57/ai_workshop/blob/master/notebooks/time_for_crab/3-evaluation/evaluation.ipynb)\n",
    "\n",
    "###### [Kaggle Dataset](https://www.kaggle.com/sidhus/crab-age-prediction)\n"
   ],
   "id": "25e0264496680fa"
  },
  {
   "metadata": {},
   "cell_type": "markdown",
   "source": "### Define Constants",
   "id": "7f3e64eb11ace833"
  },
  {
   "metadata": {
    "ExecuteTime": {
     "end_time": "2024-05-02T17:38:20.410335Z",
     "start_time": "2024-05-02T17:38:20.406831Z"
    }
   },
   "cell_type": "code",
   "source": [
    "CACHE_FILE = '../cache/designrcrabs.feather'\n",
    "TEST_CACHE_FILE = '../cache/splitcrabs_test.feather'\n",
    "\n",
    "NEXT_NOTEBOOK = '../Hester-CS5300-Time-for-Crab.ipynb'\n",
    "\n",
    "PREDICTION_TARGET = 'Age'    # 'Age' is predicted\n",
    "DATASET_COLUMNS = ['Sex_F','Sex_M','Sex_I','Length','Diameter','Height','Weight','Shucked Weight','Viscera Weight','Shell Weight',PREDICTION_TARGET]\n",
    "REQUIRED_COLUMNS = [PREDICTION_TARGET]\n"
   ],
   "id": "c9b3ede6eae72aaa",
   "outputs": [],
   "execution_count": 2
  },
  {
   "metadata": {},
   "cell_type": "markdown",
   "source": "### Import Libraries",
   "id": "27d372c3403ef878"
  },
  {
   "metadata": {
    "ExecuteTime": {
     "end_time": "2024-05-02T17:38:20.424738Z",
     "start_time": "2024-05-02T17:38:20.410849Z"
    }
   },
   "cell_type": "code",
   "source": [
    "from notebooks.time_for_crab.mlutils import data_downcasting, display_df\n",
    "\n",
    "from sklearn.metrics import roc_curve, auc\n",
    "\n",
    "import numpy as np\n",
    "import pandas as pd\n",
    "\n",
    "import matplotlib.pyplot as plt\n",
    "%matplotlib inline\n",
    "import seaborn as sns\n",
    "\n",
    "pd.set_option('mode.copy_on_write', True)\n"
   ],
   "id": "7b8ae6a3892e5bca",
   "outputs": [],
   "execution_count": 3
  },
  {
   "metadata": {},
   "cell_type": "markdown",
   "source": [
    "### Load Data from Cache\n",
    "\n",
    "In the [previous section](../2-features/features.ipynb), we saved the normalized data to the cache.\n"
   ],
   "id": "a0d49d24cb27a494"
  },
  {
   "metadata": {
    "ExecuteTime": {
     "end_time": "2024-05-02T17:38:20.443171Z",
     "start_time": "2024-05-02T17:38:20.424738Z"
    }
   },
   "cell_type": "code",
   "source": [
    "crabs = pd.read_feather(CACHE_FILE)\n",
    "display_df(crabs, show_distinct=True)\n"
   ],
   "id": "7918c9f98552060b",
   "outputs": [
    {
     "name": "stdout",
     "output_type": "stream",
     "text": [
      "DataFrame shape: (3114, 11)\n",
      "First 5 rows:\n",
      "        Length  Diameter    Height    Weight  Shucked Weight  Viscera Weight  \\\n",
      "1698  0.500977  0.394531 -0.725586 -0.199707       -0.126953       -0.445801   \n",
      "1361  0.743164  0.713867 -0.645996  0.489258        0.507812       -0.045898   \n",
      "1972  0.013672 -0.025391 -0.787598 -0.706543       -0.755859       -0.750977   \n",
      "960   0.163086  0.126953 -0.813965 -0.537109       -0.616211       -0.527344   \n",
      "2639  0.716797  0.748047 -0.690430  0.099609       -0.041504       -0.026367   \n",
      "\n",
      "      Shell Weight  Sex_F  Sex_I  Sex_M  Age  \n",
      "1698     -0.362305  False  False   True    8  \n",
      "1361      0.100586  False  False   True   12  \n",
      "1972     -0.701660   True  False  False    9  \n",
      "960      -0.579102  False  False   True   11  \n",
      "2639      0.159180   True  False  False   15  \n",
      "<class 'pandas.core.frame.DataFrame'>\n",
      "Index: 3114 entries, 1698 to 645\n",
      "Data columns (total 11 columns):\n",
      " #   Column          Non-Null Count  Dtype  \n",
      "---  ------          --------------  -----  \n",
      " 0   Length          3114 non-null   float16\n",
      " 1   Diameter        3114 non-null   float16\n",
      " 2   Height          3114 non-null   float16\n",
      " 3   Weight          3114 non-null   float16\n",
      " 4   Shucked Weight  3114 non-null   float16\n",
      " 5   Viscera Weight  3114 non-null   float16\n",
      " 6   Shell Weight    3114 non-null   float16\n",
      " 7   Sex_F           3114 non-null   bool   \n",
      " 8   Sex_I           3114 non-null   bool   \n",
      " 9   Sex_M           3114 non-null   bool   \n",
      " 10  Age             3114 non-null   int8   \n",
      "dtypes: bool(3), float16(7), int8(1)\n",
      "memory usage: 79.1 KB\n",
      "Info:\n",
      "None\n",
      "Length distinct values:\n",
      "[ 0.501    0.743    0.01367  0.1631   0.717    0.662    0.3516  -0.1079\n",
      "  0.02734  0.0674 ]\n",
      "Diameter distinct values:\n",
      "[ 0.3945   0.714   -0.02539  0.127    0.748    0.6807   0.3447  -0.0928\n",
      "  0.0586  -0.0083 ]\n",
      "Height distinct values:\n",
      "[-0.7256 -0.646  -0.7876 -0.814  -0.6904 -0.6367 -0.673  -0.805  -0.779\n",
      " -0.761 ]\n",
      "Weight distinct values:\n",
      "[-0.1997  0.4893 -0.7065 -0.537   0.0996  0.2852 -0.1826 -0.748  -0.695\n",
      " -0.5996]\n",
      "Shucked Weight distinct values:\n",
      "[-0.127   0.508  -0.756  -0.616  -0.0415  0.1543 -0.1812 -0.786  -0.703\n",
      " -0.6577]\n",
      "Viscera Weight distinct values:\n",
      "[-0.4458  -0.0459  -0.751   -0.5273  -0.02637  0.1562  -0.3613  -0.8105\n",
      " -0.668   -0.6157 ]\n",
      "Shell Weight distinct values:\n",
      "[-0.3623  0.1006 -0.7017 -0.579   0.1592  0.1475 -0.3442 -0.758  -0.6797\n",
      " -0.6626]\n",
      "Sex_F distinct values:\n",
      "[False  True]\n",
      "Sex_I distinct values:\n",
      "[False  True]\n",
      "Sex_M distinct values:\n",
      "[ True False]\n",
      "Age distinct values:\n",
      "[ 8 12  9 11 15 19 13 14 10 18]\n"
     ]
    }
   ],
   "execution_count": 4
  },
  {
   "metadata": {},
   "cell_type": "markdown",
   "source": [
    "## Regression Model Evaluation\n",
    "\n",
    "### Compute the ROC Curve\n",
    "\n",
    "This is a regression problem, so the ROC curve is more of a challenge.\n",
    "\n",
    "First, we need to convert our predictions into True/False. Since we are trying to predict a crab's age,\n",
    "a threshold of 2 years is a good starting point. If the prediction is within 2 years of the actual, we'll consider it a success.\n",
    "\n",
    "#### Convert Predictions to True/False\n"
   ],
   "id": "f49321df407391f6"
  },
  {
   "metadata": {},
   "cell_type": "code",
   "outputs": [],
   "execution_count": null,
   "source": "#",
   "id": "b636cbf720dc1fb4"
  }
 ],
 "metadata": {
  "kernelspec": {
   "display_name": "Python 3",
   "language": "python",
   "name": "python3"
  },
  "language_info": {
   "codemirror_mode": {
    "name": "ipython",
    "version": 2
   },
   "file_extension": ".py",
   "mimetype": "text/x-python",
   "name": "python",
   "nbconvert_exporter": "python",
   "pygments_lexer": "ipython2",
   "version": "2.7.6"
  }
 },
 "nbformat": 4,
 "nbformat_minor": 5
}
