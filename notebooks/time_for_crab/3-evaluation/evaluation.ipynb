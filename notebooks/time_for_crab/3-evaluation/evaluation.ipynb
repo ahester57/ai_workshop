{
 "cells": [
  {
   "metadata": {},
   "cell_type": "markdown",
   "source": [
    "# Model Evaluation\n",
    "\n",
    "*In which we hope all the work we put into our model pays off.*\n"
   ],
   "id": "25e0264496680fa"
  },
  {
   "metadata": {},
   "cell_type": "markdown",
   "source": "### Define Constants",
   "id": "7f3e64eb11ace833"
  },
  {
   "metadata": {
    "ExecuteTime": {
     "end_time": "2024-05-02T01:05:16.084329Z",
     "start_time": "2024-05-02T01:05:16.081822Z"
    }
   },
   "cell_type": "code",
   "source": [
    "CACHE_FILE = '../cache/designrcrabs.feather'\n",
    "NEXT_NOTEBOOK = '../Hester-CS5300-Time-for-Crab.ipynb'\n",
    "\n",
    "PREDICTION_TARGET = 'Age'    # 'Age' is predicted\n",
    "DATASET_COLUMNS = ['Sex','Length','Diameter','Height','Weight','Shucked Weight','Viscera Weight','Shell Weight',PREDICTION_TARGET]\n",
    "REQUIRED_COLUMNS = [PREDICTION_TARGET]\n"
   ],
   "id": "c9b3ede6eae72aaa",
   "outputs": [],
   "execution_count": 4
  },
  {
   "metadata": {},
   "cell_type": "markdown",
   "source": "### Importing Libraries",
   "id": "27d372c3403ef878"
  },
  {
   "metadata": {
    "ExecuteTime": {
     "end_time": "2024-05-02T01:05:08.991362Z",
     "start_time": "2024-05-02T01:05:08.978825Z"
    }
   },
   "cell_type": "code",
   "source": [
    "from notebooks.time_for_crab.mlutils import data_downcasting, display_df\n",
    "\n",
    "import numpy as np\n",
    "import pandas as pd\n",
    "\n",
    "import matplotlib.pyplot as plt\n",
    "%matplotlib inline\n",
    "import seaborn as sns\n",
    "\n",
    "pd.set_option('mode.copy_on_write', True)\n"
   ],
   "id": "7b8ae6a3892e5bca",
   "outputs": [],
   "execution_count": 2
  },
  {
   "metadata": {},
   "cell_type": "markdown",
   "source": [
    "### Load Data from Cache\n",
    "\n",
    "In the [previous section](../2-features/features.ipynb), we saved the normalized data to the cache.\n"
   ],
   "id": "a0d49d24cb27a494"
  },
  {
   "metadata": {
    "ExecuteTime": {
     "end_time": "2024-05-02T01:05:18.582690Z",
     "start_time": "2024-05-02T01:05:18.570629Z"
    }
   },
   "cell_type": "code",
   "source": [
    "crabs = pd.read_feather(CACHE_FILE)\n",
    "crabs.info()\n"
   ],
   "id": "7918c9f98552060b",
   "outputs": [
    {
     "name": "stdout",
     "output_type": "stream",
     "text": [
      "<class 'pandas.core.frame.DataFrame'>\n",
      "Index: 3114 entries, 1698 to 645\n",
      "Data columns (total 10 columns):\n",
      " #   Column          Non-Null Count  Dtype  \n",
      "---  ------          --------------  -----  \n",
      " 0   Length          3114 non-null   float16\n",
      " 1   Diameter        3114 non-null   float16\n",
      " 2   Height          3114 non-null   float16\n",
      " 3   Weight          3114 non-null   float16\n",
      " 4   Shucked Weight  3114 non-null   float16\n",
      " 5   Viscera Weight  3114 non-null   float16\n",
      " 6   Shell Weight    3114 non-null   float16\n",
      " 7   Sex_F           3114 non-null   bool   \n",
      " 8   Sex_I           3114 non-null   bool   \n",
      " 9   Sex_M           3114 non-null   bool   \n",
      "dtypes: bool(3), float16(7)\n",
      "memory usage: 76.0 KB\n"
     ]
    }
   ],
   "execution_count": 5
  },
  {
   "metadata": {},
   "cell_type": "code",
   "outputs": [],
   "execution_count": null,
   "source": "",
   "id": "7cee14ebf8cbcde4"
  }
 ],
 "metadata": {
  "kernelspec": {
   "display_name": "Python 3",
   "language": "python",
   "name": "python3"
  },
  "language_info": {
   "codemirror_mode": {
    "name": "ipython",
    "version": 2
   },
   "file_extension": ".py",
   "mimetype": "text/x-python",
   "name": "python",
   "nbconvert_exporter": "python",
   "pygments_lexer": "ipython2",
   "version": "2.7.6"
  }
 },
 "nbformat": 4,
 "nbformat_minor": 5
}
