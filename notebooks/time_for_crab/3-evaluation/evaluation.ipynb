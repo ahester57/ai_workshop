{
 "cells": [
  {
   "metadata": {},
   "cell_type": "markdown",
   "source": [
    "# Model Evaluation\n",
    "\n",
    "##### *In which we hope all the work we put into our model pays off.*\n",
    "\n",
    "###### [GitHub Repository](https://github.com/ahester57/ai_workshop/tree/master/notebooks/time_for_crab/3-evaluation)\n",
    "\n",
    "###### [Notebook Viewer](https://nbviewer.jupyter.org/github/ahester57/ai_workshop/blob/master/notebooks/time_for_crab/3-evaluation/evaluation.ipynb)\n",
    "\n",
    "###### [Kaggle Dataset](https://www.kaggle.com/sidhus/crab-age-prediction)\n"
   ],
   "id": "25e0264496680fa"
  },
  {
   "metadata": {},
   "cell_type": "markdown",
   "source": [
    "## Introduction\n",
    "\n",
    "In this notebook, we will evaluate the performance of our model. We will use the following metrics:\n",
    "\n",
    "### Regression Metrics\n",
    "\n",
    "Throughout this notebook, we will use the following metrics to evaluate the regression model:\n",
    "\n",
    "#### Mean Squared Error\n",
    " \n",
    "- The best score is 0.0\n",
    "- Lower is better.\n",
    "- Larger errors are penalized more than smaller errors.\n",
    "\n",
    "#### Mean Absolute Error\n",
    "\n",
    "- The best score is 0.0\n",
    "- Lower is better.\n",
    "- Less sensitive to outliers.\n",
    "\n",
    "#### Explained Variance Score\n",
    "\n",
    "- The best score is 1.0\n",
    "- Lower is worse.\n",
    "\n",
    "#### R2 Score\n",
    "\n",
    "- The best score is 1.0\n",
    "- Lower is worse.\n",
    "\n",
    "From the [scikit-learn documentation](https://scikit-learn.org/stable/modules/generated/sklearn.metrics.explained_variance_score.html):\n",
    "\n",
    "> **Note**: The Explained Variance score is similar to the `R^2 score`, with the notable difference that it does not account for systematic offsets in the prediction.\n",
    "> Most often the `R^2 score` should be preferred.\n"
   ],
   "id": "9a255b54b7580bd5"
  },
  {
   "metadata": {},
   "cell_type": "markdown",
   "source": "### Define Constants",
   "id": "7f3e64eb11ace833"
  },
  {
   "metadata": {
    "ExecuteTime": {
     "end_time": "2024-05-06T03:37:01.103863Z",
     "start_time": "2024-05-06T03:37:01.100122Z"
    }
   },
   "cell_type": "code",
   "source": [
    "%%time\n",
    "CACHE_FILE = '../cache/designrcrabs.feather'\n",
    "NEXT_NOTEBOOK = '../Hester-CS5300-Time-for-Crab.ipynb'\n",
    "MODEL_CHECKPOINT_FILE = '../cache/designr_eval.weights.h5'\n",
    "\n",
    "PREDICTION_TARGET = 'Age'    # 'Age' is predicted\n",
    "DATASET_COLUMNS = ['Sex_F','Sex_M','Sex_I','Length','Diameter','Height','Weight','Shucked Weight','Viscera Weight','Shell Weight',PREDICTION_TARGET]\n",
    "REQUIRED_COLUMNS = [PREDICTION_TARGET]\n",
    "\n",
    "NUM_EPOCHS = 1000\n",
    "VALIDATION_SPLIT = 0.2\n",
    "NUM_HIDDEN_LAYERS = 1\n",
    "NUM_UNITS = 8\n"
   ],
   "id": "c9b3ede6eae72aaa",
   "outputs": [
    {
     "name": "stdout",
     "output_type": "stream",
     "text": [
      "CPU times: total: 0 ns\n",
      "Wall time: 0 ns\n"
     ]
    }
   ],
   "execution_count": 17
  },
  {
   "metadata": {},
   "cell_type": "markdown",
   "source": "### Import Libraries",
   "id": "27d372c3403ef878"
  },
  {
   "metadata": {
    "ExecuteTime": {
     "end_time": "2024-05-06T03:37:01.117783Z",
     "start_time": "2024-05-06T03:37:01.113384Z"
    }
   },
   "cell_type": "code",
   "source": [
    "%%time\n",
    "from notebooks.time_for_crab.mlutils import display_df, generate_neural_network, generate_neural_pyramid\n",
    "from notebooks.time_for_crab.mlutils import plot_training_loss, plot_training_loss_from_dict, plot_true_vs_pred_from_dict\n",
    "from notebooks.time_for_crab.mlutils import score_combine, score_comparator, score_model\n",
    "\n",
    "import keras\n",
    "\n",
    "keras_backend = keras.backend.backend()\n",
    "print(f'Keras version: {keras.__version__}')\n",
    "print(f'Keras backend: {keras_backend}')\n",
    "if keras_backend == 'tensorflow':\n",
    "    import tensorflow as tf\n",
    "    print(f'TensorFlow version: {tf.__version__}')\n",
    "    print(f'TensorFlow devices: {tf.config.list_physical_devices()}')\n",
    "elif keras_backend == 'torch':\n",
    "    import torch\n",
    "    print(f'Torch version: {torch.__version__}')\n",
    "    print(f'Torch devices: {torch.cuda.get_device_name(torch.cuda.current_device())}')\n",
    "    # torch supports windows-native cuda, but CPU was faster for this task\n",
    "elif keras_backend == 'jax':\n",
    "    import jax\n",
    "    print(f'JAX version: {jax.__version__}')\n",
    "    print(f'JAX devices: {jax.devices()}')\n",
    "else:\n",
    "    print('Unknown backend; Proceed with caution.')\n",
    "\n",
    "import numpy as np\n",
    "import pandas as pd\n",
    "\n",
    "import matplotlib.pyplot as plt\n",
    "%matplotlib inline\n",
    "import seaborn as sns\n",
    "\n",
    "pd.set_option('mode.copy_on_write', True)\n"
   ],
   "id": "7b8ae6a3892e5bca",
   "outputs": [
    {
     "name": "stdout",
     "output_type": "stream",
     "text": [
      "Keras version: 3.3.3\n",
      "Keras backend: tensorflow\n",
      "TensorFlow version: 2.16.1\n",
      "TensorFlow devices: [PhysicalDevice(name='/physical_device:CPU:0', device_type='CPU')]\n",
      "CPU times: total: 0 ns\n",
      "Wall time: 997 µs\n"
     ]
    }
   ],
   "execution_count": 18
  },
  {
   "metadata": {},
   "cell_type": "markdown",
   "source": [
    "### Load Data from Cache\n",
    "\n",
    "In the [feature importance section](../2-features/features.ipynb), we saved the life of the crabs by removing the features which killed the crab.\n"
   ],
   "id": "a0d49d24cb27a494"
  },
  {
   "metadata": {
    "ExecuteTime": {
     "end_time": "2024-05-06T03:37:01.130884Z",
     "start_time": "2024-05-06T03:37:01.119296Z"
    }
   },
   "cell_type": "code",
   "source": [
    "%%time\n",
    "crabs = pd.read_feather(CACHE_FILE)\n",
    "crabs_test = pd.read_feather(CACHE_FILE.replace('.feather', '_test.feather'))\n",
    "\n",
    "display_df(crabs, show_distinct=True)\n",
    "\n",
    "# split features from target\n",
    "X_train = crabs.drop([PREDICTION_TARGET], axis=1)\n",
    "y_train = crabs[PREDICTION_TARGET]\n",
    "\n",
    "X_test = crabs_test.drop([PREDICTION_TARGET], axis=1)\n",
    "y_test = crabs_test[PREDICTION_TARGET]\n",
    "\n",
    "print(f'X_train: {X_train.shape}')\n",
    "print(f'X_test: {X_test.shape}')\n"
   ],
   "id": "7918c9f98552060b",
   "outputs": [
    {
     "name": "stdout",
     "output_type": "stream",
     "text": [
      "DataFrame shape: (3031, 9)\n",
      "First 5 rows:\n",
      "        Length  Diameter    Height    Weight  Shell Weight  Sex_F  Sex_I  \\\n",
      "3483  1.724609  1.312500  0.500000  50.53125     13.070312  False  False   \n",
      "993   1.612305  1.312500  0.500000  41.09375     14.320312   True  False   \n",
      "1427  1.650391  1.262695  0.475098  40.78125      5.046875  False  False   \n",
      "3829  1.362305  1.150391  0.399902  25.43750      9.781250  False  False   \n",
      "1468  1.250000  0.924805  0.375000  30.09375      8.390625  False  False   \n",
      "\n",
      "      Sex_M  Age  \n",
      "3483   True   12  \n",
      "993   False   13  \n",
      "1427   True   11  \n",
      "3829   True   10  \n",
      "1468   True    9  \n",
      "<class 'pandas.core.frame.DataFrame'>\n",
      "Index: 3031 entries, 3483 to 658\n",
      "Data columns (total 9 columns):\n",
      " #   Column        Non-Null Count  Dtype  \n",
      "---  ------        --------------  -----  \n",
      " 0   Length        3031 non-null   float16\n",
      " 1   Diameter      3031 non-null   float16\n",
      " 2   Height        3031 non-null   float16\n",
      " 3   Weight        3031 non-null   float16\n",
      " 4   Shell Weight  3031 non-null   float16\n",
      " 5   Sex_F         3031 non-null   bool   \n",
      " 6   Sex_I         3031 non-null   bool   \n",
      " 7   Sex_M         3031 non-null   bool   \n",
      " 8   Age           3031 non-null   int8   \n",
      "dtypes: bool(3), float16(5), int8(1)\n",
      "memory usage: 65.1 KB\n",
      "Info:\n",
      "None\n",
      "Length distinct values:\n",
      "[1.725  1.612  1.65   1.362  1.25   1.6875 1.487  1.5625 1.4375 1.45  ]\n",
      "Diameter distinct values:\n",
      "[1.3125 1.263  1.15   0.925  1.2    1.162  0.8877 0.8374 1.388  1.0625]\n",
      "Height distinct values:\n",
      "[0.5    0.475  0.4    0.375  0.4624 0.425  0.4126 0.4375 0.2876 0.2625]\n",
      "Weight distinct values:\n",
      "[50.53 41.1  40.78 25.44 30.1  45.   32.03 32.38 30.19 29.34]\n",
      "Shell Weight distinct values:\n",
      "[13.07  14.32   5.047  9.78   8.39  11.195  7.51   8.22   7.98  10.914]\n",
      "Sex_F distinct values:\n",
      "[False  True]\n",
      "Sex_I distinct values:\n",
      "[False  True]\n",
      "Sex_M distinct values:\n",
      "[ True False]\n",
      "Age distinct values:\n",
      "[12 13 11 10  9  8 17  6 19  7]\n",
      "X_train: (3031, 8)\n",
      "X_test: (759, 8)\n",
      "CPU times: total: 0 ns\n",
      "Wall time: 8 ms\n"
     ]
    }
   ],
   "execution_count": 19
  },
  {
   "metadata": {},
   "cell_type": "markdown",
   "source": [
    "## Time for Crab!\n",
    "\n",
    "Get that pot of water ready. It's crab cookin' time.\n",
    "\n",
    "![Crab pot](https://chefscornerstore.com/product_images/uploaded_images/steaming-crabs.jpg)\n"
   ],
   "id": "256f9662f6d7bf5a"
  },
  {
   "metadata": {},
   "cell_type": "markdown",
   "source": [
    "## Rebuild our Model\n",
    "\n",
    "We will rebuild our model using the same parameters as before.\n"
   ],
   "id": "d76bf54e079afdf3"
  },
  {
   "metadata": {
    "ExecuteTime": {
     "end_time": "2024-05-06T03:37:01.158095Z",
     "start_time": "2024-05-06T03:37:01.130884Z"
    }
   },
   "cell_type": "code",
   "source": [
    "all_models = {\n",
    "    'designr':\n",
    "        generate_neural_network(\n",
    "            X_train,\n",
    "            num_hidden_layers=NUM_HIDDEN_LAYERS,\n",
    "            num_units=NUM_UNITS)}\n",
    "\n",
    "all_models['designr'].compile(\n",
    "    optimizer=keras.optimizers.Nadam(learning_rate=0.01),\n",
    "    loss='mean_squared_error')\n",
    "\n",
    "designr_checkpoint = keras.callbacks.ModelCheckpoint(\n",
    "    MODEL_CHECKPOINT_FILE,\n",
    "    save_best_only=True,\n",
    "    save_weights_only=True,\n",
    "    monitor='val_loss',\n",
    "    mode='min')\n",
    "\n",
    "all_models['designr'].summary()\n"
   ],
   "id": "a355a611587a9a4e",
   "outputs": [
    {
     "data": {
      "text/plain": [
       "\u001B[1mModel: \"sequential_2\"\u001B[0m\n"
      ],
      "text/html": [
       "<pre style=\"white-space:pre;overflow-x:auto;line-height:normal;font-family:Menlo,'DejaVu Sans Mono',consolas,'Courier New',monospace\"><span style=\"font-weight: bold\">Model: \"sequential_2\"</span>\n",
       "</pre>\n"
      ]
     },
     "metadata": {},
     "output_type": "display_data"
    },
    {
     "data": {
      "text/plain": [
       "┏━━━━━━━━━━━━━━━━━━━━━━━━━━━━━━━━━┳━━━━━━━━━━━━━━━━━━━━━━━━┳━━━━━━━━━━━━━━━┓\n",
       "┃\u001B[1m \u001B[0m\u001B[1mLayer (type)                   \u001B[0m\u001B[1m \u001B[0m┃\u001B[1m \u001B[0m\u001B[1mOutput Shape          \u001B[0m\u001B[1m \u001B[0m┃\u001B[1m \u001B[0m\u001B[1m      Param #\u001B[0m\u001B[1m \u001B[0m┃\n",
       "┡━━━━━━━━━━━━━━━━━━━━━━━━━━━━━━━━━╇━━━━━━━━━━━━━━━━━━━━━━━━╇━━━━━━━━━━━━━━━┩\n",
       "│ normalization_2 (\u001B[38;5;33mNormalization\u001B[0m) │ (\u001B[38;5;45mNone\u001B[0m, \u001B[38;5;34m8\u001B[0m)              │            \u001B[38;5;34m17\u001B[0m │\n",
       "├─────────────────────────────────┼────────────────────────┼───────────────┤\n",
       "│ dense_4 (\u001B[38;5;33mDense\u001B[0m)                 │ (\u001B[38;5;45mNone\u001B[0m, \u001B[38;5;34m8\u001B[0m)              │            \u001B[38;5;34m72\u001B[0m │\n",
       "├─────────────────────────────────┼────────────────────────┼───────────────┤\n",
       "│ dense_5 (\u001B[38;5;33mDense\u001B[0m)                 │ (\u001B[38;5;45mNone\u001B[0m, \u001B[38;5;34m1\u001B[0m)              │             \u001B[38;5;34m9\u001B[0m │\n",
       "└─────────────────────────────────┴────────────────────────┴───────────────┘\n"
      ],
      "text/html": [
       "<pre style=\"white-space:pre;overflow-x:auto;line-height:normal;font-family:Menlo,'DejaVu Sans Mono',consolas,'Courier New',monospace\">┏━━━━━━━━━━━━━━━━━━━━━━━━━━━━━━━━━┳━━━━━━━━━━━━━━━━━━━━━━━━┳━━━━━━━━━━━━━━━┓\n",
       "┃<span style=\"font-weight: bold\"> Layer (type)                    </span>┃<span style=\"font-weight: bold\"> Output Shape           </span>┃<span style=\"font-weight: bold\">       Param # </span>┃\n",
       "┡━━━━━━━━━━━━━━━━━━━━━━━━━━━━━━━━━╇━━━━━━━━━━━━━━━━━━━━━━━━╇━━━━━━━━━━━━━━━┩\n",
       "│ normalization_2 (<span style=\"color: #0087ff; text-decoration-color: #0087ff\">Normalization</span>) │ (<span style=\"color: #00d7ff; text-decoration-color: #00d7ff\">None</span>, <span style=\"color: #00af00; text-decoration-color: #00af00\">8</span>)              │            <span style=\"color: #00af00; text-decoration-color: #00af00\">17</span> │\n",
       "├─────────────────────────────────┼────────────────────────┼───────────────┤\n",
       "│ dense_4 (<span style=\"color: #0087ff; text-decoration-color: #0087ff\">Dense</span>)                 │ (<span style=\"color: #00d7ff; text-decoration-color: #00d7ff\">None</span>, <span style=\"color: #00af00; text-decoration-color: #00af00\">8</span>)              │            <span style=\"color: #00af00; text-decoration-color: #00af00\">72</span> │\n",
       "├─────────────────────────────────┼────────────────────────┼───────────────┤\n",
       "│ dense_5 (<span style=\"color: #0087ff; text-decoration-color: #0087ff\">Dense</span>)                 │ (<span style=\"color: #00d7ff; text-decoration-color: #00d7ff\">None</span>, <span style=\"color: #00af00; text-decoration-color: #00af00\">1</span>)              │             <span style=\"color: #00af00; text-decoration-color: #00af00\">9</span> │\n",
       "└─────────────────────────────────┴────────────────────────┴───────────────┘\n",
       "</pre>\n"
      ]
     },
     "metadata": {},
     "output_type": "display_data"
    },
    {
     "data": {
      "text/plain": [
       "\u001B[1m Total params: \u001B[0m\u001B[38;5;34m98\u001B[0m (396.00 B)\n"
      ],
      "text/html": [
       "<pre style=\"white-space:pre;overflow-x:auto;line-height:normal;font-family:Menlo,'DejaVu Sans Mono',consolas,'Courier New',monospace\"><span style=\"font-weight: bold\"> Total params: </span><span style=\"color: #00af00; text-decoration-color: #00af00\">98</span> (396.00 B)\n",
       "</pre>\n"
      ]
     },
     "metadata": {},
     "output_type": "display_data"
    },
    {
     "data": {
      "text/plain": [
       "\u001B[1m Trainable params: \u001B[0m\u001B[38;5;34m81\u001B[0m (324.00 B)\n"
      ],
      "text/html": [
       "<pre style=\"white-space:pre;overflow-x:auto;line-height:normal;font-family:Menlo,'DejaVu Sans Mono',consolas,'Courier New',monospace\"><span style=\"font-weight: bold\"> Trainable params: </span><span style=\"color: #00af00; text-decoration-color: #00af00\">81</span> (324.00 B)\n",
       "</pre>\n"
      ]
     },
     "metadata": {},
     "output_type": "display_data"
    },
    {
     "data": {
      "text/plain": [
       "\u001B[1m Non-trainable params: \u001B[0m\u001B[38;5;34m17\u001B[0m (72.00 B)\n"
      ],
      "text/html": [
       "<pre style=\"white-space:pre;overflow-x:auto;line-height:normal;font-family:Menlo,'DejaVu Sans Mono',consolas,'Courier New',monospace\"><span style=\"font-weight: bold\"> Non-trainable params: </span><span style=\"color: #00af00; text-decoration-color: #00af00\">17</span> (72.00 B)\n",
       "</pre>\n"
      ]
     },
     "metadata": {},
     "output_type": "display_data"
    }
   ],
   "execution_count": 20
  },
  {
   "metadata": {},
   "cell_type": "markdown",
   "source": [
    "### Train for 1000 Epochs\n",
    "\n",
    "brb...\n"
   ],
   "id": "11fc0bd9c8936299"
  },
  {
   "metadata": {
    "ExecuteTime": {
     "end_time": "2024-05-06T03:38:34.646268Z",
     "start_time": "2024-05-06T03:38:26.181683Z"
    }
   },
   "cell_type": "code",
   "source": [
    "%%time\n",
    "designr_history = all_models['designr'].fit(\n",
    "    X_train,\n",
    "    y_train,\n",
    "    epochs=NUM_EPOCHS,\n",
    "    validation_split=VALIDATION_SPLIT,\n",
    "    callbacks=[designr_checkpoint],\n",
    "    verbose=0)\n",
    "\n",
    "all_models['designr'].load_weights(MODEL_CHECKPOINT_FILE)\n",
    "\n",
    "plot_training_loss(designr_history)\n"
   ],
   "id": "7957f34bbe6307a8",
   "outputs": [
    {
     "name": "stdout",
     "output_type": "stream",
     "text": [
      "CPU times: total: 1.19 s\n",
      "Wall time: 8.26 s\n"
     ]
    },
    {
     "data": {
      "text/plain": [
       "<Figure size 2000x1000 with 1 Axes>"
      ],
      "image/png": "[encoded data removed]"
     },
     "metadata": {},
     "output_type": "display_data"
    }
   ],
   "execution_count": 22
  },
  {
   "metadata": {},
   "cell_type": "markdown",
   "source": [
    "## Regression Model Evaluation\n",
    "\n",
    "Recall our scores from the [model selection section](../1-model/model.ipynb):\n",
    "\n",
    "| Model            | Mean Squared Error | Mean Absolute Error | Explained Variance Score | R2 Score   |\n",
    "|------------------|--------------------|---------------------|--------------------------|------------|\n",
    "| untrained_linear | 101.943787         | 9.748023            | 0.049686                 | -13.000124 |\n",
    "| linear           | 3.997827           | 1.473956            | 0.011232                 | 0.010781   |\n",
    "| 64_32_16_8_1     | 3.630893           | 1.404292            | 0.302562                 | 0.302399   |\n",
    "| 32_16_8_1        | 3.602257           | 1.385743            | 0.338213                 | 0.337592   |\n",
    "| 16_8_1           | 3.807182           | 1.415440            | 0.280600                 | 0.279393   |\n",
    "| 8_1              | 3.794136           | 1.432214            | 0.228980                 | 0.228786   |\n",
    "| 4_1              | 3.901053           | 1.461622            | 0.178054                 | 0.177953   |\n",
    "| 2_1              | 3.946111           | 1.468480            | 0.044709                 | 0.044348   |\n",
    "\n",
    "***Note**: Above scores by models trained on all features, not the reduced feature set. Let's see if our feature engineering paid off!*\n",
    "\n"
   ],
   "id": "8839a1b1a8f762a"
  },
  {
   "metadata": {},
   "cell_type": "markdown",
   "source": "### Score our Model with Reduced Features on Test Data\n",
   "id": "1ba96e64af055d11"
  },
  {
   "metadata": {
    "ExecuteTime": {
     "end_time": "2024-05-06T03:50:25.973312Z",
     "start_time": "2024-05-06T03:50:25.868553Z"
    }
   },
   "cell_type": "code",
   "source": [
    "%%time\n",
    "preds = all_models['designr'].predict(X_test).flatten()\n",
    "scores_df = score_model(preds, y_test, index='designr')\n",
    "leaderboard = scores_df.copy()\n",
    "leaderboard[:]\n"
   ],
   "id": "aa4b77a8152c3dde",
   "outputs": [
    {
     "name": "stdout",
     "output_type": "stream",
     "text": [
      "\u001B[1m24/24\u001B[0m \u001B[32m━━━━━━━━━━━━━━━━━━━━\u001B[0m\u001B[37m\u001B[0m \u001B[1m0s\u001B[0m 1ms/step \n",
      "CPU times: total: 46.9 ms\n",
      "Wall time: 98.6 ms\n"
     ]
    },
    {
     "data": {
      "text/plain": [
       "         mean_squared_error  mean_absolute_error  explained_variance_score  \\\n",
       "designr            4.377779             1.542052                 -0.039502   \n",
       "\n",
       "         r2_score  \n",
       "designr -0.039519  "
      ],
      "text/html": [
       "<div>\n",
       "<style scoped>\n",
       "    .dataframe tbody tr th:only-of-type {\n",
       "        vertical-align: middle;\n",
       "    }\n",
       "\n",
       "    .dataframe tbody tr th {\n",
       "        vertical-align: top;\n",
       "    }\n",
       "\n",
       "    .dataframe thead th {\n",
       "        text-align: right;\n",
       "    }\n",
       "</style>\n",
       "<table border=\"1\" class=\"dataframe\">\n",
       "  <thead>\n",
       "    <tr style=\"text-align: right;\">\n",
       "      <th></th>\n",
       "      <th>mean_squared_error</th>\n",
       "      <th>mean_absolute_error</th>\n",
       "      <th>explained_variance_score</th>\n",
       "      <th>r2_score</th>\n",
       "    </tr>\n",
       "  </thead>\n",
       "  <tbody>\n",
       "    <tr>\n",
       "      <th>designr</th>\n",
       "      <td>4.377779</td>\n",
       "      <td>1.542052</td>\n",
       "      <td>-0.039502</td>\n",
       "      <td>-0.039519</td>\n",
       "    </tr>\n",
       "  </tbody>\n",
       "</table>\n",
       "</div>"
      ]
     },
     "execution_count": 23,
     "metadata": {},
     "output_type": "execute_result"
    }
   ],
   "execution_count": 23
  },
  {
   "metadata": {},
   "cell_type": "markdown",
   "source": [
    "#### Mean Squared Error\n",
    "\n",
    "\n",
    "\n",
    "### Compute the ROC Curve\n",
    "\n",
    "This is a regression problem, so the ROC curve is more of a challenge.\n",
    "\n",
    "First, we need to convert our predictions into True/False. Since we are trying to predict a crab's age,\n",
    "a threshold of 2 years is a good starting point. If the prediction is within 2 years of the actual, we'll consider it a success.\n",
    "\n",
    "#### Convert Predictions to True/False\n",
    "\n",
    "**Threshold:** 2 years\n"
   ],
   "id": "26eba876b1148c25"
  },
  {
   "metadata": {
    "ExecuteTime": {
     "end_time": "2024-05-06T03:37:01.161069Z",
     "start_time": "2024-05-06T03:37:01.158095Z"
    }
   },
   "cell_type": "code",
   "source": [
    "%%time\n",
    "## Convert Predictions to True/False based on threshold of 2 years\n",
    "# get absolute difference between prediction and actual\n"
   ],
   "id": "b636cbf720dc1fb4",
   "outputs": [
    {
     "name": "stdout",
     "output_type": "stream",
     "text": [
      "CPU times: total: 0 ns\n",
      "Wall time: 0 ns\n"
     ]
    }
   ],
   "execution_count": 21
  }
 ],
 "metadata": {
  "kernelspec": {
   "display_name": "Python 3",
   "language": "python",
   "name": "python3"
  },
  "language_info": {
   "codemirror_mode": {
    "name": "ipython",
    "version": 2
   },
   "file_extension": ".py",
   "mimetype": "text/x-python",
   "name": "python",
   "nbconvert_exporter": "python",
   "pygments_lexer": "ipython2",
   "version": "2.7.6"
  }
 },
 "nbformat": 4,
 "nbformat_minor": 5
}
