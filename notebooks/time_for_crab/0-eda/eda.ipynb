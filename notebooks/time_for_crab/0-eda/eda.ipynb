{
 "cells": [
  {
   "metadata": {},
   "cell_type": "markdown",
   "source": [
    "# Exploratory Data Analysis\n",
    "\n",
    "*In which we learn more about crabs and overfit on purpose.*\n"
   ],
   "id": "3aa816300ef13367"
  },
  {
   "metadata": {},
   "cell_type": "markdown",
   "source": [
    "## Introduction\n",
    "\n",
    "Crabs are here, and they're mighty tasty.\n",
    "\n",
    "Knowing how old they are helps identify full-sized crabs that are ready for the pot.\n",
    " \n",
    "![Crab](https://storage.googleapis.com/kaggle-datasets-images/1734027/2834512/a0e345e63b3e426ddb489d07cc0090cd/dataset-cover.jpg?t=2021-11-21-06-55-37)\n",
    "\n",
    "Prediction (regression) of mud crab age based on physical features.\n",
    "\n",
    "## Reasons for Choosing This Dataset\n",
    "\n",
    "A good dataset is the foundation of a good model.\n",
    "\n",
    "#### My reasons:\n",
    "\n",
    "- Highly-rated tabular data with a natural prediction target (Age).\n",
    "- Regression task since I like a challenge.\n",
    "- Features easy to conceptualize for feature engineering.\n",
    "- On the smaller side to quickly iterate on.\n",
    "- Crabs are cool.\n",
    "\n",
    "##### Reasons given by the [dataset on Kaggle](https://www.kaggle.com/datasets/sidhus/crab-age-prediction):\n",
    "\n",
    "> Its a great starting point for classical regression analysis and feature engineering and understand the impact of feature engineering in Data Science domain.\n",
    "> For a commercial crab farmer knowing the right age of the crab helps them decide if and when to harvest the crabs. Beyond a certain age, there is negligible growth in crab's physical characteristics and hence, it is important to time the harvesting to reduce cost and increase profit.\n",
    "\n",
    "### Dataset Columns\n",
    "\n",
    "The dataset contains the following columns:\n",
    "\n",
    "---\n",
    "\n",
    "| Column Name    | Description                                                                                         |\n",
    "|----------------|-----------------------------------------------------------------------------------------------------|\n",
    "| Sex            | Gender of the Crab - Male, Female and Indeterminate.                                                |\n",
    "| Length         | Length of the Crab (in Feet; 1 foot = 30.48 cms)                                                    |\n",
    "| Diameter       | Diameter of the Crab (in Feet; 1 foot = 30.48 cms)                                                  |\n",
    "| Height         | Height of the Crab (in Feet; 1 foot = 30.48 cms)                                                    |\n",
    "| Weight         | Weight of the Crab (in ounces; 1 Pound = 16 ounces)                                                 |\n",
    "| Shucked Weight | Weight without the shell (in ounces; 1 Pound = 16 ounces)                                           |\n",
    "| Viscera Weight | is weight that wraps around your abdominal organs deep inside body (in ounces; 1 Pound = 16 ounces) |\n",
    "| Shell Weight   | Weight of the Shell (in ounces; 1 Pound = 16 ounces)                                                |\n",
    "| Age            | Age of the Crab (in months)                                                                         |\n"
   ],
   "id": "b4fcf468cd1c1a93"
  },
  {
   "metadata": {},
   "cell_type": "markdown",
   "source": [
    "### Define Constants\n",
    "\n",
    "The PREDICTION_TARGET constant defines the column from the dataset which we will predict. 'Age' is the target column in this case.\n"
   ],
   "id": "e284061d6af46c9d"
  },
  {
   "metadata": {
    "ExecuteTime": {
     "end_time": "2024-05-01T02:26:07.750465Z",
     "start_time": "2024-05-01T02:26:07.747681Z"
    }
   },
   "cell_type": "code",
   "source": [
    "DATASET_FILE = '../datasets/CrabAgePrediction.csv' # 'https://www.kaggle.com/sidhus/crab-age-prediction/download' or './data/CrabAgePrediction.csv'\n",
    "NEXT_CACHE_FILE = '../cache/crabs.json'\n",
    "NEXT_NOTEBOOK = '../0-eda/overfit.ipynb'\n",
    "\n",
    "PREDICTION_TARGET = 'Age'    # 'Age' is predicted\n",
    "DATASET_COLUMNS = ['Sex','Length','Diameter','Height','Weight','Shucked Weight','Viscera Weight','Shell Weight',PREDICTION_TARGET]\n",
    "REQUIRED_COLUMNS = [PREDICTION_TARGET]\n"
   ],
   "id": "11304e41628ac1ad",
   "outputs": [],
   "execution_count": 98
  },
  {
   "metadata": {},
   "cell_type": "markdown",
   "source": "### Importing Libraries",
   "id": "4f7ca830abb67e7e"
  },
  {
   "metadata": {
    "ExecuteTime": {
     "end_time": "2024-05-01T02:26:07.777828Z",
     "start_time": "2024-05-01T02:26:07.774038Z"
    }
   },
   "cell_type": "code",
   "source": [
    "from notebooks.time_for_crab.mlutils import *\n",
    "\n",
    "import numpy as np\n",
    "import pandas as pd\n",
    "\n",
    "#from sklearn.svm import SVC\n",
    "#from sklearn.model_selection import cross_val_score, cross_val_predict, train_test_split\n",
    "#from sklearn.metrics import accuracy_score, precision_score, recall_score, f1_score\n",
    "\n",
    "try:\n",
    "    # for visual mode. `pip install -e .[visual]`\n",
    "    import matplotlib.pyplot as plt\n",
    "    import matplotlib\n",
    "    %matplotlib inline\n",
    "    import seaborn as sns\n",
    "except ModuleNotFoundError:\n",
    "    plt = None\n",
    "    sns = None\n",
    "\n",
    "pd.set_option('mode.copy_on_write', True)\n"
   ],
   "id": "90077069e600e1b6",
   "outputs": [],
   "execution_count": 99
  },
  {
   "metadata": {},
   "cell_type": "markdown",
   "source": [
    "### Dataset Cleanup\n",
    "\n",
    "Dirty data is no good for crabs. Let's clean it up.\n",
    "\n",
    "![How to clean a crab](https://www.recipetineats.com/wp-content/uploads/2021/07/Cleaning-and-preparing-crab-template-2.jpg)\n",
    "\n",
    "#### Crab Cleaning Steps\n",
    "\n",
    "- Drop rows missing required columns.\n",
    "- Drop rows missing too many values.\n",
    "- Convert natural booleans\n",
    "    - E.g., `Y/N` or `Positive/Negative` to `0/1`.\n",
    "- Fill nulls for typically-binary variables with the median.\n",
    "- Fill nulls for typically-continuous variables with the median.\n",
    "- Fill nulls for typically-categorical variables with default values.\n",
    "    - E.g., `Unknown`, but domain knowledge is required here.\n",
    "- Fill nulls for typically-text variables with empty strings.\n",
    "- One-hot encode categorical variables.\n"
   ],
   "id": "ffecb38e7f5e9f83"
  },
  {
   "metadata": {
    "ExecuteTime": {
     "end_time": "2024-05-01T02:26:07.782691Z",
     "start_time": "2024-05-01T02:26:07.778836Z"
    }
   },
   "cell_type": "code",
   "source": [
    "def data_cleanup(df:pd.DataFrame) -> pd.DataFrame:\n",
    "    \"\"\"Clean-up the DataFrame for crabs.\n",
    "\n",
    "    Update values:\n",
    "        - Drop rows missing required columns.\n",
    "        - Drop rows missing too many values.\n",
    "        - Convert natural booleans\n",
    "            - E.g., `Y/N` or `Positive/Negative` to `0/1`.\n",
    "        - Fill nulls for typically-binary variables with `0.5`.\n",
    "        - Fill nulls for typically-continuous variables with the median.\n",
    "        - Fill nulls for typically-categorical variables with default values.\n",
    "            - E.g., `Unknown`\n",
    "        - Fill nulls for typically-text variables with empty strings.\n",
    "        - One-hot encode categorical variables.\n",
    "\n",
    "    :param df: The data.\n",
    "    :return: The data without disposals.\n",
    "    \"\"\"\n",
    "    # remove rows missing too many values\n",
    "    df = df.dropna(thresh=3)\n",
    "\n",
    "    # remove rows missing required columns\n",
    "    df = df.dropna(subset=REQUIRED_COLUMNS)\n",
    "\n",
    "    # convert natural booleans\n",
    "    df = df.replace(to_replace={\n",
    "        False: 0, True: 1,\n",
    "        'negative': 0, 'positive': 1,\n",
    "        'No': 0, 'Yes': 1,\n",
    "    })\n",
    "\n",
    "    # fill nulls for typically-binary variables with the median\n",
    "    # df['  '] = df['  '].fillna(df['  '].median())\n",
    "\n",
    "    # fill nulls for typically-continuous variables with the median\n",
    "    # df['  '] = df['  '].fillna(df['  '].median())\n",
    "\n",
    "    # fill nulls for typically-categorical variables with default values\n",
    "    # df['  '] = df['  '].fillna('Unknown')\n",
    "\n",
    "    # fill nulls for typically-text variables with empty strings\n",
    "    # df['  '] = df['  '].fillna('')\n",
    "\n",
    "    # one-hot encode categorical variables\n",
    "    df = pd.get_dummies(df, columns=['Sex'])\n",
    "\n",
    "    # determine which features are most important\n",
    "    return df\n"
   ],
   "id": "990467fabd02ee16",
   "outputs": [],
   "execution_count": 100
  },
  {
   "metadata": {},
   "cell_type": "markdown",
   "source": [
    "## Exploratory Data Analysis\n",
    "\n",
    "Get that pot of water ready. It's crab cookin' time.\n",
    "\n",
    "![Crab pot](https://chefscornerstore.com/product_images/uploaded_images/steaming-crabs.jpg)\n",
    "\n",
    "### Load the Data from CSV\n",
    "\n",
    "Analyzing the output here will help us revise our data cleanup and augmentation functions.\n",
    "\n",
    "The initial data is in CSV format. We will load it into a pandas DataFrame.  \n",
    "We will ultimately save it to a JSON file for easier loading in the next steps.\n"
   ],
   "id": "978a6294159fd7ea"
  },
  {
   "metadata": {
    "ExecuteTime": {
     "end_time": "2024-05-01T02:26:07.798162Z",
     "start_time": "2024-05-01T02:26:07.782691Z"
    }
   },
   "cell_type": "code",
   "source": [
    "crabs = pd.read_csv(DATASET_FILE)  # load the data\n",
    "display_df(crabs, show_info=True, show_missing=True, show_distinct=True)\n"
   ],
   "id": "cf3911a433d2da16",
   "outputs": [
    {
     "name": "stdout",
     "output_type": "stream",
     "text": [
      "DataFrame shape: (3893, 9)\n",
      "First 5 rows:\n",
      "  Sex  Length  Diameter  Height     Weight  Shucked Weight  Viscera Weight  \\\n",
      "0   F  1.4375    1.1750  0.4125  24.635715       12.332033        5.584852   \n",
      "1   M  0.8875    0.6500  0.2125   5.400580        2.296310        1.374951   \n",
      "2   I  1.0375    0.7750  0.2500   7.952035        3.231843        1.601747   \n",
      "3   F  1.1750    0.8875  0.2500  13.480187        4.748541        2.282135   \n",
      "4   I  0.8875    0.6625  0.2125   6.903103        3.458639        1.488349   \n",
      "\n",
      "   Shell Weight  Age  \n",
      "0      6.747181    9  \n",
      "1      1.559222    6  \n",
      "2      2.764076    6  \n",
      "3      5.244657   10  \n",
      "4      1.700970    6  \n",
      "<class 'pandas.core.frame.DataFrame'>\n",
      "RangeIndex: 3893 entries, 0 to 3892\n",
      "Data columns (total 9 columns):\n",
      " #   Column          Non-Null Count  Dtype  \n",
      "---  ------          --------------  -----  \n",
      " 0   Sex             3893 non-null   object \n",
      " 1   Length          3893 non-null   float64\n",
      " 2   Diameter        3893 non-null   float64\n",
      " 3   Height          3893 non-null   float64\n",
      " 4   Weight          3893 non-null   float64\n",
      " 5   Shucked Weight  3893 non-null   float64\n",
      " 6   Viscera Weight  3893 non-null   float64\n",
      " 7   Shell Weight    3893 non-null   float64\n",
      " 8   Age             3893 non-null   int64  \n",
      "dtypes: float64(7), int64(1), object(1)\n",
      "memory usage: 273.9+ KB\n",
      "Info:\n",
      "None\n",
      "Missing values:\n",
      "Sex               0\n",
      "Length            0\n",
      "Diameter          0\n",
      "Height            0\n",
      "Weight            0\n",
      "Shucked Weight    0\n",
      "Viscera Weight    0\n",
      "Shell Weight      0\n",
      "Age               0\n",
      "dtype: int64\n",
      "Sex distinct values:\n",
      "['F' 'M' 'I']\n",
      "Length distinct values:\n",
      "[1.4375 0.8875 1.0375 1.175  1.55   1.3    1.325  1.5875 0.9125 0.825 ]\n",
      "Diameter distinct values:\n",
      "[1.175  0.65   0.775  0.8875 0.6625 1.1625 1.     1.0125 1.25   0.6875]\n",
      "Height distinct values:\n",
      "[0.4125 0.2125 0.25   0.35   0.325  0.375  0.3375 0.1875 0.4375 0.225 ]\n",
      "Weight distinct values:\n",
      "[24.6357155   5.40057975  7.95203475 13.48018725  6.90310325 28.6613445\n",
      " 17.70426275 23.57260925 42.2124055   6.80388   ]\n",
      "Shucked Weight distinct values:\n",
      "[12.3320325   2.2963095   3.231843    4.74854125  3.458639   13.5794105\n",
      "  6.0951425   9.979024   20.2698925   3.061746  ]\n",
      "Viscera Weight distinct values:\n",
      "[5.5848515  1.37495075 1.60174675 2.28213475 1.48834875 6.76135575\n",
      " 5.85417175 5.3013565  9.76640275 1.26155275]\n",
      "Shell Weight distinct values:\n",
      "[ 6.747181    1.5592225   2.76407625  5.2446575   1.70097     7.2291225\n",
      "  4.819415    7.15824875 10.24834425  2.08368825]\n",
      "Age distinct values:\n",
      "[ 9  6 10  8 15 13  7 11 12  5]\n"
     ]
    }
   ],
   "execution_count": 101
  },
  {
   "metadata": {},
   "cell_type": "markdown",
   "source": [
    "### Memory Reduction\n",
    "\n",
    "Crabs were never known for their memory. Let's minimize the memory of our DataFrame using the smallest data types to fit the data.\n",
    "\n",
    "The reason for this is to save computational resources and time. The smaller the data, the faster the processing.\n"
   ],
   "id": "6e890e0ae0eaebb6"
  },
  {
   "metadata": {
    "ExecuteTime": {
     "end_time": "2024-05-01T02:26:07.806141Z",
     "start_time": "2024-05-01T02:26:07.799172Z"
    }
   },
   "cell_type": "code",
   "source": [
    "crabs = data_downcasting(crabs)\n",
    "crabs.info()\n"
   ],
   "id": "aef673ca501444fb",
   "outputs": [
    {
     "name": "stdout",
     "output_type": "stream",
     "text": [
      "Memory usage of dataframe is 0.2674 MB (before)\n",
      "Memory usage of dataframe is 0.0855 MB (after)\n",
      "Reduced 68.0%\n",
      "<class 'pandas.core.frame.DataFrame'>\n",
      "RangeIndex: 3893 entries, 0 to 3892\n",
      "Data columns (total 9 columns):\n",
      " #   Column          Non-Null Count  Dtype  \n",
      "---  ------          --------------  -----  \n",
      " 0   Sex             3893 non-null   object \n",
      " 1   Length          3893 non-null   float16\n",
      " 2   Diameter        3893 non-null   float16\n",
      " 3   Height          3893 non-null   float16\n",
      " 4   Weight          3893 non-null   float16\n",
      " 5   Shucked Weight  3893 non-null   float16\n",
      " 6   Viscera Weight  3893 non-null   float16\n",
      " 7   Shell Weight    3893 non-null   float16\n",
      " 8   Age             3893 non-null   int8   \n",
      "dtypes: float16(7), int8(1), object(1)\n",
      "memory usage: 87.6+ KB\n"
     ]
    }
   ],
   "execution_count": 102
  },
  {
   "metadata": {},
   "cell_type": "markdown",
   "source": [
    "### Cleanup the Data\n",
    "\n",
    "Let's clean up the data and display it again.\n",
    "\n",
    "#### Missing Values\n",
    "\n",
    "No missing values! We're off to a good start with this dataset. Will crab be on the menu tonight?\n",
    "\n",
    "#### Non-numeric Data\n",
    "\n",
    "It looks like 'Sex' is a categorical variable. We'll need to convert this to a numeric value. Let's use **one-hot encoding**.\n"
   ],
   "id": "c220aa8d00eec147"
  },
  {
   "metadata": {
    "ExecuteTime": {
     "end_time": "2024-05-01T02:26:07.818654Z",
     "start_time": "2024-05-01T02:26:07.806141Z"
    }
   },
   "cell_type": "code",
   "source": [
    "crabs = data_cleanup(crabs)\n",
    "display_df(crabs, show_info=True, show_missing=False, show_distinct=True)\n"
   ],
   "id": "ac25345b122dcb81",
   "outputs": [
    {
     "name": "stdout",
     "output_type": "stream",
     "text": [
      "DataFrame shape: (3893, 11)\n",
      "First 5 rows:\n",
      "     Length  Diameter    Height     Weight  Shucked Weight  Viscera Weight  \\\n",
      "0  1.437500  1.174805  0.412598  24.640625       12.335938        5.585938   \n",
      "1  0.887695  0.649902  0.212524   5.402344        2.296875        1.375000   \n",
      "2  1.037109  0.774902  0.250000   7.953125        3.232422        1.601562   \n",
      "3  1.174805  0.887695  0.250000  13.476562        4.750000        2.281250   \n",
      "4  0.887695  0.662598  0.212524   6.902344        3.458984        1.488281   \n",
      "\n",
      "   Shell Weight  Age  Sex_F  Sex_I  Sex_M  \n",
      "0      6.746094    9   True  False  False  \n",
      "1      1.559570    6  False  False   True  \n",
      "2      2.763672    6  False   True  False  \n",
      "3      5.246094   10   True  False  False  \n",
      "4      1.701172    6  False   True  False  \n",
      "<class 'pandas.core.frame.DataFrame'>\n",
      "RangeIndex: 3893 entries, 0 to 3892\n",
      "Data columns (total 11 columns):\n",
      " #   Column          Non-Null Count  Dtype  \n",
      "---  ------          --------------  -----  \n",
      " 0   Length          3893 non-null   float16\n",
      " 1   Diameter        3893 non-null   float16\n",
      " 2   Height          3893 non-null   float16\n",
      " 3   Weight          3893 non-null   float16\n",
      " 4   Shucked Weight  3893 non-null   float16\n",
      " 5   Viscera Weight  3893 non-null   float16\n",
      " 6   Shell Weight    3893 non-null   float16\n",
      " 7   Age             3893 non-null   int8   \n",
      " 8   Sex_F           3893 non-null   bool   \n",
      " 9   Sex_I           3893 non-null   bool   \n",
      " 10  Sex_M           3893 non-null   bool   \n",
      "dtypes: bool(3), float16(7), int8(1)\n",
      "memory usage: 68.6 KB\n",
      "Info:\n",
      "None\n",
      "Length distinct values:\n",
      "[1.4375 0.8877 1.037  1.175  1.55   1.3    1.325  1.588  0.9126 0.825 ]\n",
      "Diameter distinct values:\n",
      "[1.175  0.65   0.775  0.8877 0.6626 1.162  1.     1.013  1.25   0.6875]\n",
      "Height distinct values:\n",
      "[0.4126 0.2125 0.25   0.35   0.325  0.375  0.3374 0.1875 0.4375 0.225 ]\n",
      "Weight distinct values:\n",
      "[24.64   5.402  7.953 13.48   6.902 28.66  17.7   23.58  42.22   6.805]\n",
      "Shucked Weight distinct values:\n",
      "[12.336  2.297  3.232  4.75   3.459 13.58   6.094  9.98  20.27   3.062]\n",
      "Viscera Weight distinct values:\n",
      "[5.586 1.375 1.602 2.281 1.488 6.76  5.855 5.3   9.766 1.262]\n",
      "Shell Weight distinct values:\n",
      "[ 6.746  1.56   2.764  5.246  1.701  7.23   4.82   7.16  10.25   2.084]\n",
      "Age distinct values:\n",
      "[ 9  6 10  8 15 13  7 11 12  5]\n",
      "Sex_F distinct values:\n",
      "[ True False]\n",
      "Sex_I distinct values:\n",
      "[False  True]\n",
      "Sex_M distinct values:\n",
      "[False  True]\n"
     ]
    }
   ],
   "execution_count": 103
  },
  {
   "metadata": {},
   "cell_type": "markdown",
   "source": [
    "### Save the Data\n",
    "\n",
    "So we can pick this back up on the [next step](../0-eda/overfit.ipynb).\n"
   ],
   "id": "cb2e3d1be42bec5e"
  },
  {
   "metadata": {
    "ExecuteTime": {
     "end_time": "2024-05-01T02:26:07.825695Z",
     "start_time": "2024-05-01T02:26:07.818654Z"
    }
   },
   "cell_type": "code",
   "source": "crabs.to_json(NEXT_CACHE_FILE)\n",
   "id": "7bec1925a2b10c7a",
   "outputs": [],
   "execution_count": 104
  },
  {
   "metadata": {},
   "cell_type": "markdown",
   "source": [
    "### Onwards to Overfitting\n",
    "\n",
    "See the [next section](../0-eda/overfit.ipynb) to overfit on purpose.\n"
   ],
   "id": "2b211fed6b1222f1"
  }
 ],
 "metadata": {
  "kernelspec": {
   "display_name": "Python 3",
   "language": "python",
   "name": "python3"
  },
  "language_info": {
   "codemirror_mode": {
    "name": "ipython",
    "version": 2
   },
   "file_extension": ".py",
   "mimetype": "text/x-python",
   "name": "python",
   "nbconvert_exporter": "python",
   "pygments_lexer": "ipython2",
   "version": "2.7.6"
  }
 },
 "nbformat": 4,
 "nbformat_minor": 5
}
