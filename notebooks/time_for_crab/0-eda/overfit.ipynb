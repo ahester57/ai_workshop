{
 "cells": [
  {
   "metadata": {},
   "cell_type": "markdown",
   "source": [
    "# Overfitting\n",
    "\n",
    "*In which we practice one thing so much that we get worse at everything else.*\n"
   ],
   "id": "34d7ae6b0fe23758"
  },
  {
   "metadata": {},
   "cell_type": "markdown",
   "source": "### Define Constants\n",
   "id": "df9e366b3e1cbfb0"
  },
  {
   "metadata": {
    "ExecuteTime": {
     "end_time": "2024-05-01T07:04:17.282342Z",
     "start_time": "2024-05-01T07:04:17.279888Z"
    }
   },
   "cell_type": "code",
   "source": [
    "CACHE_FILE = '../cache/crabs.json'\n",
    "NEXT_NOTEBOOK = '../1-models/models.ipynb'\n",
    "\n",
    "PREDICTION_TARGET = 'Age'    # 'Age' is predicted\n",
    "DATASET_COLUMNS = ['Sex','Length','Diameter','Height','Weight','Shucked Weight','Viscera Weight','Shell Weight',PREDICTION_TARGET]\n",
    "REQUIRED_COLUMNS = [PREDICTION_TARGET]\n"
   ],
   "id": "24f93f68f245437",
   "outputs": [],
   "execution_count": 18
  },
  {
   "metadata": {},
   "cell_type": "markdown",
   "source": "### Importing Libraries\n",
   "id": "606cbd1e61805d2b"
  },
  {
   "metadata": {
    "ExecuteTime": {
     "end_time": "2024-05-01T07:04:17.314214Z",
     "start_time": "2024-05-01T07:04:17.310869Z"
    }
   },
   "cell_type": "code",
   "source": [
    "from notebooks.time_for_crab.mlutils import data_downcasting, display_df\n",
    "\n",
    "import keras\n",
    "import numpy as np\n",
    "import pandas as pd\n",
    "\n",
    "#from sklearn.svm import SVC\n",
    "#from sklearn.model_selection import cross_val_score, cross_val_predict, train_test_split\n",
    "#from sklearn.metrics import accuracy_score, precision_score, recall_score, f1_score\n",
    "\n",
    "try:\n",
    "    # for visual mode. `pip install -e .[visual]`\n",
    "    import matplotlib.pyplot as plt\n",
    "    import matplotlib\n",
    "    %matplotlib inline\n",
    "    import seaborn as sns\n",
    "except ModuleNotFoundError:\n",
    "    plt = None\n",
    "    sns = None\n",
    "\n",
    "pd.set_option('mode.copy_on_write', True)\n"
   ],
   "id": "ff056db45593415b",
   "outputs": [],
   "execution_count": 19
  },
  {
   "metadata": {},
   "cell_type": "markdown",
   "source": [
    "### Load Data from Cache\n",
    "\n",
    "In the [previous section](../0-eda/eda.ipynb), we saved the cleaned data to a cache file. Let's load it back.\n"
   ],
   "id": "f7bc9fa01c60b1db"
  },
  {
   "metadata": {
    "ExecuteTime": {
     "end_time": "2024-05-01T07:04:17.335329Z",
     "start_time": "2024-05-01T07:04:17.315221Z"
    }
   },
   "cell_type": "code",
   "source": [
    "crabs = pd.read_json(CACHE_FILE)\n",
    "display_df(crabs, show_info=True)\n"
   ],
   "id": "57948eed1dbc1dd3",
   "outputs": [
    {
     "name": "stdout",
     "output_type": "stream",
     "text": [
      "DataFrame shape: (3893, 11)\n",
      "First 5 rows:\n",
      "     Length  Diameter    Height     Weight  Shucked Weight  Viscera Weight  \\\n",
      "0  1.437500  1.174805  0.412598  24.640625       12.335938        5.585938   \n",
      "1  0.887695  0.649902  0.212524   5.402344        2.296875        1.375000   \n",
      "2  1.037109  0.774902  0.250000   7.953125        3.232422        1.601562   \n",
      "3  1.174805  0.887695  0.250000  13.476562        4.750000        2.281250   \n",
      "4  0.887695  0.662598  0.212524   6.902344        3.458984        1.488281   \n",
      "\n",
      "   Shell Weight  Age  Sex_F  Sex_I  Sex_M  \n",
      "0      6.746094    9   True  False  False  \n",
      "1      1.559570    6  False  False   True  \n",
      "2      2.763672    6  False   True  False  \n",
      "3      5.246094   10   True  False  False  \n",
      "4      1.701172    6  False   True  False  \n",
      "<class 'pandas.core.frame.DataFrame'>\n",
      "Index: 3893 entries, 0 to 3892\n",
      "Data columns (total 11 columns):\n",
      " #   Column          Non-Null Count  Dtype  \n",
      "---  ------          --------------  -----  \n",
      " 0   Length          3893 non-null   float64\n",
      " 1   Diameter        3893 non-null   float64\n",
      " 2   Height          3893 non-null   float64\n",
      " 3   Weight          3893 non-null   float64\n",
      " 4   Shucked Weight  3893 non-null   float64\n",
      " 5   Viscera Weight  3893 non-null   float64\n",
      " 6   Shell Weight    3893 non-null   float64\n",
      " 7   Age             3893 non-null   int64  \n",
      " 8   Sex_F           3893 non-null   bool   \n",
      " 9   Sex_I           3893 non-null   bool   \n",
      " 10  Sex_M           3893 non-null   bool   \n",
      "dtypes: bool(3), float64(7), int64(1)\n",
      "memory usage: 285.1 KB\n",
      "Info:\n",
      "None\n"
     ]
    }
   ],
   "execution_count": 20
  },
  {
   "metadata": {},
   "cell_type": "markdown",
   "source": [
    "### Memory Reduction\n",
    "\n",
    "Crabs were never known for their memory. Let's minimize the memory of our DataFrame using the smallest data types to fit the data.\n",
    "\n",
    "The reason for this is to save computational resources and time. The smaller the data, the faster the processing.\n"
   ],
   "id": "bf56d2f88409f8ef"
  },
  {
   "metadata": {
    "ExecuteTime": {
     "end_time": "2024-05-01T07:04:17.346406Z",
     "start_time": "2024-05-01T07:04:17.335329Z"
    }
   },
   "cell_type": "code",
   "source": [
    "crabs = data_downcasting(crabs)\n",
    "display_df(crabs, show_info=True)\n"
   ],
   "id": "8b51f418a6b94883",
   "outputs": [
    {
     "name": "stdout",
     "output_type": "stream",
     "text": [
      "Memory usage of dataframe is 0.2784 MB (before)\n",
      "Memory usage of dataframe is 0.0965 MB (after)\n",
      "Reduced 65.3%\n",
      "DataFrame shape: (3893, 11)\n",
      "First 5 rows:\n",
      "     Length  Diameter    Height     Weight  Shucked Weight  Viscera Weight  \\\n",
      "0  1.437500  1.174805  0.412598  24.640625       12.335938        5.585938   \n",
      "1  0.887695  0.649902  0.212524   5.402344        2.296875        1.375000   \n",
      "2  1.037109  0.774902  0.250000   7.953125        3.232422        1.601562   \n",
      "3  1.174805  0.887695  0.250000  13.476562        4.750000        2.281250   \n",
      "4  0.887695  0.662598  0.212524   6.902344        3.458984        1.488281   \n",
      "\n",
      "   Shell Weight  Age  Sex_F  Sex_I  Sex_M  \n",
      "0      6.746094    9   True  False  False  \n",
      "1      1.559570    6  False  False   True  \n",
      "2      2.763672    6  False   True  False  \n",
      "3      5.246094   10   True  False  False  \n",
      "4      1.701172    6  False   True  False  \n",
      "<class 'pandas.core.frame.DataFrame'>\n",
      "Index: 3893 entries, 0 to 3892\n",
      "Data columns (total 11 columns):\n",
      " #   Column          Non-Null Count  Dtype  \n",
      "---  ------          --------------  -----  \n",
      " 0   Length          3893 non-null   float16\n",
      " 1   Diameter        3893 non-null   float16\n",
      " 2   Height          3893 non-null   float16\n",
      " 3   Weight          3893 non-null   float16\n",
      " 4   Shucked Weight  3893 non-null   float16\n",
      " 5   Viscera Weight  3893 non-null   float16\n",
      " 6   Shell Weight    3893 non-null   float16\n",
      " 7   Age             3893 non-null   int8   \n",
      " 8   Sex_F           3893 non-null   bool   \n",
      " 9   Sex_I           3893 non-null   bool   \n",
      " 10  Sex_M           3893 non-null   bool   \n",
      "dtypes: bool(3), float16(7), int8(1)\n",
      "memory usage: 98.8 KB\n",
      "Info:\n",
      "None\n"
     ]
    }
   ],
   "execution_count": 21
  },
  {
   "metadata": {},
   "cell_type": "markdown",
   "source": [
    "## Overfitting Crab Age\n",
    "\n",
    "![Large mud crab measure](https://upload.wikimedia.org/wikipedia/commons/thumb/6/65/CSIRO_ScienceImage_10696_Mud_crabs_are_caught_measured_tagged_and_released_as_part_of_the_research_into_the_effectiveness_of_green_zones_in_Moreton_Bay.jpg/1920px-CSIRO_ScienceImage_10696_Mud_crabs_are_caught_measured_tagged_and_released_as_part_of_the_research_into_the_effectiveness_of_green_zones_in_Moreton_Bay.jpg)\n"
   ],
   "id": "b35dc646c31943be"
  },
  {
   "metadata": {},
   "cell_type": "markdown",
   "source": [
    "### Overfitting Goals and Methods \n",
    "\n",
    "The goal here is to show how complex of a model it will take to overfit the data.\n",
    "\n",
    "We will use the following methods to overfit the data:\n",
    "\n",
    "1. **Linear Regression**: Gradually increase the complexity of a linear regression model.\n",
    "2. **Model Stacking**: Stack models to overfit the model.\n",
    "\n",
    "> There are two steps in your single-variable linear regression model:  \n",
    ">    1. Normalize the 'Horsepower' input features using the tf.keras.layers.Normalization preprocessing layer.\n",
    ">    2. Apply a linear transformation ($y = mx + b$) to produce 1 output using a linear layer (tf.keras.layers.Dense).\n",
    ">\n",
    "> https://www.tensorflow.org/tutorials/keras/regression#linear_regression_with_one_variable \n",
    "\n",
    "Instead of 'Horsepower', we'll use 'Shell Weight' as the regression variable.\n"
   ],
   "id": "2d4667d6ad411e26"
  },
  {
   "metadata": {
    "ExecuteTime": {
     "end_time": "2024-05-01T07:05:38.174908Z",
     "start_time": "2024-05-01T07:05:38.163876Z"
    }
   },
   "cell_type": "code",
   "source": [
    "crabs = data_downcasting(crabs)\n",
    "display_df(crabs, show_info=True)\n"
   ],
   "id": "b17f6a9aaa264e09",
   "outputs": [
    {
     "name": "stdout",
     "output_type": "stream",
     "text": [
      "Memory usage of dataframe is 0.0965 MB (before)\n",
      "Memory usage of dataframe is 0.0965 MB (after)\n",
      "Reduced 0.0%\n",
      "DataFrame shape: (3893, 11)\n",
      "First 5 rows:\n",
      "     Length  Diameter    Height     Weight  Shucked Weight  Viscera Weight  \\\n",
      "0  1.437500  1.174805  0.412598  24.640625       12.335938        5.585938   \n",
      "1  0.887695  0.649902  0.212524   5.402344        2.296875        1.375000   \n",
      "2  1.037109  0.774902  0.250000   7.953125        3.232422        1.601562   \n",
      "3  1.174805  0.887695  0.250000  13.476562        4.750000        2.281250   \n",
      "4  0.887695  0.662598  0.212524   6.902344        3.458984        1.488281   \n",
      "\n",
      "   Shell Weight  Age  Sex_F  Sex_I  Sex_M  \n",
      "0      6.746094    9   True  False  False  \n",
      "1      1.559570    6  False  False   True  \n",
      "2      2.763672    6  False   True  False  \n",
      "3      5.246094   10   True  False  False  \n",
      "4      1.701172    6  False   True  False  \n",
      "<class 'pandas.core.frame.DataFrame'>\n",
      "Index: 3893 entries, 0 to 3892\n",
      "Data columns (total 11 columns):\n",
      " #   Column          Non-Null Count  Dtype  \n",
      "---  ------          --------------  -----  \n",
      " 0   Length          3893 non-null   float16\n",
      " 1   Diameter        3893 non-null   float16\n",
      " 2   Height          3893 non-null   float16\n",
      " 3   Weight          3893 non-null   float16\n",
      " 4   Shucked Weight  3893 non-null   float16\n",
      " 5   Viscera Weight  3893 non-null   float16\n",
      " 6   Shell Weight    3893 non-null   float16\n",
      " 7   Age             3893 non-null   int8   \n",
      " 8   Sex_F           3893 non-null   bool   \n",
      " 9   Sex_I           3893 non-null   bool   \n",
      " 10  Sex_M           3893 non-null   bool   \n",
      "dtypes: bool(3), float16(7), int8(1)\n",
      "memory usage: 98.8 KB\n",
      "Info:\n",
      "None\n"
     ]
    }
   ],
   "execution_count": 25
  },
  {
   "metadata": {},
   "cell_type": "markdown",
   "source": [
    "### Normalize Shell Weight\n",
    "\n",
    "This accounts for the effect of outliers on the variance of the data.\n",
    " "
   ],
   "id": "7218306a7dcefd10"
  },
  {
   "metadata": {
    "ExecuteTime": {
     "end_time": "2024-05-01T07:12:37.414614Z",
     "start_time": "2024-05-01T07:12:37.406359Z"
    }
   },
   "cell_type": "code",
   "source": [
    "shell_weight = np.array(crabs['Shell Weight'])\n",
    "shell_weight_normalizer = keras.layers.Normalization(axis=None)\n",
    "shell_weight_normalizer.adapt(shell_weight)\n"
   ],
   "id": "69b351c5490fada1",
   "outputs": [],
   "execution_count": 35
  },
  {
   "metadata": {},
   "cell_type": "markdown",
   "source": [
    "### Build the Shell Weight Model\n",
    "\n",
    "This is a simple linear regression model that predicts the age of a crab based on its shell weight. It remains untrained.\n"
   ],
   "id": "979b3fe16428b057"
  },
  {
   "metadata": {
    "ExecuteTime": {
     "end_time": "2024-05-01T07:12:39.913381Z",
     "start_time": "2024-05-01T07:12:39.900078Z"
    }
   },
   "cell_type": "code",
   "source": [
    "shell_weight_model = keras.Sequential([\n",
    "    keras.layers.Input(shape=(1,)),\n",
    "    shell_weight_normalizer,\n",
    "    keras.layers.Dense(units=1)\n",
    "])\n",
    "\n",
    "shell_weight_model.summary()\n"
   ],
   "id": "c58218bc56867be9",
   "outputs": [
    {
     "data": {
      "text/plain": [
       "\u001B[1mModel: \"sequential_3\"\u001B[0m\n"
      ],
      "text/html": [
       "<pre style=\"white-space:pre;overflow-x:auto;line-height:normal;font-family:Menlo,'DejaVu Sans Mono',consolas,'Courier New',monospace\"><span style=\"font-weight: bold\">Model: \"sequential_3\"</span>\n",
       "</pre>\n"
      ]
     },
     "metadata": {},
     "output_type": "display_data"
    },
    {
     "data": {
      "text/plain": [
       "┏━━━━━━━━━━━━━━━━━━━━━━━━━━━━━━━━━┳━━━━━━━━━━━━━━━━━━━━━━━━┳━━━━━━━━━━━━━━━┓\n",
       "┃\u001B[1m \u001B[0m\u001B[1mLayer (type)                   \u001B[0m\u001B[1m \u001B[0m┃\u001B[1m \u001B[0m\u001B[1mOutput Shape          \u001B[0m\u001B[1m \u001B[0m┃\u001B[1m \u001B[0m\u001B[1m      Param #\u001B[0m\u001B[1m \u001B[0m┃\n",
       "┡━━━━━━━━━━━━━━━━━━━━━━━━━━━━━━━━━╇━━━━━━━━━━━━━━━━━━━━━━━━╇━━━━━━━━━━━━━━━┩\n",
       "│ normalization_10                │ (\u001B[38;5;45mNone\u001B[0m, \u001B[38;5;34m1\u001B[0m)              │             \u001B[38;5;34m3\u001B[0m │\n",
       "│ (\u001B[38;5;33mNormalization\u001B[0m)                 │                        │               │\n",
       "├─────────────────────────────────┼────────────────────────┼───────────────┤\n",
       "│ dense_3 (\u001B[38;5;33mDense\u001B[0m)                 │ (\u001B[38;5;45mNone\u001B[0m, \u001B[38;5;34m1\u001B[0m)              │             \u001B[38;5;34m2\u001B[0m │\n",
       "└─────────────────────────────────┴────────────────────────┴───────────────┘\n"
      ],
      "text/html": [
       "<pre style=\"white-space:pre;overflow-x:auto;line-height:normal;font-family:Menlo,'DejaVu Sans Mono',consolas,'Courier New',monospace\">┏━━━━━━━━━━━━━━━━━━━━━━━━━━━━━━━━━┳━━━━━━━━━━━━━━━━━━━━━━━━┳━━━━━━━━━━━━━━━┓\n",
       "┃<span style=\"font-weight: bold\"> Layer (type)                    </span>┃<span style=\"font-weight: bold\"> Output Shape           </span>┃<span style=\"font-weight: bold\">       Param # </span>┃\n",
       "┡━━━━━━━━━━━━━━━━━━━━━━━━━━━━━━━━━╇━━━━━━━━━━━━━━━━━━━━━━━━╇━━━━━━━━━━━━━━━┩\n",
       "│ normalization_10                │ (<span style=\"color: #00d7ff; text-decoration-color: #00d7ff\">None</span>, <span style=\"color: #00af00; text-decoration-color: #00af00\">1</span>)              │             <span style=\"color: #00af00; text-decoration-color: #00af00\">3</span> │\n",
       "│ (<span style=\"color: #0087ff; text-decoration-color: #0087ff\">Normalization</span>)                 │                        │               │\n",
       "├─────────────────────────────────┼────────────────────────┼───────────────┤\n",
       "│ dense_3 (<span style=\"color: #0087ff; text-decoration-color: #0087ff\">Dense</span>)                 │ (<span style=\"color: #00d7ff; text-decoration-color: #00d7ff\">None</span>, <span style=\"color: #00af00; text-decoration-color: #00af00\">1</span>)              │             <span style=\"color: #00af00; text-decoration-color: #00af00\">2</span> │\n",
       "└─────────────────────────────────┴────────────────────────┴───────────────┘\n",
       "</pre>\n"
      ]
     },
     "metadata": {},
     "output_type": "display_data"
    },
    {
     "data": {
      "text/plain": [
       "\u001B[1m Total params: \u001B[0m\u001B[38;5;34m5\u001B[0m (24.00 B)\n"
      ],
      "text/html": [
       "<pre style=\"white-space:pre;overflow-x:auto;line-height:normal;font-family:Menlo,'DejaVu Sans Mono',consolas,'Courier New',monospace\"><span style=\"font-weight: bold\"> Total params: </span><span style=\"color: #00af00; text-decoration-color: #00af00\">5</span> (24.00 B)\n",
       "</pre>\n"
      ]
     },
     "metadata": {},
     "output_type": "display_data"
    },
    {
     "data": {
      "text/plain": [
       "\u001B[1m Trainable params: \u001B[0m\u001B[38;5;34m2\u001B[0m (8.00 B)\n"
      ],
      "text/html": [
       "<pre style=\"white-space:pre;overflow-x:auto;line-height:normal;font-family:Menlo,'DejaVu Sans Mono',consolas,'Courier New',monospace\"><span style=\"font-weight: bold\"> Trainable params: </span><span style=\"color: #00af00; text-decoration-color: #00af00\">2</span> (8.00 B)\n",
       "</pre>\n"
      ]
     },
     "metadata": {},
     "output_type": "display_data"
    },
    {
     "data": {
      "text/plain": [
       "\u001B[1m Non-trainable params: \u001B[0m\u001B[38;5;34m3\u001B[0m (16.00 B)\n"
      ],
      "text/html": [
       "<pre style=\"white-space:pre;overflow-x:auto;line-height:normal;font-family:Menlo,'DejaVu Sans Mono',consolas,'Courier New',monospace\"><span style=\"font-weight: bold\"> Non-trainable params: </span><span style=\"color: #00af00; text-decoration-color: #00af00\">3</span> (16.00 B)\n",
       "</pre>\n"
      ]
     },
     "metadata": {},
     "output_type": "display_data"
    }
   ],
   "execution_count": 36
  },
  {
   "metadata": {},
   "cell_type": "markdown",
   "source": [
    "### Predict Before Training (For Science)\n",
    "\n",
    "We don't expect good results here. This is just to get a baseline.\n"
   ],
   "id": "11061e0acf300a9e"
  },
  {
   "metadata": {
    "ExecuteTime": {
     "end_time": "2024-05-01T07:12:42.526146Z",
     "start_time": "2024-05-01T07:12:42.470393Z"
    }
   },
   "cell_type": "code",
   "source": "shell_weight_model.predict(shell_weight[:10])\n",
   "id": "ec19967b452f4c92",
   "outputs": [
    {
     "name": "stdout",
     "output_type": "stream",
     "text": [
      "\u001B[1m1/1\u001B[0m \u001B[32m━━━━━━━━━━━━━━━━━━━━\u001B[0m\u001B[37m\u001B[0m \u001B[1m0s\u001B[0m 30ms/step\n"
     ]
    },
    {
     "data": {
      "text/plain": [
       "array([[ 0.02125543],\n",
       "       [ 2.1921709 ],\n",
       "       [ 1.6881719 ],\n",
       "       [ 0.64910823],\n",
       "       [ 2.132901  ],\n",
       "       [-0.18148871],\n",
       "       [ 0.8273269 ],\n",
       "       [-0.1520581 ],\n",
       "       [-1.4453694 ],\n",
       "       [ 1.9726676 ]], dtype=float32)"
      ]
     },
     "execution_count": 37,
     "metadata": {},
     "output_type": "execute_result"
    }
   ],
   "execution_count": 37
  },
  {
   "metadata": {},
   "cell_type": "markdown",
   "source": [
    "### Compile the Model\n",
    "\n",
    "We will use the mean squared error as the loss function and the Adam optimizer.\n"
   ],
   "id": "6498181b8753c853"
  },
  {
   "metadata": {
    "ExecuteTime": {
     "end_time": "2024-05-01T07:14:08.055524Z",
     "start_time": "2024-05-01T07:14:08.049231Z"
    }
   },
   "cell_type": "code",
   "source": [
    "shell_weight_model.compile(\n",
    "    optimizer=keras.optimizers.Adam(learning_rate=0.1),\n",
    "    loss='mean_squared_error'\n",
    ")\n"
   ],
   "id": "bde34bbf2d3b38a9",
   "outputs": [],
   "execution_count": 38
  },
  {
   "metadata": {},
   "cell_type": "markdown",
   "source": [
    "### Train the Model\n",
    "\n",
    "Let's train for 100 epochs.\n"
   ],
   "id": "679e91b05c2c4658"
  },
  {
   "metadata": {
    "ExecuteTime": {
     "end_time": "2024-05-01T07:17:15.541684Z",
     "start_time": "2024-05-01T07:17:07.724443Z"
    }
   },
   "cell_type": "code",
   "source": [
    "%%time\n",
    "history = shell_weight_model.fit(\n",
    "    x=crabs['Shell Weight'],\n",
    "    y=crabs[PREDICTION_TARGET],\n",
    "    epochs=100,\n",
    "    verbose=0,\n",
    "    validation_split=0.2\n",
    ")\n"
   ],
   "id": "385d843f636f82cd",
   "outputs": [
    {
     "name": "stdout",
     "output_type": "stream",
     "text": [
      "CPU times: total: 1.97 s\n",
      "Wall time: 7.81 s\n"
     ]
    }
   ],
   "execution_count": 40
  },
  {
   "metadata": {},
   "cell_type": "markdown",
   "source": "### Plot the Training History\n",
   "id": "33e6be244cd6fe2b"
  },
  {
   "metadata": {
    "ExecuteTime": {
     "end_time": "2024-05-01T07:18:24.980792Z",
     "start_time": "2024-05-01T07:18:24.974888Z"
    }
   },
   "cell_type": "code",
   "source": [
    "history_df = pd.DataFrame(history.history)\n",
    "history_df['epoch'] = history.epoch\n",
    "history_df.tail()\n"
   ],
   "id": "68c2d446e33e77d0",
   "outputs": [
    {
     "data": {
      "text/plain": [
       "        loss  val_loss  epoch\n",
       "95  6.396558  6.171331     95\n",
       "96  6.421682  6.202165     96\n",
       "97  6.389221  6.188575     97\n",
       "98  6.393003  6.216843     98\n",
       "99  6.418506  6.186303     99"
      ],
      "text/html": [
       "<div>\n",
       "<style scoped>\n",
       "    .dataframe tbody tr th:only-of-type {\n",
       "        vertical-align: middle;\n",
       "    }\n",
       "\n",
       "    .dataframe tbody tr th {\n",
       "        vertical-align: top;\n",
       "    }\n",
       "\n",
       "    .dataframe thead th {\n",
       "        text-align: right;\n",
       "    }\n",
       "</style>\n",
       "<table border=\"1\" class=\"dataframe\">\n",
       "  <thead>\n",
       "    <tr style=\"text-align: right;\">\n",
       "      <th></th>\n",
       "      <th>loss</th>\n",
       "      <th>val_loss</th>\n",
       "      <th>epoch</th>\n",
       "    </tr>\n",
       "  </thead>\n",
       "  <tbody>\n",
       "    <tr>\n",
       "      <th>95</th>\n",
       "      <td>6.396558</td>\n",
       "      <td>6.171331</td>\n",
       "      <td>95</td>\n",
       "    </tr>\n",
       "    <tr>\n",
       "      <th>96</th>\n",
       "      <td>6.421682</td>\n",
       "      <td>6.202165</td>\n",
       "      <td>96</td>\n",
       "    </tr>\n",
       "    <tr>\n",
       "      <th>97</th>\n",
       "      <td>6.389221</td>\n",
       "      <td>6.188575</td>\n",
       "      <td>97</td>\n",
       "    </tr>\n",
       "    <tr>\n",
       "      <th>98</th>\n",
       "      <td>6.393003</td>\n",
       "      <td>6.216843</td>\n",
       "      <td>98</td>\n",
       "    </tr>\n",
       "    <tr>\n",
       "      <th>99</th>\n",
       "      <td>6.418506</td>\n",
       "      <td>6.186303</td>\n",
       "      <td>99</td>\n",
       "    </tr>\n",
       "  </tbody>\n",
       "</table>\n",
       "</div>"
      ]
     },
     "execution_count": 41,
     "metadata": {},
     "output_type": "execute_result"
    }
   ],
   "execution_count": 41
  },
  {
   "metadata": {},
   "cell_type": "markdown",
   "source": "### Plot the Loss History\n",
   "id": "61b01d171638cbd4"
  },
  {
   "metadata": {
    "ExecuteTime": {
     "end_time": "2024-05-01T07:19:23.907865Z",
     "start_time": "2024-05-01T07:19:23.799871Z"
    }
   },
   "cell_type": "code",
   "source": [
    "def plot_loss(history):\n",
    "  plt.plot(history.history['loss'], label='loss')\n",
    "  plt.plot(history.history['val_loss'], label='val_loss')\n",
    "  plt.ylim([0, 10])\n",
    "  plt.xlabel('Epoch')\n",
    "  plt.ylabel('Error [MPG]')\n",
    "  plt.legend()\n",
    "  plt.grid(True)\n",
    "\n",
    "plot_loss(history)\n"
   ],
   "id": "3987b5d45d02c20d",
   "outputs": [
    {
     "data": {
      "text/plain": [
       "<Figure size 640x480 with 1 Axes>"
      ],
      "image/png": "[encoded data removed]"
     },
     "metadata": {},
     "output_type": "display_data"
    }
   ],
   "execution_count": 42
  },
  {
   "metadata": {},
   "cell_type": "markdown",
   "source": [
    "### Don't Save this Data\n",
    "\n",
    "We don't want our over-trained model to leak into the [next step](../1-models/models.ipynb).\n"
   ],
   "id": "57ec6a4286ba105c"
  },
  {
   "metadata": {},
   "cell_type": "markdown",
   "source": [
    "### Onwards to Model Selection\n",
    "\n",
    "See the [next section](../1-models/models.ipynb) for model selection.\n"
   ],
   "id": "a19b621f5a2db4ce"
  }
 ],
 "metadata": {
  "kernelspec": {
   "display_name": "Python 3",
   "language": "python",
   "name": "python3"
  },
  "language_info": {
   "codemirror_mode": {
    "name": "ipython",
    "version": 2
   },
   "file_extension": ".py",
   "mimetype": "text/x-python",
   "name": "python",
   "nbconvert_exporter": "python",
   "pygments_lexer": "ipython2",
   "version": "2.7.6"
  }
 },
 "nbformat": 4,
 "nbformat_minor": 5
}
