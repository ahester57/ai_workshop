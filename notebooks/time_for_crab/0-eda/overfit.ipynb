{
 "cells": [
  {
   "metadata": {},
   "cell_type": "markdown",
   "source": [
    "# Overfitting\n",
    "\n",
    "*In which we practice one thing so much that we get worse at everything else.*\n"
   ],
   "id": "34d7ae6b0fe23758"
  },
  {
   "metadata": {
    "ExecuteTime": {
     "end_time": "2024-05-01T02:26:18.631787Z",
     "start_time": "2024-05-01T02:26:18.629769Z"
    }
   },
   "cell_type": "code",
   "source": "",
   "id": "24dcb03a7730ece7",
   "outputs": [],
   "execution_count": 8
  },
  {
   "metadata": {},
   "cell_type": "markdown",
   "source": "### Define Constants\n",
   "id": "df9e366b3e1cbfb0"
  },
  {
   "metadata": {
    "ExecuteTime": {
     "end_time": "2024-05-01T02:26:18.635297Z",
     "start_time": "2024-05-01T02:26:18.632798Z"
    }
   },
   "cell_type": "code",
   "source": [
    "CACHE_FILE = '../cache/crabs.json'\n",
    "NEXT_NOTEBOOK = '../1-models/models.ipynb'\n",
    "\n",
    "PREDICTION_TARGET = 'Age'    # 'Age' is predicted\n",
    "DATASET_COLUMNS = ['Sex','Length','Diameter','Height','Weight','Shucked Weight','Viscera Weight','Shell Weight',PREDICTION_TARGET]\n",
    "REQUIRED_COLUMNS = [PREDICTION_TARGET]\n"
   ],
   "id": "24f93f68f245437",
   "outputs": [],
   "execution_count": 9
  },
  {
   "metadata": {},
   "cell_type": "markdown",
   "source": "### Importing Libraries\n",
   "id": "606cbd1e61805d2b"
  },
  {
   "metadata": {
    "ExecuteTime": {
     "end_time": "2024-05-01T02:26:18.640195Z",
     "start_time": "2024-05-01T02:26:18.635297Z"
    }
   },
   "cell_type": "code",
   "source": [
    "from notebooks.time_for_crab.mlutils import *\n",
    "\n",
    "import numpy as np\n",
    "import pandas as pd\n",
    "\n",
    "#from sklearn.svm import SVC\n",
    "#from sklearn.model_selection import cross_val_score, cross_val_predict, train_test_split\n",
    "#from sklearn.metrics import accuracy_score, precision_score, recall_score, f1_score\n",
    "\n",
    "try:\n",
    "    # for visual mode. `pip install -e .[visual]`\n",
    "    import matplotlib.pyplot as plt\n",
    "    import matplotlib\n",
    "    %matplotlib inline\n",
    "    import seaborn as sns\n",
    "except ModuleNotFoundError:\n",
    "    plt = None\n",
    "    sns = None\n",
    "\n",
    "pd.set_option('mode.copy_on_write', True)\n"
   ],
   "id": "ff056db45593415b",
   "outputs": [],
   "execution_count": 10
  },
  {
   "metadata": {},
   "cell_type": "markdown",
   "source": [
    "### Load Data from Cache\n",
    "\n",
    "In the [previous section](../0-eda/eda.ipynb), we saved the cleaned data to a cache file. Let's load it back.\n"
   ],
   "id": "f7bc9fa01c60b1db"
  },
  {
   "metadata": {
    "ExecuteTime": {
     "end_time": "2024-05-01T02:26:18.658998Z",
     "start_time": "2024-05-01T02:26:18.641200Z"
    }
   },
   "cell_type": "code",
   "source": [
    "crabs = pd.read_json(CACHE_FILE)\n",
    "crabs.info()\n"
   ],
   "id": "57948eed1dbc1dd3",
   "outputs": [
    {
     "name": "stdout",
     "output_type": "stream",
     "text": [
      "<class 'pandas.core.frame.DataFrame'>\n",
      "Index: 3893 entries, 0 to 3892\n",
      "Data columns (total 11 columns):\n",
      " #   Column          Non-Null Count  Dtype  \n",
      "---  ------          --------------  -----  \n",
      " 0   Length          3893 non-null   float64\n",
      " 1   Diameter        3893 non-null   float64\n",
      " 2   Height          3893 non-null   float64\n",
      " 3   Weight          3893 non-null   float64\n",
      " 4   Shucked Weight  3893 non-null   float64\n",
      " 5   Viscera Weight  3893 non-null   float64\n",
      " 6   Shell Weight    3893 non-null   float64\n",
      " 7   Age             3893 non-null   int64  \n",
      " 8   Sex_F           3893 non-null   bool   \n",
      " 9   Sex_I           3893 non-null   bool   \n",
      " 10  Sex_M           3893 non-null   bool   \n",
      "dtypes: bool(3), float64(7), int64(1)\n",
      "memory usage: 285.1 KB\n"
     ]
    }
   ],
   "execution_count": 11
  },
  {
   "metadata": {},
   "cell_type": "markdown",
   "source": [
    "### Memory Reduction\n",
    "\n",
    "Crabs were never known for their memory. Let's minimize the memory of our DataFrame using the smallest data types to fit the data.\n",
    "\n",
    "The reason for this is to save computational resources and time. The smaller the data, the faster the processing.\n"
   ],
   "id": "bf56d2f88409f8ef"
  },
  {
   "metadata": {
    "ExecuteTime": {
     "end_time": "2024-05-01T02:26:18.667555Z",
     "start_time": "2024-05-01T02:26:18.658998Z"
    }
   },
   "cell_type": "code",
   "source": [
    "crabs = data_downcasting(crabs)\n",
    "crabs.info()\n"
   ],
   "id": "8b51f418a6b94883",
   "outputs": [
    {
     "name": "stdout",
     "output_type": "stream",
     "text": [
      "Memory usage of dataframe is 0.2784 MB (before)\n",
      "Memory usage of dataframe is 0.0965 MB (after)\n",
      "Reduced 65.3%\n",
      "<class 'pandas.core.frame.DataFrame'>\n",
      "Index: 3893 entries, 0 to 3892\n",
      "Data columns (total 11 columns):\n",
      " #   Column          Non-Null Count  Dtype  \n",
      "---  ------          --------------  -----  \n",
      " 0   Length          3893 non-null   float16\n",
      " 1   Diameter        3893 non-null   float16\n",
      " 2   Height          3893 non-null   float16\n",
      " 3   Weight          3893 non-null   float16\n",
      " 4   Shucked Weight  3893 non-null   float16\n",
      " 5   Viscera Weight  3893 non-null   float16\n",
      " 6   Shell Weight    3893 non-null   float16\n",
      " 7   Age             3893 non-null   int8   \n",
      " 8   Sex_F           3893 non-null   bool   \n",
      " 9   Sex_I           3893 non-null   bool   \n",
      " 10  Sex_M           3893 non-null   bool   \n",
      "dtypes: bool(3), float16(7), int8(1)\n",
      "memory usage: 98.8 KB\n"
     ]
    }
   ],
   "execution_count": 12
  },
  {
   "metadata": {},
   "cell_type": "markdown",
   "source": [
    "### Don't Save this Data\n",
    "\n",
    "We don't wan't our over-trained model to leak into the [next step](../1-models/models.ipynb).\n"
   ],
   "id": "57ec6a4286ba105c"
  },
  {
   "metadata": {},
   "cell_type": "markdown",
   "source": [
    "### Onwards to Model Selection\n",
    "\n",
    "See the [next section](../1-models/models.ipynb) for model selection.\n"
   ],
   "id": "a19b621f5a2db4ce"
  }
 ],
 "metadata": {
  "kernelspec": {
   "display_name": "Python 3",
   "language": "python",
   "name": "python3"
  },
  "language_info": {
   "codemirror_mode": {
    "name": "ipython",
    "version": 2
   },
   "file_extension": ".py",
   "mimetype": "text/x-python",
   "name": "python",
   "nbconvert_exporter": "python",
   "pygments_lexer": "ipython2",
   "version": "2.7.6"
  }
 },
 "nbformat": 4,
 "nbformat_minor": 5
}
