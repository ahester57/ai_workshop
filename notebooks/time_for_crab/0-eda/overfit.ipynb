{
 "cells": [
  {
   "metadata": {},
   "cell_type": "markdown",
   "source": [
    "# Overfitting\n",
    "\n",
    "*In which we practice one thing so much that we get worse at everything else.*\n"
   ],
   "id": "34d7ae6b0fe23758"
  },
  {
   "metadata": {},
   "cell_type": "markdown",
   "source": "### Define Constants\n",
   "id": "df9e366b3e1cbfb0"
  },
  {
   "metadata": {
    "ExecuteTime": {
     "end_time": "2024-05-02T19:02:32.137408Z",
     "start_time": "2024-05-02T19:02:32.134264Z"
    }
   },
   "cell_type": "code",
   "source": [
    "CACHE_FILE = '../cache/crabs.feather'\n",
    "NEXT_NOTEBOOK = '../1-models/models.ipynb'\n",
    "\n",
    "PREDICTION_TARGET = 'Age'    # 'Age' is predicted\n",
    "DATASET_COLUMNS = ['Sex','Length','Diameter','Height','Weight','Shucked Weight','Viscera Weight','Shell Weight',PREDICTION_TARGET]\n",
    "REQUIRED_COLUMNS = [PREDICTION_TARGET]\n"
   ],
   "id": "24f93f68f245437",
   "outputs": [],
   "execution_count": 19
  },
  {
   "metadata": {},
   "cell_type": "markdown",
   "source": "### Importing Libraries\n",
   "id": "606cbd1e61805d2b"
  },
  {
   "metadata": {
    "ExecuteTime": {
     "end_time": "2024-05-02T19:02:32.196357Z",
     "start_time": "2024-05-02T19:02:32.193211Z"
    }
   },
   "cell_type": "code",
   "source": [
    "from notebooks.time_for_crab.mlutils import display_df, score_comparator, score_model\n",
    "\n",
    "import keras\n",
    "import numpy as np\n",
    "import pandas as pd\n",
    "\n",
    "import matplotlib.pyplot as plt\n",
    "%matplotlib inline\n",
    "import seaborn as sns\n",
    "\n",
    "pd.set_option('mode.copy_on_write', True)\n"
   ],
   "id": "ff056db45593415b",
   "outputs": [],
   "execution_count": 20
  },
  {
   "metadata": {},
   "cell_type": "markdown",
   "source": [
    "### Load Data from Cache\n",
    "\n",
    "In the [previous section](../0-eda/eda.ipynb), we saved the cleaned data to a cache file. Let's load it back.\n"
   ],
   "id": "f7bc9fa01c60b1db"
  },
  {
   "metadata": {
    "ExecuteTime": {
     "end_time": "2024-05-02T19:02:32.207616Z",
     "start_time": "2024-05-02T19:02:32.197362Z"
    }
   },
   "cell_type": "code",
   "source": [
    "crabs = pd.read_feather(CACHE_FILE)\n",
    "display_df(crabs)\n"
   ],
   "id": "57948eed1dbc1dd3",
   "outputs": [
    {
     "name": "stdout",
     "output_type": "stream",
     "text": [
      "DataFrame shape: (3893, 11)\n",
      "First 5 rows:\n",
      "     Length  Diameter    Height     Weight  Shucked Weight  Viscera Weight  \\\n",
      "0  1.437500  1.174805  0.412598  24.640625       12.335938        5.585938   \n",
      "1  0.887695  0.649902  0.212524   5.402344        2.296875        1.375000   \n",
      "2  1.037109  0.774902  0.250000   7.953125        3.232422        1.601562   \n",
      "3  1.174805  0.887695  0.250000  13.476562        4.750000        2.281250   \n",
      "4  0.887695  0.662598  0.212524   6.902344        3.458984        1.488281   \n",
      "\n",
      "   Shell Weight  Age  Sex_F  Sex_I  Sex_M  \n",
      "0      6.746094    9   True  False  False  \n",
      "1      1.559570    6  False  False   True  \n",
      "2      2.763672    6  False   True  False  \n",
      "3      5.246094   10   True  False  False  \n",
      "4      1.701172    6  False   True  False  \n",
      "<class 'pandas.core.frame.DataFrame'>\n",
      "RangeIndex: 3893 entries, 0 to 3892\n",
      "Data columns (total 11 columns):\n",
      " #   Column          Non-Null Count  Dtype  \n",
      "---  ------          --------------  -----  \n",
      " 0   Length          3893 non-null   float16\n",
      " 1   Diameter        3893 non-null   float16\n",
      " 2   Height          3893 non-null   float16\n",
      " 3   Weight          3893 non-null   float16\n",
      " 4   Shucked Weight  3893 non-null   float16\n",
      " 5   Viscera Weight  3893 non-null   float16\n",
      " 6   Shell Weight    3893 non-null   float16\n",
      " 7   Age             3893 non-null   int8   \n",
      " 8   Sex_F           3893 non-null   bool   \n",
      " 9   Sex_I           3893 non-null   bool   \n",
      " 10  Sex_M           3893 non-null   bool   \n",
      "dtypes: bool(3), float16(7), int8(1)\n",
      "memory usage: 68.6 KB\n",
      "Info:\n",
      "None\n"
     ]
    }
   ],
   "execution_count": 21
  },
  {
   "metadata": {},
   "cell_type": "markdown",
   "source": [
    "## Overfitting Crab Age\n",
    "\n",
    "![Large mud crab measure](https://upload.wikimedia.org/wikipedia/commons/thumb/6/65/CSIRO_ScienceImage_10696_Mud_crabs_are_caught_measured_tagged_and_released_as_part_of_the_research_into_the_effectiveness_of_green_zones_in_Moreton_Bay.jpg/1920px-CSIRO_ScienceImage_10696_Mud_crabs_are_caught_measured_tagged_and_released_as_part_of_the_research_into_the_effectiveness_of_green_zones_in_Moreton_Bay.jpg)\n"
   ],
   "id": "b35dc646c31943be"
  },
  {
   "metadata": {},
   "cell_type": "markdown",
   "source": [
    "### Overfitting Goals and Methods \n",
    "\n",
    "The goal here is to show how complex of a model it will take to overfit the data.\n",
    "\n",
    "We will use the following methods to overfit the data:\n",
    "\n",
    "1. **Linear Regression**: Gradually increase the complexity of a linear regression model.\n",
    "2. **Model Stacking**: Stack models to overfit the model.\n",
    "\n",
    "> There are two steps in your single-variable linear regression model:  \n",
    ">    1. Normalize the 'Horsepower' input features using the tf.keras.layers.Normalization preprocessing layer.\n",
    ">    2. Apply a linear transformation ($y = mx + b$) to produce 1 output using a linear layer (tf.keras.layers.Dense).\n",
    ">\n",
    "> https://www.tensorflow.org/tutorials/keras/regression#linear_regression_with_one_variable \n",
    "\n",
    "Instead of 'Horsepower', we'll use 'Shell Weight' as the regression variable.\n"
   ],
   "id": "2d4667d6ad411e26"
  },
  {
   "metadata": {
    "ExecuteTime": {
     "end_time": "2024-05-02T19:02:32.229747Z",
     "start_time": "2024-05-02T19:02:32.221747Z"
    }
   },
   "cell_type": "code",
   "source": [
    "shell_weight = np.array(crabs['Shell Weight'])\n",
    "shell_weight_normalizer = keras.layers.Normalization(axis=None)\n",
    "shell_weight_normalizer.adapt(shell_weight)\n"
   ],
   "id": "69b351c5490fada1",
   "outputs": [],
   "execution_count": 22
  },
  {
   "metadata": {},
   "cell_type": "markdown",
   "source": [
    "### Build the Shell Weight Model\n",
    "\n",
    "This is a simple linear regression model that predicts the age of a crab based on its shell weight. It remains untrained.\n"
   ],
   "id": "979b3fe16428b057"
  },
  {
   "metadata": {
    "ExecuteTime": {
     "end_time": "2024-05-02T19:02:32.263683Z",
     "start_time": "2024-05-02T19:02:32.246337Z"
    }
   },
   "cell_type": "code",
   "source": [
    "shell_weight = np.array(crabs['Shell Weight'])\n",
    "shell_weight_normalizer = keras.layers.Normalization(axis=None)\n",
    "shell_weight_normalizer.adapt(shell_weight)\n",
    "\n",
    "shell_weight_model = keras.Sequential([\n",
    "    keras.layers.Input(shape=(1,)),\n",
    "    shell_weight_normalizer,\n",
    "    keras.layers.Dense(units=1)\n",
    "])\n",
    "\n",
    "shell_weight_model.summary()\n"
   ],
   "id": "c58218bc56867be9",
   "outputs": [
    {
     "data": {
      "text/plain": [
       "\u001B[1mModel: \"sequential_1\"\u001B[0m\n"
      ],
      "text/html": [
       "<pre style=\"white-space:pre;overflow-x:auto;line-height:normal;font-family:Menlo,'DejaVu Sans Mono',consolas,'Courier New',monospace\"><span style=\"font-weight: bold\">Model: \"sequential_1\"</span>\n",
       "</pre>\n"
      ]
     },
     "metadata": {},
     "output_type": "display_data"
    },
    {
     "data": {
      "text/plain": [
       "┏━━━━━━━━━━━━━━━━━━━━━━━━━━━━━━━━━┳━━━━━━━━━━━━━━━━━━━━━━━━┳━━━━━━━━━━━━━━━┓\n",
       "┃\u001B[1m \u001B[0m\u001B[1mLayer (type)                   \u001B[0m\u001B[1m \u001B[0m┃\u001B[1m \u001B[0m\u001B[1mOutput Shape          \u001B[0m\u001B[1m \u001B[0m┃\u001B[1m \u001B[0m\u001B[1m      Param #\u001B[0m\u001B[1m \u001B[0m┃\n",
       "┡━━━━━━━━━━━━━━━━━━━━━━━━━━━━━━━━━╇━━━━━━━━━━━━━━━━━━━━━━━━╇━━━━━━━━━━━━━━━┩\n",
       "│ normalization_3 (\u001B[38;5;33mNormalization\u001B[0m) │ (\u001B[38;5;45mNone\u001B[0m, \u001B[38;5;34m1\u001B[0m)              │             \u001B[38;5;34m3\u001B[0m │\n",
       "├─────────────────────────────────┼────────────────────────┼───────────────┤\n",
       "│ dense_1 (\u001B[38;5;33mDense\u001B[0m)                 │ (\u001B[38;5;45mNone\u001B[0m, \u001B[38;5;34m1\u001B[0m)              │             \u001B[38;5;34m2\u001B[0m │\n",
       "└─────────────────────────────────┴────────────────────────┴───────────────┘\n"
      ],
      "text/html": [
       "<pre style=\"white-space:pre;overflow-x:auto;line-height:normal;font-family:Menlo,'DejaVu Sans Mono',consolas,'Courier New',monospace\">┏━━━━━━━━━━━━━━━━━━━━━━━━━━━━━━━━━┳━━━━━━━━━━━━━━━━━━━━━━━━┳━━━━━━━━━━━━━━━┓\n",
       "┃<span style=\"font-weight: bold\"> Layer (type)                    </span>┃<span style=\"font-weight: bold\"> Output Shape           </span>┃<span style=\"font-weight: bold\">       Param # </span>┃\n",
       "┡━━━━━━━━━━━━━━━━━━━━━━━━━━━━━━━━━╇━━━━━━━━━━━━━━━━━━━━━━━━╇━━━━━━━━━━━━━━━┩\n",
       "│ normalization_3 (<span style=\"color: #0087ff; text-decoration-color: #0087ff\">Normalization</span>) │ (<span style=\"color: #00d7ff; text-decoration-color: #00d7ff\">None</span>, <span style=\"color: #00af00; text-decoration-color: #00af00\">1</span>)              │             <span style=\"color: #00af00; text-decoration-color: #00af00\">3</span> │\n",
       "├─────────────────────────────────┼────────────────────────┼───────────────┤\n",
       "│ dense_1 (<span style=\"color: #0087ff; text-decoration-color: #0087ff\">Dense</span>)                 │ (<span style=\"color: #00d7ff; text-decoration-color: #00d7ff\">None</span>, <span style=\"color: #00af00; text-decoration-color: #00af00\">1</span>)              │             <span style=\"color: #00af00; text-decoration-color: #00af00\">2</span> │\n",
       "└─────────────────────────────────┴────────────────────────┴───────────────┘\n",
       "</pre>\n"
      ]
     },
     "metadata": {},
     "output_type": "display_data"
    },
    {
     "data": {
      "text/plain": [
       "\u001B[1m Total params: \u001B[0m\u001B[38;5;34m5\u001B[0m (24.00 B)\n"
      ],
      "text/html": [
       "<pre style=\"white-space:pre;overflow-x:auto;line-height:normal;font-family:Menlo,'DejaVu Sans Mono',consolas,'Courier New',monospace\"><span style=\"font-weight: bold\"> Total params: </span><span style=\"color: #00af00; text-decoration-color: #00af00\">5</span> (24.00 B)\n",
       "</pre>\n"
      ]
     },
     "metadata": {},
     "output_type": "display_data"
    },
    {
     "data": {
      "text/plain": [
       "\u001B[1m Trainable params: \u001B[0m\u001B[38;5;34m2\u001B[0m (8.00 B)\n"
      ],
      "text/html": [
       "<pre style=\"white-space:pre;overflow-x:auto;line-height:normal;font-family:Menlo,'DejaVu Sans Mono',consolas,'Courier New',monospace\"><span style=\"font-weight: bold\"> Trainable params: </span><span style=\"color: #00af00; text-decoration-color: #00af00\">2</span> (8.00 B)\n",
       "</pre>\n"
      ]
     },
     "metadata": {},
     "output_type": "display_data"
    },
    {
     "data": {
      "text/plain": [
       "\u001B[1m Non-trainable params: \u001B[0m\u001B[38;5;34m3\u001B[0m (16.00 B)\n"
      ],
      "text/html": [
       "<pre style=\"white-space:pre;overflow-x:auto;line-height:normal;font-family:Menlo,'DejaVu Sans Mono',consolas,'Courier New',monospace\"><span style=\"font-weight: bold\"> Non-trainable params: </span><span style=\"color: #00af00; text-decoration-color: #00af00\">3</span> (16.00 B)\n",
       "</pre>\n"
      ]
     },
     "metadata": {},
     "output_type": "display_data"
    }
   ],
   "execution_count": 23
  },
  {
   "metadata": {},
   "cell_type": "markdown",
   "source": [
    "### Predict Before Training (For Science)\n",
    "\n",
    "We don't expect good results here. This is just to get a baseline.\n"
   ],
   "id": "11061e0acf300a9e"
  },
  {
   "metadata": {
    "ExecuteTime": {
     "end_time": "2024-05-02T19:02:32.402725Z",
     "start_time": "2024-05-02T19:02:32.263683Z"
    }
   },
   "cell_type": "code",
   "source": [
    "shell_weight_target = np.array(crabs['Age'])\n",
    "shell_weight_preds = shell_weight_model.predict(shell_weight).flatten()\n",
    "\n",
    "print(shell_weight_target)\n",
    "print(shell_weight_preds)\n"
   ],
   "id": "ec19967b452f4c92",
   "outputs": [
    {
     "name": "stdout",
     "output_type": "stream",
     "text": [
      "\u001B[1m122/122\u001B[0m \u001B[32m━━━━━━━━━━━━━━━━━━━━\u001B[0m\u001B[37m\u001B[0m \u001B[1m0s\u001B[0m 521us/step\n",
      "[9 6 6 ... 5 6 8]\n",
      "[-0.00405773 -0.41849196 -0.32227704 ... -0.4921553  -0.3052658\n",
      " -0.42988482]\n"
     ]
    }
   ],
   "execution_count": 24
  },
  {
   "metadata": {},
   "cell_type": "markdown",
   "source": [
    "#### Scores Before Training\n",
    "\n",
    "Throughout this notebook, we will use the following metrics to evaluate the regression model:\n",
    "\n",
    "- **Explained Variance Score**: The best possible score is 1.0, lower values are worse.\n",
    "- **Max Error**: The max error is the worst possible score.\n",
    "- **Mean Squared Error**: The best possible score is 0.0, lower values are better.\n",
    "- **R2 Score**: The best possible score is 1.0, lower values are worse.\n",
    " "
   ],
   "id": "649f267211bb8656"
  },
  {
   "metadata": {
    "ExecuteTime": {
     "end_time": "2024-05-02T19:02:32.410238Z",
     "start_time": "2024-05-02T19:02:32.402725Z"
    }
   },
   "cell_type": "code",
   "source": [
    "naive_scores = score_model(shell_weight_preds, shell_weight_target)\n",
    "\n",
    "naive_scores_df = pd.DataFrame(naive_scores, index=['naive'])\n",
    "naive_scores_df.head()\n"
   ],
   "id": "a51dec67382909bd",
   "outputs": [
    {
     "data": {
      "text/plain": [
       "       explained_variance_score  max_error  mean_squared_error     r2_score\n",
       "naive                -91.710701  28.466877          108.302094 -1090.086989"
      ],
      "text/html": [
       "<div>\n",
       "<style scoped>\n",
       "    .dataframe tbody tr th:only-of-type {\n",
       "        vertical-align: middle;\n",
       "    }\n",
       "\n",
       "    .dataframe tbody tr th {\n",
       "        vertical-align: top;\n",
       "    }\n",
       "\n",
       "    .dataframe thead th {\n",
       "        text-align: right;\n",
       "    }\n",
       "</style>\n",
       "<table border=\"1\" class=\"dataframe\">\n",
       "  <thead>\n",
       "    <tr style=\"text-align: right;\">\n",
       "      <th></th>\n",
       "      <th>explained_variance_score</th>\n",
       "      <th>max_error</th>\n",
       "      <th>mean_squared_error</th>\n",
       "      <th>r2_score</th>\n",
       "    </tr>\n",
       "  </thead>\n",
       "  <tbody>\n",
       "    <tr>\n",
       "      <th>naive</th>\n",
       "      <td>-91.710701</td>\n",
       "      <td>28.466877</td>\n",
       "      <td>108.302094</td>\n",
       "      <td>-1090.086989</td>\n",
       "    </tr>\n",
       "  </tbody>\n",
       "</table>\n",
       "</div>"
      ]
     },
     "execution_count": 25,
     "metadata": {},
     "output_type": "execute_result"
    }
   ],
   "execution_count": 25
  },
  {
   "metadata": {},
   "cell_type": "markdown",
   "source": [
    "#### Pre-Training Observations\n",
    "\n",
    "As expected, the untrained scores are terrible.\n"
   ],
   "id": "520682dd3d6d3eb5"
  },
  {
   "metadata": {},
   "cell_type": "markdown",
   "source": [
    "### Compile the Model\n",
    "\n",
    "Now it's finally time to get learning!\n",
    "\n",
    "We will use the mean squared error as the loss function and the Adam optimizer.\n"
   ],
   "id": "6498181b8753c853"
  },
  {
   "metadata": {
    "ExecuteTime": {
     "end_time": "2024-05-02T19:02:32.415653Z",
     "start_time": "2024-05-02T19:02:32.410751Z"
    }
   },
   "cell_type": "code",
   "source": [
    "shell_weight_model.compile(\n",
    "    optimizer=keras.optimizers.Adam(learning_rate=0.1),\n",
    "    loss='mean_squared_error'\n",
    ")\n"
   ],
   "id": "bde34bbf2d3b38a9",
   "outputs": [],
   "execution_count": 26
  },
  {
   "metadata": {},
   "cell_type": "markdown",
   "source": [
    "### Train the Model\n",
    "\n",
    "Let's train for 100 epochs.\n"
   ],
   "id": "679e91b05c2c4658"
  },
  {
   "metadata": {
    "ExecuteTime": {
     "end_time": "2024-05-02T19:02:40.491085Z",
     "start_time": "2024-05-02T19:02:32.415653Z"
    }
   },
   "cell_type": "code",
   "source": [
    "%%time\n",
    "history = shell_weight_model.fit(\n",
    "    x=crabs['Shell Weight'],\n",
    "    y=crabs[PREDICTION_TARGET],\n",
    "    epochs=100,\n",
    "    verbose=0,\n",
    "    validation_split=0.2\n",
    ")\n"
   ],
   "id": "385d843f636f82cd",
   "outputs": [
    {
     "name": "stdout",
     "output_type": "stream",
     "text": [
      "CPU times: total: 859 ms\n",
      "Wall time: 8.07 s\n"
     ]
    }
   ],
   "execution_count": 27
  },
  {
   "metadata": {},
   "cell_type": "markdown",
   "source": "### Plot the Training History\n",
   "id": "33e6be244cd6fe2b"
  },
  {
   "metadata": {
    "ExecuteTime": {
     "end_time": "2024-05-02T19:02:40.497274Z",
     "start_time": "2024-05-02T19:02:40.491085Z"
    }
   },
   "cell_type": "code",
   "source": [
    "history_df = pd.DataFrame(history.history)\n",
    "history_df['epoch'] = history.epoch\n",
    "history_df.tail()\n"
   ],
   "id": "68c2d446e33e77d0",
   "outputs": [
    {
     "data": {
      "text/plain": [
       "        loss  val_loss  epoch\n",
       "95  6.408494  6.244124     95\n",
       "96  6.404539  6.247466     96\n",
       "97  6.444561  6.153646     97\n",
       "98  6.400075  6.483292     98\n",
       "99  6.419083  6.181911     99"
      ],
      "text/html": [
       "<div>\n",
       "<style scoped>\n",
       "    .dataframe tbody tr th:only-of-type {\n",
       "        vertical-align: middle;\n",
       "    }\n",
       "\n",
       "    .dataframe tbody tr th {\n",
       "        vertical-align: top;\n",
       "    }\n",
       "\n",
       "    .dataframe thead th {\n",
       "        text-align: right;\n",
       "    }\n",
       "</style>\n",
       "<table border=\"1\" class=\"dataframe\">\n",
       "  <thead>\n",
       "    <tr style=\"text-align: right;\">\n",
       "      <th></th>\n",
       "      <th>loss</th>\n",
       "      <th>val_loss</th>\n",
       "      <th>epoch</th>\n",
       "    </tr>\n",
       "  </thead>\n",
       "  <tbody>\n",
       "    <tr>\n",
       "      <th>95</th>\n",
       "      <td>6.408494</td>\n",
       "      <td>6.244124</td>\n",
       "      <td>95</td>\n",
       "    </tr>\n",
       "    <tr>\n",
       "      <th>96</th>\n",
       "      <td>6.404539</td>\n",
       "      <td>6.247466</td>\n",
       "      <td>96</td>\n",
       "    </tr>\n",
       "    <tr>\n",
       "      <th>97</th>\n",
       "      <td>6.444561</td>\n",
       "      <td>6.153646</td>\n",
       "      <td>97</td>\n",
       "    </tr>\n",
       "    <tr>\n",
       "      <th>98</th>\n",
       "      <td>6.400075</td>\n",
       "      <td>6.483292</td>\n",
       "      <td>98</td>\n",
       "    </tr>\n",
       "    <tr>\n",
       "      <th>99</th>\n",
       "      <td>6.419083</td>\n",
       "      <td>6.181911</td>\n",
       "      <td>99</td>\n",
       "    </tr>\n",
       "  </tbody>\n",
       "</table>\n",
       "</div>"
      ]
     },
     "execution_count": 28,
     "metadata": {},
     "output_type": "execute_result"
    }
   ],
   "execution_count": 28
  },
  {
   "metadata": {},
   "cell_type": "markdown",
   "source": "### Plot the Loss History\n",
   "id": "61b01d171638cbd4"
  },
  {
   "metadata": {
    "ExecuteTime": {
     "end_time": "2024-05-02T19:02:40.625455Z",
     "start_time": "2024-05-02T19:02:40.497274Z"
    }
   },
   "cell_type": "code",
   "source": [
    "def plot_loss(history):\n",
    "  plt.plot(history.history['loss'], label='loss')\n",
    "  plt.plot(history.history['val_loss'], label='val_loss')\n",
    "  plt.ylim([0, 10])\n",
    "  plt.xlabel('Epoch')\n",
    "  plt.ylabel('Error [MPG]')\n",
    "  plt.legend()\n",
    "  plt.grid(True)\n",
    "\n",
    "plot_loss(history)\n"
   ],
   "id": "3987b5d45d02c20d",
   "outputs": [
    {
     "data": {
      "text/plain": [
       "<Figure size 640x480 with 1 Axes>"
      ],
      "image/png": "[encoded data removed]"
     },
     "metadata": {},
     "output_type": "display_data"
    }
   ],
   "execution_count": 29
  },
  {
   "metadata": {},
   "cell_type": "markdown",
   "source": [
    "### Predict After Training\n",
    "\n",
    "To see if training improved the model.\n"
   ],
   "id": "d842b40725992e55"
  },
  {
   "metadata": {
    "ExecuteTime": {
     "end_time": "2024-05-02T19:02:40.762811Z",
     "start_time": "2024-05-02T19:02:40.625455Z"
    }
   },
   "cell_type": "code",
   "source": [
    "shell_weight_target = np.array(crabs['Age'])\n",
    "shell_weight_preds = shell_weight_model.predict(shell_weight).flatten()\n",
    "\n",
    "print(shell_weight_target)\n",
    "print(shell_weight_preds)\n"
   ],
   "id": "8a8b6eda8e8fbc5a",
   "outputs": [
    {
     "name": "stdout",
     "output_type": "stream",
     "text": [
      "\u001B[1m122/122\u001B[0m \u001B[32m━━━━━━━━━━━━━━━━━━━━\u001B[0m\u001B[37m\u001B[0m \u001B[1m0s\u001B[0m 505us/step\n",
      "[9 6 6 ... 5 6 8]\n",
      "[10.061938   7.2971125  7.9389935 ...  6.8056803  8.052481   7.2211075]\n"
     ]
    }
   ],
   "execution_count": 30
  },
  {
   "metadata": {},
   "cell_type": "markdown",
   "source": [
    "#### Scores After Training\n",
    "\n",
    "- **Explained Variance Score**: The best possible score is 1.0, lower values are worse.\n",
    "- **Max Error**: The max error is the worst possible score.\n",
    "- **Mean Squared Error**: The best possible score is 0.0, lower values are better.\n",
    "- **R2 Score**: The best possible score is 1.0, lower values are worse.\n",
    " "
   ],
   "id": "bb0affb499754114"
  },
  {
   "metadata": {
    "ExecuteTime": {
     "end_time": "2024-05-02T19:02:40.770326Z",
     "start_time": "2024-05-02T19:02:40.762811Z"
    }
   },
   "cell_type": "code",
   "source": [
    "scores = score_model(shell_weight_preds, shell_weight_target)\n",
    "\n",
    "scores_df = pd.DataFrame(scores, index=['train'])\n",
    "scores_df.head()\n"
   ],
   "id": "da837008bc1c4bdc",
   "outputs": [
    {
     "data": {
      "text/plain": [
       "       explained_variance_score  max_error  mean_squared_error  r2_score\n",
       "train                 -0.431923  15.354357            6.343745 -0.435966"
      ],
      "text/html": [
       "<div>\n",
       "<style scoped>\n",
       "    .dataframe tbody tr th:only-of-type {\n",
       "        vertical-align: middle;\n",
       "    }\n",
       "\n",
       "    .dataframe tbody tr th {\n",
       "        vertical-align: top;\n",
       "    }\n",
       "\n",
       "    .dataframe thead th {\n",
       "        text-align: right;\n",
       "    }\n",
       "</style>\n",
       "<table border=\"1\" class=\"dataframe\">\n",
       "  <thead>\n",
       "    <tr style=\"text-align: right;\">\n",
       "      <th></th>\n",
       "      <th>explained_variance_score</th>\n",
       "      <th>max_error</th>\n",
       "      <th>mean_squared_error</th>\n",
       "      <th>r2_score</th>\n",
       "    </tr>\n",
       "  </thead>\n",
       "  <tbody>\n",
       "    <tr>\n",
       "      <th>train</th>\n",
       "      <td>-0.431923</td>\n",
       "      <td>15.354357</td>\n",
       "      <td>6.343745</td>\n",
       "      <td>-0.435966</td>\n",
       "    </tr>\n",
       "  </tbody>\n",
       "</table>\n",
       "</div>"
      ]
     },
     "execution_count": 31,
     "metadata": {},
     "output_type": "execute_result"
    }
   ],
   "execution_count": 31
  },
  {
   "metadata": {},
   "cell_type": "markdown",
   "source": [
    "\"#### Post-Training Observations\n",
    "\n",
    "The scores are better after training, but not by much. The model is still underfitting.\n",
    "\n",
    "Shell weight alone must not be a good predictor of crab age.\n"
   ],
   "id": "45399c2c3e232b2a"
  },
  {
   "metadata": {},
   "cell_type": "markdown",
   "source": "#### Compare Pre- and Post-Training Predictions",
   "id": "3c459d8cbf50c033"
  },
  {
   "metadata": {
    "ExecuteTime": {
     "end_time": "2024-05-02T19:23:07.793573Z",
     "start_time": "2024-05-02T19:23:07.522520Z"
    }
   },
   "cell_type": "code",
   "source": [
    "def score_comparator(\n",
    "        train_scores:pd.DataFrame,\n",
    "        test_scores:pd.DataFrame,\n",
    "        train_label:str='Train',\n",
    "        test_label:str='Test'\n",
    "):\n",
    "    \"\"\"Plot the scores of two models to compare them.\n",
    "\n",
    "    Disclaimer: Columns may or may not need to match.\n",
    "\n",
    "    :param train_scores: The scores of the training model.\n",
    "    :param test_scores: The scores of the testing model.\n",
    "    :param train_label: The label for the training model. Default is 'Train'.\n",
    "    :param test_label: The label for the testing model. Default is 'Test'.\n",
    "    \"\"\"\n",
    "    \n",
    "    for i, col in enumerate(train_scores.columns):\n",
    "        plt.figure()\n",
    "        plt.title(f'{train_label} vs {test_label}\\n{col}')\n",
    "        plt.bar(i*2, train_scores[col])\n",
    "        plt.bar(i*2+1, test_scores[col])\n",
    "        plt.xticks(ticks=[i*2, i*2+1], labels=[train_label, test_label])\n",
    "    plt.show()\n",
    "# Utility functions imported from mlutils.py\n",
    "score_comparator(naive_scores_df, scores_df, train_label='Naive', test_label='Trained')\n"
   ],
   "id": "d5a587a1dabeba32",
   "outputs": [
    {
     "data": {
      "text/plain": [
       "<Figure size 640x480 with 1 Axes>"
      ],
      "image/png": "[encoded data removed]"
     },
     "metadata": {},
     "output_type": "display_data"
    },
    {
     "data": {
      "text/plain": [
       "<Figure size 640x480 with 1 Axes>"
      ],
      "image/png": "[encoded data removed]"
     },
     "metadata": {},
     "output_type": "display_data"
    },
    {
     "data": {
      "text/plain": [
       "<Figure size 640x480 with 1 Axes>"
      ],
      "image/png": "[encoded data removed]"
     },
     "metadata": {},
     "output_type": "display_data"
    },
    {
     "data": {
      "text/plain": [
       "<Figure size 640x480 with 1 Axes>"
      ],
      "image/png": "[encoded data removed]"
     },
     "metadata": {},
     "output_type": "display_data"
    }
   ],
   "execution_count": 63
  },
  {
   "metadata": {},
   "cell_type": "markdown",
   "source": [
    "### Don't Save this Data\n",
    "\n",
    "We don't want our over-trained model to leak into the [next step](../1-models/models.ipynb).\n"
   ],
   "id": "57ec6a4286ba105c"
  },
  {
   "metadata": {},
   "cell_type": "markdown",
   "source": [
    "### Onwards to Model Selection\n",
    "\n",
    "See the [next section](../1-models/models.ipynb) for model selection.\n"
   ],
   "id": "a19b621f5a2db4ce"
  }
 ],
 "metadata": {
  "kernelspec": {
   "display_name": "Python 3",
   "language": "python",
   "name": "python3"
  },
  "language_info": {
   "codemirror_mode": {
    "name": "ipython",
    "version": 2
   },
   "file_extension": ".py",
   "mimetype": "text/x-python",
   "name": "python",
   "nbconvert_exporter": "python",
   "pygments_lexer": "ipython2",
   "version": "2.7.6"
  }
 },
 "nbformat": 4,
 "nbformat_minor": 5
}
